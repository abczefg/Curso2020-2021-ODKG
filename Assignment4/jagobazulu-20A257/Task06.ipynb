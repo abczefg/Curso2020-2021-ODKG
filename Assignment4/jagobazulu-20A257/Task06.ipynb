{
 "cells": [
  {
   "cell_type": "markdown",
   "metadata": {
    "id": "nOOPLCHF7hLB"
   },
   "source": [
    "**Task 06: Modifying RDF(s)**"
   ]
  },
  {
   "cell_type": "code",
   "execution_count": 7,
   "metadata": {
    "id": "Yl9npCt8n6m-"
   },
   "outputs": [
    {
     "name": "stdout",
     "output_type": "stream",
     "text": [
      "Requirement already satisfied: rdflib in c:\\users\\34652\\anaconda3\\lib\\site-packages (5.0.0)\n",
      "Requirement already satisfied: isodate in c:\\users\\34652\\anaconda3\\lib\\site-packages (from rdflib) (0.6.0)\n",
      "Requirement already satisfied: six in c:\\users\\34652\\anaconda3\\lib\\site-packages (from rdflib) (1.12.0)\n",
      "Requirement already satisfied: pyparsing in c:\\users\\34652\\anaconda3\\lib\\site-packages (from rdflib) (2.4.2)\n"
     ]
    }
   ],
   "source": [
    "!pip install rdflib \n",
    "github_storage = \"https://raw.githubusercontent.com/FacultadInformatica-LinkedData/Curso2020-2021/master/Assignment4\""
   ]
  },
  {
   "cell_type": "markdown",
   "metadata": {
    "id": "XY7aPc86Bqoo"
   },
   "source": [
    "Read the RDF file"
   ]
  },
  {
   "cell_type": "code",
   "execution_count": 8,
   "metadata": {
    "id": "9ERh415on7kF"
   },
   "outputs": [
    {
     "data": {
      "text/plain": [
       "<Graph identifier=N11542b0676f54c2c84cf1f847ea2f101 (<class 'rdflib.graph.Graph'>)>"
      ]
     },
     "execution_count": 8,
     "metadata": {},
     "output_type": "execute_result"
    }
   ],
   "source": [
    "from rdflib import Graph, Namespace, Literal\n",
    "from rdflib.namespace import RDF, RDFS\n",
    "g = Graph()\n",
    "g.namespace_manager.bind('ns', Namespace(\"http://somewhere#\"), override=False)\n",
    "g.namespace_manager.bind('vcard', Namespace(\"http://www.w3.org/2001/vcard-rdf/3.0#\"), override=False)\n",
    "g.parse(github_storage+\"/resources/example5.rdf\", format=\"xml\")"
   ]
  },
  {
   "cell_type": "code",
   "execution_count": 9,
   "metadata": {},
   "outputs": [
    {
     "name": "stdout",
     "output_type": "stream",
     "text": [
      "<?xml version=\"1.0\" encoding=\"UTF-8\"?>\n",
      "<rdf:RDF\n",
      "   xmlns:rdf=\"http://www.w3.org/1999/02/22-rdf-syntax-ns#\"\n",
      "   xmlns:rdfs=\"http://www.w3.org/2000/01/rdf-schema#\"\n",
      "   xmlns:vcard-rdf=\"http://www.w3.org/2001/vcard-rdf/3.0/\"\n",
      ">\n",
      "  <rdf:Description rdf:about=\"http://www.w3.org/2001/vcard-rdf/3.0/FN\">\n",
      "    <rdf:type rdf:resource=\"http://www.w3.org/2000/01/rdf-schema#Datatype\"/>\n",
      "    <rdfs:range rdf:resource=\"http://www.w3.org/2001/XMLSchema#string\"/>\n",
      "  </rdf:Description>\n",
      "  <rdf:Description rdf:about=\"http://somewhere#SaraJones\">\n",
      "    <vcard-rdf:FN rdf:datatype=\"http://www.w3.org/2001/XMLSchema#string\">Sara Jones</vcard-rdf:FN>\n",
      "    <vcard-rdf:Family rdf:datatype=\"http://www.w3.org/2001/XMLSchema#string\">Jones</vcard-rdf:Family>\n",
      "    <vcard-rdf:Given rdf:datatype=\"http://www.w3.org/2001/XMLSchema#string\">Sara</vcard-rdf:Given>\n",
      "    <rdf:type rdf:resource=\"http://somewhere#Person\"/>\n",
      "  </rdf:Description>\n",
      "  <rdf:Description rdf:about=\"http://www.w3.org/2001/vcard-rdf/3.0/Given\">\n",
      "    <rdfs:range rdf:resource=\"http://www.w3.org/2001/XMLSchema#string\"/>\n",
      "    <rdf:type rdf:resource=\"http://www.w3.org/2000/01/rdf-schema#Datatype\"/>\n",
      "  </rdf:Description>\n",
      "  <rdf:Description rdf:about=\"http://somewhere#JohnSmith\">\n",
      "    <vcard-rdf:Family rdf:datatype=\"http://www.w3.org/2001/XMLSchema#string\">Smith</vcard-rdf:Family>\n",
      "    <vcard-rdf:FN rdf:datatype=\"http://www.w3.org/2001/XMLSchema#string\">John Smith</vcard-rdf:FN>\n",
      "    <rdf:type rdf:resource=\"http://somewhere#Person\"/>\n",
      "    <vcard-rdf:Given rdf:datatype=\"http://www.w3.org/2001/XMLSchema#string\">John</vcard-rdf:Given>\n",
      "  </rdf:Description>\n",
      "  <rdf:Description rdf:about=\"http://www.w3.org/2001/vcard-rdf/3.0/Family\">\n",
      "    <rdf:type rdf:resource=\"http://www.w3.org/2000/01/rdf-schema#Property\"/>\n",
      "    <rdfs:range rdf:resource=\"http://www.w3.org/2001/XMLSchema#string\"/>\n",
      "  </rdf:Description>\n",
      "  <rdf:Description rdf:about=\"http://somewhere#Person\">\n",
      "    <rdf:type rdf:resource=\"http://www.w3.org/2000/01/rdf-schema#Class\"/>\n",
      "  </rdf:Description>\n",
      "</rdf:RDF>\n",
      "\n"
     ]
    }
   ],
   "source": [
    "print(g.serialize(format='xml').decode('UTF-8'))"
   ]
  },
  {
   "cell_type": "code",
   "execution_count": 10,
   "metadata": {},
   "outputs": [
    {
     "name": "stdout",
     "output_type": "stream",
     "text": [
      "http://www.w3.org/2001/vcard-rdf/3.0/FN http://www.w3.org/1999/02/22-rdf-syntax-ns#type http://www.w3.org/2000/01/rdf-schema#Datatype\n",
      "http://somewhere#SaraJones http://www.w3.org/2001/vcard-rdf/3.0/FN Sara Jones\n",
      "http://www.w3.org/2001/vcard-rdf/3.0/FN http://www.w3.org/2000/01/rdf-schema#range http://www.w3.org/2001/XMLSchema#string\n",
      "http://somewhere#SaraJones http://www.w3.org/2001/vcard-rdf/3.0/Family Jones\n",
      "http://www.w3.org/2001/vcard-rdf/3.0/Given http://www.w3.org/1999/02/22-rdf-syntax-ns#type http://www.w3.org/2000/01/rdf-schema#Datatype\n",
      "http://somewhere#JohnSmith http://www.w3.org/1999/02/22-rdf-syntax-ns#type http://somewhere#Person\n",
      "http://somewhere#JohnSmith http://www.w3.org/2001/vcard-rdf/3.0/Given John\n",
      "http://somewhere#JohnSmith http://www.w3.org/2001/vcard-rdf/3.0/Family Smith\n",
      "http://www.w3.org/2001/vcard-rdf/3.0/Family http://www.w3.org/2000/01/rdf-schema#range http://www.w3.org/2001/XMLSchema#string\n",
      "http://somewhere#SaraJones http://www.w3.org/1999/02/22-rdf-syntax-ns#type http://somewhere#Person\n",
      "http://somewhere#Person http://www.w3.org/1999/02/22-rdf-syntax-ns#type http://www.w3.org/2000/01/rdf-schema#Class\n",
      "http://www.w3.org/2001/vcard-rdf/3.0/Given http://www.w3.org/2000/01/rdf-schema#range http://www.w3.org/2001/XMLSchema#string\n",
      "http://somewhere#JohnSmith http://www.w3.org/2001/vcard-rdf/3.0/FN John Smith\n",
      "http://www.w3.org/2001/vcard-rdf/3.0/Family http://www.w3.org/1999/02/22-rdf-syntax-ns#type http://www.w3.org/2000/01/rdf-schema#Property\n",
      "http://somewhere#SaraJones http://www.w3.org/2001/vcard-rdf/3.0/Given Sara\n"
     ]
    }
   ],
   "source": [
    "for s, p, o in g.triples((None,None,None)):\n",
    "  print(s,p,o)"
   ]
  },
  {
   "cell_type": "markdown",
   "metadata": {
    "id": "gM3DASkTQQ5Y"
   },
   "source": [
    "Create a new class named Researcher"
   ]
  },
  {
   "cell_type": "code",
   "execution_count": 11,
   "metadata": {
    "id": "6vtudax8Xb7b"
   },
   "outputs": [
    {
     "name": "stdout",
     "output_type": "stream",
     "text": [
      "http://somewhere#SaraJones http://www.w3.org/2001/vcard-rdf/3.0/Family Jones\n",
      "http://somewhere#Researcher http://www.w3.org/1999/02/22-rdf-syntax-ns#type http://www.w3.org/2000/01/rdf-schema#Class\n",
      "http://somewhere#JohnSmith http://www.w3.org/1999/02/22-rdf-syntax-ns#type http://somewhere#Person\n",
      "http://somewhere#JohnSmith http://www.w3.org/2001/vcard-rdf/3.0/Given John\n",
      "http://somewhere#Person http://www.w3.org/1999/02/22-rdf-syntax-ns#type http://www.w3.org/2000/01/rdf-schema#Class\n",
      "http://www.w3.org/2001/vcard-rdf/3.0/Given http://www.w3.org/2000/01/rdf-schema#range http://www.w3.org/2001/XMLSchema#string\n",
      "http://www.w3.org/2001/vcard-rdf/3.0/FN http://www.w3.org/1999/02/22-rdf-syntax-ns#type http://www.w3.org/2000/01/rdf-schema#Datatype\n",
      "http://somewhere#SaraJones http://www.w3.org/2001/vcard-rdf/3.0/FN Sara Jones\n",
      "http://www.w3.org/2001/vcard-rdf/3.0/FN http://www.w3.org/2000/01/rdf-schema#range http://www.w3.org/2001/XMLSchema#string\n",
      "http://www.w3.org/2001/vcard-rdf/3.0/Given http://www.w3.org/1999/02/22-rdf-syntax-ns#type http://www.w3.org/2000/01/rdf-schema#Datatype\n",
      "http://www.w3.org/2001/vcard-rdf/3.0/Family http://www.w3.org/2000/01/rdf-schema#range http://www.w3.org/2001/XMLSchema#string\n",
      "http://somewhere#SaraJones http://www.w3.org/1999/02/22-rdf-syntax-ns#type http://somewhere#Person\n",
      "http://somewhere#JohnSmith http://www.w3.org/2001/vcard-rdf/3.0/Family Smith\n",
      "http://somewhere#JohnSmith http://www.w3.org/2001/vcard-rdf/3.0/FN John Smith\n",
      "http://www.w3.org/2001/vcard-rdf/3.0/Family http://www.w3.org/1999/02/22-rdf-syntax-ns#type http://www.w3.org/2000/01/rdf-schema#Property\n",
      "http://somewhere#SaraJones http://www.w3.org/2001/vcard-rdf/3.0/Given Sara\n"
     ]
    }
   ],
   "source": [
    "ns = Namespace(\"http://somewhere#\")\n",
    "g.add((ns.Researcher, RDF.type, RDFS.Class))\n",
    "for s, p, o in g:\n",
    "  print(s,p,o)"
   ]
  },
  {
   "cell_type": "code",
   "execution_count": 12,
   "metadata": {},
   "outputs": [
    {
     "name": "stdout",
     "output_type": "stream",
     "text": [
      "<?xml version=\"1.0\" encoding=\"UTF-8\"?>\n",
      "<rdf:RDF\n",
      "   xmlns:rdf=\"http://www.w3.org/1999/02/22-rdf-syntax-ns#\"\n",
      "   xmlns:rdfs=\"http://www.w3.org/2000/01/rdf-schema#\"\n",
      "   xmlns:vcard-rdf=\"http://www.w3.org/2001/vcard-rdf/3.0/\"\n",
      ">\n",
      "  <rdf:Description rdf:about=\"http://somewhere#SaraJones\">\n",
      "    <vcard-rdf:FN rdf:datatype=\"http://www.w3.org/2001/XMLSchema#string\">Sara Jones</vcard-rdf:FN>\n",
      "    <vcard-rdf:Family rdf:datatype=\"http://www.w3.org/2001/XMLSchema#string\">Jones</vcard-rdf:Family>\n",
      "    <vcard-rdf:Given rdf:datatype=\"http://www.w3.org/2001/XMLSchema#string\">Sara</vcard-rdf:Given>\n",
      "    <rdf:type rdf:resource=\"http://somewhere#Person\"/>\n",
      "  </rdf:Description>\n",
      "  <rdf:Description rdf:about=\"http://somewhere#Researcher\">\n",
      "    <rdf:type rdf:resource=\"http://www.w3.org/2000/01/rdf-schema#Class\"/>\n",
      "  </rdf:Description>\n",
      "  <rdf:Description rdf:about=\"http://somewhere#JohnSmith\">\n",
      "    <vcard-rdf:Family rdf:datatype=\"http://www.w3.org/2001/XMLSchema#string\">Smith</vcard-rdf:Family>\n",
      "    <vcard-rdf:FN rdf:datatype=\"http://www.w3.org/2001/XMLSchema#string\">John Smith</vcard-rdf:FN>\n",
      "    <rdf:type rdf:resource=\"http://somewhere#Person\"/>\n",
      "    <vcard-rdf:Given rdf:datatype=\"http://www.w3.org/2001/XMLSchema#string\">John</vcard-rdf:Given>\n",
      "  </rdf:Description>\n",
      "  <rdf:Description rdf:about=\"http://somewhere#Person\">\n",
      "    <rdf:type rdf:resource=\"http://www.w3.org/2000/01/rdf-schema#Class\"/>\n",
      "  </rdf:Description>\n",
      "  <rdf:Description rdf:about=\"http://www.w3.org/2001/vcard-rdf/3.0/Given\">\n",
      "    <rdfs:range rdf:resource=\"http://www.w3.org/2001/XMLSchema#string\"/>\n",
      "    <rdf:type rdf:resource=\"http://www.w3.org/2000/01/rdf-schema#Datatype\"/>\n",
      "  </rdf:Description>\n",
      "  <rdf:Description rdf:about=\"http://www.w3.org/2001/vcard-rdf/3.0/FN\">\n",
      "    <rdf:type rdf:resource=\"http://www.w3.org/2000/01/rdf-schema#Datatype\"/>\n",
      "    <rdfs:range rdf:resource=\"http://www.w3.org/2001/XMLSchema#string\"/>\n",
      "  </rdf:Description>\n",
      "  <rdf:Description rdf:about=\"http://www.w3.org/2001/vcard-rdf/3.0/Family\">\n",
      "    <rdf:type rdf:resource=\"http://www.w3.org/2000/01/rdf-schema#Property\"/>\n",
      "    <rdfs:range rdf:resource=\"http://www.w3.org/2001/XMLSchema#string\"/>\n",
      "  </rdf:Description>\n",
      "</rdf:RDF>\n",
      "\n"
     ]
    }
   ],
   "source": [
    "print(g.serialize(format='xml').decode('UTF-8'))"
   ]
  },
  {
   "cell_type": "markdown",
   "metadata": {
    "id": "qp1oe2Eddsvo"
   },
   "source": [
    "**TASK 6.1: Create a new class named \"University\"**"
   ]
  },
  {
   "cell_type": "code",
   "execution_count": 13,
   "metadata": {},
   "outputs": [
    {
     "name": "stdout",
     "output_type": "stream",
     "text": [
      "http://somewhere#SaraJones http://www.w3.org/2001/vcard-rdf/3.0/Family Jones\n",
      "http://somewhere#Researcher http://www.w3.org/1999/02/22-rdf-syntax-ns#type http://www.w3.org/2000/01/rdf-schema#Class\n",
      "http://somewhere#JohnSmith http://www.w3.org/1999/02/22-rdf-syntax-ns#type http://somewhere#Person\n",
      "http://somewhere#JohnSmith http://www.w3.org/2001/vcard-rdf/3.0/Given John\n",
      "http://somewhere#Person http://www.w3.org/1999/02/22-rdf-syntax-ns#type http://www.w3.org/2000/01/rdf-schema#Class\n",
      "http://www.w3.org/2001/vcard-rdf/3.0/Given http://www.w3.org/2000/01/rdf-schema#range http://www.w3.org/2001/XMLSchema#string\n",
      "http://www.w3.org/2001/vcard-rdf/3.0/FN http://www.w3.org/1999/02/22-rdf-syntax-ns#type http://www.w3.org/2000/01/rdf-schema#Datatype\n",
      "http://somewhere#SaraJones http://www.w3.org/2001/vcard-rdf/3.0/FN Sara Jones\n",
      "http://www.w3.org/2001/vcard-rdf/3.0/FN http://www.w3.org/2000/01/rdf-schema#range http://www.w3.org/2001/XMLSchema#string\n",
      "http://www.w3.org/2001/vcard-rdf/3.0/Given http://www.w3.org/1999/02/22-rdf-syntax-ns#type http://www.w3.org/2000/01/rdf-schema#Datatype\n",
      "http://www.w3.org/2001/vcard-rdf/3.0/Family http://www.w3.org/2000/01/rdf-schema#range http://www.w3.org/2001/XMLSchema#string\n",
      "http://somewhere#SaraJones http://www.w3.org/1999/02/22-rdf-syntax-ns#type http://somewhere#Person\n",
      "http://somewhere#University http://www.w3.org/1999/02/22-rdf-syntax-ns#type http://www.w3.org/2000/01/rdf-schema#Class\n",
      "http://somewhere#JohnSmith http://www.w3.org/2001/vcard-rdf/3.0/Family Smith\n",
      "http://somewhere#JohnSmith http://www.w3.org/2001/vcard-rdf/3.0/FN John Smith\n",
      "http://www.w3.org/2001/vcard-rdf/3.0/Family http://www.w3.org/1999/02/22-rdf-syntax-ns#type http://www.w3.org/2000/01/rdf-schema#Property\n",
      "http://somewhere#SaraJones http://www.w3.org/2001/vcard-rdf/3.0/Given Sara\n"
     ]
    }
   ],
   "source": [
    "g.add((ns.University, RDF.type, RDFS.Class))\n",
    "for s, p, o in g:\n",
    "  print(s,p,o)"
   ]
  },
  {
   "cell_type": "code",
   "execution_count": 14,
   "metadata": {},
   "outputs": [
    {
     "name": "stdout",
     "output_type": "stream",
     "text": [
      "<?xml version=\"1.0\" encoding=\"UTF-8\"?>\n",
      "<rdf:RDF\n",
      "   xmlns:rdf=\"http://www.w3.org/1999/02/22-rdf-syntax-ns#\"\n",
      "   xmlns:rdfs=\"http://www.w3.org/2000/01/rdf-schema#\"\n",
      "   xmlns:vcard-rdf=\"http://www.w3.org/2001/vcard-rdf/3.0/\"\n",
      ">\n",
      "  <rdf:Description rdf:about=\"http://somewhere#SaraJones\">\n",
      "    <vcard-rdf:FN rdf:datatype=\"http://www.w3.org/2001/XMLSchema#string\">Sara Jones</vcard-rdf:FN>\n",
      "    <vcard-rdf:Family rdf:datatype=\"http://www.w3.org/2001/XMLSchema#string\">Jones</vcard-rdf:Family>\n",
      "    <vcard-rdf:Given rdf:datatype=\"http://www.w3.org/2001/XMLSchema#string\">Sara</vcard-rdf:Given>\n",
      "    <rdf:type rdf:resource=\"http://somewhere#Person\"/>\n",
      "  </rdf:Description>\n",
      "  <rdf:Description rdf:about=\"http://somewhere#Researcher\">\n",
      "    <rdf:type rdf:resource=\"http://www.w3.org/2000/01/rdf-schema#Class\"/>\n",
      "  </rdf:Description>\n",
      "  <rdf:Description rdf:about=\"http://somewhere#JohnSmith\">\n",
      "    <vcard-rdf:Family rdf:datatype=\"http://www.w3.org/2001/XMLSchema#string\">Smith</vcard-rdf:Family>\n",
      "    <vcard-rdf:FN rdf:datatype=\"http://www.w3.org/2001/XMLSchema#string\">John Smith</vcard-rdf:FN>\n",
      "    <rdf:type rdf:resource=\"http://somewhere#Person\"/>\n",
      "    <vcard-rdf:Given rdf:datatype=\"http://www.w3.org/2001/XMLSchema#string\">John</vcard-rdf:Given>\n",
      "  </rdf:Description>\n",
      "  <rdf:Description rdf:about=\"http://somewhere#Person\">\n",
      "    <rdf:type rdf:resource=\"http://www.w3.org/2000/01/rdf-schema#Class\"/>\n",
      "  </rdf:Description>\n",
      "  <rdf:Description rdf:about=\"http://www.w3.org/2001/vcard-rdf/3.0/Given\">\n",
      "    <rdfs:range rdf:resource=\"http://www.w3.org/2001/XMLSchema#string\"/>\n",
      "    <rdf:type rdf:resource=\"http://www.w3.org/2000/01/rdf-schema#Datatype\"/>\n",
      "  </rdf:Description>\n",
      "  <rdf:Description rdf:about=\"http://www.w3.org/2001/vcard-rdf/3.0/FN\">\n",
      "    <rdf:type rdf:resource=\"http://www.w3.org/2000/01/rdf-schema#Datatype\"/>\n",
      "    <rdfs:range rdf:resource=\"http://www.w3.org/2001/XMLSchema#string\"/>\n",
      "  </rdf:Description>\n",
      "  <rdf:Description rdf:about=\"http://www.w3.org/2001/vcard-rdf/3.0/Family\">\n",
      "    <rdf:type rdf:resource=\"http://www.w3.org/2000/01/rdf-schema#Property\"/>\n",
      "    <rdfs:range rdf:resource=\"http://www.w3.org/2001/XMLSchema#string\"/>\n",
      "  </rdf:Description>\n",
      "  <rdf:Description rdf:about=\"http://somewhere#University\">\n",
      "    <rdf:type rdf:resource=\"http://www.w3.org/2000/01/rdf-schema#Class\"/>\n",
      "  </rdf:Description>\n",
      "</rdf:RDF>\n",
      "\n"
     ]
    }
   ],
   "source": [
    "print(g.serialize(format='xml').decode('UTF-8'))"
   ]
  },
  {
   "cell_type": "markdown",
   "metadata": {
    "id": "MXBqtBkJd22I"
   },
   "source": [
    "**TASK 6.2: Add \"Researcher\" as a subclass of \"Person\"**"
   ]
  },
  {
   "cell_type": "code",
   "execution_count": 15,
   "metadata": {},
   "outputs": [],
   "source": [
    "g.add((ns.Researcher, RDFS.subClassOf, ns.Person))"
   ]
  },
  {
   "cell_type": "code",
   "execution_count": 16,
   "metadata": {},
   "outputs": [
    {
     "name": "stdout",
     "output_type": "stream",
     "text": [
      "<?xml version=\"1.0\" encoding=\"UTF-8\"?>\n",
      "<rdf:RDF\n",
      "   xmlns:rdf=\"http://www.w3.org/1999/02/22-rdf-syntax-ns#\"\n",
      "   xmlns:rdfs=\"http://www.w3.org/2000/01/rdf-schema#\"\n",
      "   xmlns:vcard-rdf=\"http://www.w3.org/2001/vcard-rdf/3.0/\"\n",
      ">\n",
      "  <rdf:Description rdf:about=\"http://somewhere#SaraJones\">\n",
      "    <vcard-rdf:FN rdf:datatype=\"http://www.w3.org/2001/XMLSchema#string\">Sara Jones</vcard-rdf:FN>\n",
      "    <vcard-rdf:Family rdf:datatype=\"http://www.w3.org/2001/XMLSchema#string\">Jones</vcard-rdf:Family>\n",
      "    <vcard-rdf:Given rdf:datatype=\"http://www.w3.org/2001/XMLSchema#string\">Sara</vcard-rdf:Given>\n",
      "    <rdf:type rdf:resource=\"http://somewhere#Person\"/>\n",
      "  </rdf:Description>\n",
      "  <rdf:Description rdf:about=\"http://somewhere#Researcher\">\n",
      "    <rdf:type rdf:resource=\"http://www.w3.org/2000/01/rdf-schema#Class\"/>\n",
      "    <rdfs:subClassOf rdf:resource=\"http://somewhere#Person\"/>\n",
      "  </rdf:Description>\n",
      "  <rdf:Description rdf:about=\"http://somewhere#JohnSmith\">\n",
      "    <vcard-rdf:Family rdf:datatype=\"http://www.w3.org/2001/XMLSchema#string\">Smith</vcard-rdf:Family>\n",
      "    <vcard-rdf:FN rdf:datatype=\"http://www.w3.org/2001/XMLSchema#string\">John Smith</vcard-rdf:FN>\n",
      "    <rdf:type rdf:resource=\"http://somewhere#Person\"/>\n",
      "    <vcard-rdf:Given rdf:datatype=\"http://www.w3.org/2001/XMLSchema#string\">John</vcard-rdf:Given>\n",
      "  </rdf:Description>\n",
      "  <rdf:Description rdf:about=\"http://somewhere#Person\">\n",
      "    <rdf:type rdf:resource=\"http://www.w3.org/2000/01/rdf-schema#Class\"/>\n",
      "  </rdf:Description>\n",
      "  <rdf:Description rdf:about=\"http://www.w3.org/2001/vcard-rdf/3.0/Given\">\n",
      "    <rdfs:range rdf:resource=\"http://www.w3.org/2001/XMLSchema#string\"/>\n",
      "    <rdf:type rdf:resource=\"http://www.w3.org/2000/01/rdf-schema#Datatype\"/>\n",
      "  </rdf:Description>\n",
      "  <rdf:Description rdf:about=\"http://www.w3.org/2001/vcard-rdf/3.0/FN\">\n",
      "    <rdf:type rdf:resource=\"http://www.w3.org/2000/01/rdf-schema#Datatype\"/>\n",
      "    <rdfs:range rdf:resource=\"http://www.w3.org/2001/XMLSchema#string\"/>\n",
      "  </rdf:Description>\n",
      "  <rdf:Description rdf:about=\"http://www.w3.org/2001/vcard-rdf/3.0/Family\">\n",
      "    <rdf:type rdf:resource=\"http://www.w3.org/2000/01/rdf-schema#Property\"/>\n",
      "    <rdfs:range rdf:resource=\"http://www.w3.org/2001/XMLSchema#string\"/>\n",
      "  </rdf:Description>\n",
      "  <rdf:Description rdf:about=\"http://somewhere#University\">\n",
      "    <rdf:type rdf:resource=\"http://www.w3.org/2000/01/rdf-schema#Class\"/>\n",
      "  </rdf:Description>\n",
      "</rdf:RDF>\n",
      "\n"
     ]
    }
   ],
   "source": [
    "print(g.serialize(format='xml').decode('UTF-8'))"
   ]
  },
  {
   "cell_type": "markdown",
   "metadata": {
    "id": "OGct6k7Ld9O0"
   },
   "source": [
    "**TASK 6.3: Create a new individual of Researcher named \"Jane Smith\"**"
   ]
  },
  {
   "cell_type": "code",
   "execution_count": 17,
   "metadata": {},
   "outputs": [],
   "source": [
    "EX = Namespace(\"http://example.org/\")\n",
    "g.add((ns.JaneSmith,RDF.type,ns.Researcher))"
   ]
  },
  {
   "cell_type": "code",
   "execution_count": 18,
   "metadata": {},
   "outputs": [
    {
     "name": "stdout",
     "output_type": "stream",
     "text": [
      "<?xml version=\"1.0\" encoding=\"UTF-8\"?>\n",
      "<rdf:RDF\n",
      "   xmlns:rdf=\"http://www.w3.org/1999/02/22-rdf-syntax-ns#\"\n",
      "   xmlns:rdfs=\"http://www.w3.org/2000/01/rdf-schema#\"\n",
      "   xmlns:vcard-rdf=\"http://www.w3.org/2001/vcard-rdf/3.0/\"\n",
      ">\n",
      "  <rdf:Description rdf:about=\"http://somewhere#SaraJones\">\n",
      "    <vcard-rdf:FN rdf:datatype=\"http://www.w3.org/2001/XMLSchema#string\">Sara Jones</vcard-rdf:FN>\n",
      "    <vcard-rdf:Family rdf:datatype=\"http://www.w3.org/2001/XMLSchema#string\">Jones</vcard-rdf:Family>\n",
      "    <vcard-rdf:Given rdf:datatype=\"http://www.w3.org/2001/XMLSchema#string\">Sara</vcard-rdf:Given>\n",
      "    <rdf:type rdf:resource=\"http://somewhere#Person\"/>\n",
      "  </rdf:Description>\n",
      "  <rdf:Description rdf:about=\"http://somewhere#Researcher\">\n",
      "    <rdf:type rdf:resource=\"http://www.w3.org/2000/01/rdf-schema#Class\"/>\n",
      "    <rdfs:subClassOf rdf:resource=\"http://somewhere#Person\"/>\n",
      "  </rdf:Description>\n",
      "  <rdf:Description rdf:about=\"http://somewhere#JohnSmith\">\n",
      "    <vcard-rdf:Family rdf:datatype=\"http://www.w3.org/2001/XMLSchema#string\">Smith</vcard-rdf:Family>\n",
      "    <vcard-rdf:FN rdf:datatype=\"http://www.w3.org/2001/XMLSchema#string\">John Smith</vcard-rdf:FN>\n",
      "    <rdf:type rdf:resource=\"http://somewhere#Person\"/>\n",
      "    <vcard-rdf:Given rdf:datatype=\"http://www.w3.org/2001/XMLSchema#string\">John</vcard-rdf:Given>\n",
      "  </rdf:Description>\n",
      "  <rdf:Description rdf:about=\"http://somewhere#Person\">\n",
      "    <rdf:type rdf:resource=\"http://www.w3.org/2000/01/rdf-schema#Class\"/>\n",
      "  </rdf:Description>\n",
      "  <rdf:Description rdf:about=\"http://www.w3.org/2001/vcard-rdf/3.0/Given\">\n",
      "    <rdfs:range rdf:resource=\"http://www.w3.org/2001/XMLSchema#string\"/>\n",
      "    <rdf:type rdf:resource=\"http://www.w3.org/2000/01/rdf-schema#Datatype\"/>\n",
      "  </rdf:Description>\n",
      "  <rdf:Description rdf:about=\"http://somewhere#JaneSmith\">\n",
      "    <rdf:type rdf:resource=\"http://somewhere#Researcher\"/>\n",
      "  </rdf:Description>\n",
      "  <rdf:Description rdf:about=\"http://www.w3.org/2001/vcard-rdf/3.0/FN\">\n",
      "    <rdf:type rdf:resource=\"http://www.w3.org/2000/01/rdf-schema#Datatype\"/>\n",
      "    <rdfs:range rdf:resource=\"http://www.w3.org/2001/XMLSchema#string\"/>\n",
      "  </rdf:Description>\n",
      "  <rdf:Description rdf:about=\"http://www.w3.org/2001/vcard-rdf/3.0/Family\">\n",
      "    <rdf:type rdf:resource=\"http://www.w3.org/2000/01/rdf-schema#Property\"/>\n",
      "    <rdfs:range rdf:resource=\"http://www.w3.org/2001/XMLSchema#string\"/>\n",
      "  </rdf:Description>\n",
      "  <rdf:Description rdf:about=\"http://somewhere#University\">\n",
      "    <rdf:type rdf:resource=\"http://www.w3.org/2000/01/rdf-schema#Class\"/>\n",
      "  </rdf:Description>\n",
      "</rdf:RDF>\n",
      "\n"
     ]
    }
   ],
   "source": [
    "print(g.serialize(format='xml').decode('UTF-8'))"
   ]
  },
  {
   "cell_type": "markdown",
   "metadata": {
    "id": "tD383J__eHfV"
   },
   "source": [
    "**TASK 6.4: Add to the individual JaneSmith the fullName, given and family names**"
   ]
  },
  {
   "cell_type": "code",
   "execution_count": 19,
   "metadata": {},
   "outputs": [],
   "source": [
    "from rdflib import XSD\n",
    "VCARD = Namespace(\"http://www.w3.org/2001/vcard-rdf/3.0#\")\n",
    "g.add((ns.JaneSmith,VCARD.FN,Literal('Jane Smith',datatype=XSD.string)))\n",
    "g.add((ns.JaneSmith,VCARD.Family,Literal('Smith',datatype=XSD.string)))\n",
    "g.add((ns.JaneSmith,VCARD.Given,Literal('Jane',datatype=XSD.string)))"
   ]
  },
  {
   "cell_type": "code",
   "execution_count": 20,
   "metadata": {},
   "outputs": [
    {
     "name": "stdout",
     "output_type": "stream",
     "text": [
      "<?xml version=\"1.0\" encoding=\"UTF-8\"?>\n",
      "<rdf:RDF\n",
      "   xmlns:rdf=\"http://www.w3.org/1999/02/22-rdf-syntax-ns#\"\n",
      "   xmlns:rdfs=\"http://www.w3.org/2000/01/rdf-schema#\"\n",
      "   xmlns:vcard=\"http://www.w3.org/2001/vcard-rdf/3.0#\"\n",
      "   xmlns:vcard-rdf=\"http://www.w3.org/2001/vcard-rdf/3.0/\"\n",
      ">\n",
      "  <rdf:Description rdf:about=\"http://somewhere#JaneSmith\">\n",
      "    <vcard:FN rdf:datatype=\"http://www.w3.org/2001/XMLSchema#string\">Jane Smith</vcard:FN>\n",
      "    <rdf:type rdf:resource=\"http://somewhere#Researcher\"/>\n",
      "    <vcard:Given rdf:datatype=\"http://www.w3.org/2001/XMLSchema#string\">Jane</vcard:Given>\n",
      "    <vcard:Family rdf:datatype=\"http://www.w3.org/2001/XMLSchema#string\">Smith</vcard:Family>\n",
      "  </rdf:Description>\n",
      "  <rdf:Description rdf:about=\"http://somewhere#SaraJones\">\n",
      "    <vcard-rdf:FN rdf:datatype=\"http://www.w3.org/2001/XMLSchema#string\">Sara Jones</vcard-rdf:FN>\n",
      "    <vcard-rdf:Family rdf:datatype=\"http://www.w3.org/2001/XMLSchema#string\">Jones</vcard-rdf:Family>\n",
      "    <vcard-rdf:Given rdf:datatype=\"http://www.w3.org/2001/XMLSchema#string\">Sara</vcard-rdf:Given>\n",
      "    <rdf:type rdf:resource=\"http://somewhere#Person\"/>\n",
      "  </rdf:Description>\n",
      "  <rdf:Description rdf:about=\"http://somewhere#Researcher\">\n",
      "    <rdf:type rdf:resource=\"http://www.w3.org/2000/01/rdf-schema#Class\"/>\n",
      "    <rdfs:subClassOf rdf:resource=\"http://somewhere#Person\"/>\n",
      "  </rdf:Description>\n",
      "  <rdf:Description rdf:about=\"http://somewhere#JohnSmith\">\n",
      "    <vcard-rdf:Family rdf:datatype=\"http://www.w3.org/2001/XMLSchema#string\">Smith</vcard-rdf:Family>\n",
      "    <vcard-rdf:FN rdf:datatype=\"http://www.w3.org/2001/XMLSchema#string\">John Smith</vcard-rdf:FN>\n",
      "    <rdf:type rdf:resource=\"http://somewhere#Person\"/>\n",
      "    <vcard-rdf:Given rdf:datatype=\"http://www.w3.org/2001/XMLSchema#string\">John</vcard-rdf:Given>\n",
      "  </rdf:Description>\n",
      "  <rdf:Description rdf:about=\"http://somewhere#Person\">\n",
      "    <rdf:type rdf:resource=\"http://www.w3.org/2000/01/rdf-schema#Class\"/>\n",
      "  </rdf:Description>\n",
      "  <rdf:Description rdf:about=\"http://www.w3.org/2001/vcard-rdf/3.0/Given\">\n",
      "    <rdfs:range rdf:resource=\"http://www.w3.org/2001/XMLSchema#string\"/>\n",
      "    <rdf:type rdf:resource=\"http://www.w3.org/2000/01/rdf-schema#Datatype\"/>\n",
      "  </rdf:Description>\n",
      "  <rdf:Description rdf:about=\"http://www.w3.org/2001/vcard-rdf/3.0/FN\">\n",
      "    <rdf:type rdf:resource=\"http://www.w3.org/2000/01/rdf-schema#Datatype\"/>\n",
      "    <rdfs:range rdf:resource=\"http://www.w3.org/2001/XMLSchema#string\"/>\n",
      "  </rdf:Description>\n",
      "  <rdf:Description rdf:about=\"http://www.w3.org/2001/vcard-rdf/3.0/Family\">\n",
      "    <rdf:type rdf:resource=\"http://www.w3.org/2000/01/rdf-schema#Property\"/>\n",
      "    <rdfs:range rdf:resource=\"http://www.w3.org/2001/XMLSchema#string\"/>\n",
      "  </rdf:Description>\n",
      "  <rdf:Description rdf:about=\"http://somewhere#University\">\n",
      "    <rdf:type rdf:resource=\"http://www.w3.org/2000/01/rdf-schema#Class\"/>\n",
      "  </rdf:Description>\n",
      "</rdf:RDF>\n",
      "\n"
     ]
    }
   ],
   "source": [
    "print(g.serialize(format='xml').decode('UTF-8'))"
   ]
  },
  {
   "cell_type": "markdown",
   "metadata": {
    "id": "GyZOMndoeUj4"
   },
   "source": [
    "**TASK 6.5: Add UPM as the university where John Smith works**"
   ]
  },
  {
   "cell_type": "code",
   "execution_count": 23,
   "metadata": {},
   "outputs": [],
   "source": [
    "g.add((ns.UPM, RDF.type, ns.Univeristy))\n",
    "g.add((ns.JohnSmith, ns.WorksFor, ns.UPM))"
   ]
  },
  {
   "cell_type": "code",
   "execution_count": 24,
   "metadata": {},
   "outputs": [
    {
     "name": "stdout",
     "output_type": "stream",
     "text": [
      "<?xml version=\"1.0\" encoding=\"UTF-8\"?>\n",
      "<rdf:RDF\n",
      "   xmlns:ns=\"http://somewhere#\"\n",
      "   xmlns:rdf=\"http://www.w3.org/1999/02/22-rdf-syntax-ns#\"\n",
      "   xmlns:rdfs=\"http://www.w3.org/2000/01/rdf-schema#\"\n",
      "   xmlns:vcard=\"http://www.w3.org/2001/vcard-rdf/3.0#\"\n",
      "   xmlns:vcard-rdf=\"http://www.w3.org/2001/vcard-rdf/3.0/\"\n",
      ">\n",
      "  <rdf:Description rdf:about=\"http://somewhere#JaneSmith\">\n",
      "    <vcard:FN rdf:datatype=\"http://www.w3.org/2001/XMLSchema#string\">Jane Smith</vcard:FN>\n",
      "    <rdf:type rdf:resource=\"http://somewhere#Researcher\"/>\n",
      "    <vcard:Given rdf:datatype=\"http://www.w3.org/2001/XMLSchema#string\">Jane</vcard:Given>\n",
      "    <vcard:Family rdf:datatype=\"http://www.w3.org/2001/XMLSchema#string\">Smith</vcard:Family>\n",
      "  </rdf:Description>\n",
      "  <rdf:Description rdf:about=\"http://somewhere#SaraJones\">\n",
      "    <vcard-rdf:FN rdf:datatype=\"http://www.w3.org/2001/XMLSchema#string\">Sara Jones</vcard-rdf:FN>\n",
      "    <vcard-rdf:Family rdf:datatype=\"http://www.w3.org/2001/XMLSchema#string\">Jones</vcard-rdf:Family>\n",
      "    <vcard-rdf:Given rdf:datatype=\"http://www.w3.org/2001/XMLSchema#string\">Sara</vcard-rdf:Given>\n",
      "    <rdf:type rdf:resource=\"http://somewhere#Person\"/>\n",
      "  </rdf:Description>\n",
      "  <rdf:Description rdf:about=\"http://somewhere#Researcher\">\n",
      "    <rdf:type rdf:resource=\"http://www.w3.org/2000/01/rdf-schema#Class\"/>\n",
      "    <rdfs:subClassOf rdf:resource=\"http://somewhere#Person\"/>\n",
      "  </rdf:Description>\n",
      "  <rdf:Description rdf:about=\"http://somewhere#JohnSmith\">\n",
      "    <ns:WorksFor rdf:resource=\"http://somewhere#UPM\"/>\n",
      "    <vcard-rdf:Family rdf:datatype=\"http://www.w3.org/2001/XMLSchema#string\">Smith</vcard-rdf:Family>\n",
      "    <vcard:Work rdf:datatype=\"http://www.w3.org/2001/XMLSchema#string\">UPM</vcard:Work>\n",
      "    <vcard-rdf:FN rdf:datatype=\"http://www.w3.org/2001/XMLSchema#string\">John Smith</vcard-rdf:FN>\n",
      "    <rdf:type rdf:resource=\"http://somewhere#Person\"/>\n",
      "    <vcard-rdf:Given rdf:datatype=\"http://www.w3.org/2001/XMLSchema#string\">John</vcard-rdf:Given>\n",
      "  </rdf:Description>\n",
      "  <rdf:Description rdf:about=\"http://somewhere#Person\">\n",
      "    <rdf:type rdf:resource=\"http://www.w3.org/2000/01/rdf-schema#Class\"/>\n",
      "  </rdf:Description>\n",
      "  <rdf:Description rdf:about=\"http://www.w3.org/2001/vcard-rdf/3.0/Given\">\n",
      "    <rdfs:range rdf:resource=\"http://www.w3.org/2001/XMLSchema#string\"/>\n",
      "    <rdf:type rdf:resource=\"http://www.w3.org/2000/01/rdf-schema#Datatype\"/>\n",
      "  </rdf:Description>\n",
      "  <rdf:Description rdf:about=\"http://www.w3.org/2001/vcard-rdf/3.0/FN\">\n",
      "    <rdf:type rdf:resource=\"http://www.w3.org/2000/01/rdf-schema#Datatype\"/>\n",
      "    <rdfs:range rdf:resource=\"http://www.w3.org/2001/XMLSchema#string\"/>\n",
      "  </rdf:Description>\n",
      "  <rdf:Description rdf:about=\"http://www.w3.org/2001/vcard-rdf/3.0/Family\">\n",
      "    <rdf:type rdf:resource=\"http://www.w3.org/2000/01/rdf-schema#Property\"/>\n",
      "    <rdfs:range rdf:resource=\"http://www.w3.org/2001/XMLSchema#string\"/>\n",
      "  </rdf:Description>\n",
      "  <rdf:Description rdf:about=\"http://somewhere#University\">\n",
      "    <rdf:type rdf:resource=\"http://www.w3.org/2000/01/rdf-schema#Class\"/>\n",
      "  </rdf:Description>\n",
      "  <rdf:Description rdf:about=\"http://somewhere#UPM\">\n",
      "    <rdf:type rdf:resource=\"http://somewhere#Univeristy\"/>\n",
      "  </rdf:Description>\n",
      "</rdf:RDF>\n",
      "\n"
     ]
    }
   ],
   "source": [
    "print(g.serialize(format='xml').decode('UTF-8'))"
   ]
  },
  {
   "cell_type": "code",
   "execution_count": null,
   "metadata": {},
   "outputs": [],
   "source": []
  },
  {
   "cell_type": "code",
   "execution_count": null,
   "metadata": {},
   "outputs": [],
   "source": []
  }
 ],
 "metadata": {
  "colab": {
   "collapsed_sections": [],
   "name": "Task06.ipynb",
   "provenance": []
  },
  "kernelspec": {
   "display_name": "Python 3",
   "language": "python",
   "name": "python3"
  },
  "language_info": {
   "codemirror_mode": {
    "name": "ipython",
    "version": 3
   },
   "file_extension": ".py",
   "mimetype": "text/x-python",
   "name": "python",
   "nbconvert_exporter": "python",
   "pygments_lexer": "ipython3",
   "version": "3.7.4"
  }
 },
 "nbformat": 4,
 "nbformat_minor": 1
}
