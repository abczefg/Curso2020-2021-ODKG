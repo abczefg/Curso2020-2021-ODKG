{
 "cells": [
  {
   "cell_type": "markdown",
   "metadata": {
    "id": "nOOPLCHF7hLB"
   },
   "source": [
    "**Task 07: Querying RDF(s)**"
   ]
  },
  {
   "cell_type": "code",
   "execution_count": 2,
   "metadata": {
    "id": "Yl9npCt8n6m-"
   },
   "outputs": [
    {
     "name": "stdout",
     "output_type": "stream",
     "text": [
      "Requirement already satisfied: rdflib in c:\\users\\34652\\anaconda3\\lib\\site-packages (5.0.0)\n",
      "Requirement already satisfied: six in c:\\users\\34652\\anaconda3\\lib\\site-packages (from rdflib) (1.12.0)\n",
      "Requirement already satisfied: isodate in c:\\users\\34652\\anaconda3\\lib\\site-packages (from rdflib) (0.6.0)\n",
      "Requirement already satisfied: pyparsing in c:\\users\\34652\\anaconda3\\lib\\site-packages (from rdflib) (2.4.2)\n"
     ]
    }
   ],
   "source": [
    "!pip install rdflib \n",
    "github_storage = \"https://raw.githubusercontent.com/FacultadInformatica-LinkedData/Curso2020-2021/master/Assignment4\""
   ]
  },
  {
   "cell_type": "markdown",
   "metadata": {
    "id": "XY7aPc86Bqoo"
   },
   "source": [
    "Read the RDF file"
   ]
  },
  {
   "cell_type": "code",
   "execution_count": 3,
   "metadata": {
    "id": "9ERh415on7kF"
   },
   "outputs": [
    {
     "data": {
      "text/plain": [
       "<Graph identifier=Nee83f880b61c4f7e8a871f7324ec7250 (<class 'rdflib.graph.Graph'>)>"
      ]
     },
     "execution_count": 3,
     "metadata": {},
     "output_type": "execute_result"
    }
   ],
   "source": [
    "from rdflib import Graph, Namespace, Literal\n",
    "from rdflib.namespace import RDF, RDFS\n",
    "g = Graph()\n",
    "g.namespace_manager.bind('ns', Namespace(\"http://somewhere#\"), override=False)\n",
    "g.namespace_manager.bind('vcard', Namespace(\"http://www.w3.org/2001/vcard-rdf/3.0#\"), override=False)\n",
    "g.parse(github_storage+\"/resources/example6.rdf\", format=\"xml\")"
   ]
  },
  {
   "cell_type": "code",
   "execution_count": 4,
   "metadata": {},
   "outputs": [
    {
     "name": "stdout",
     "output_type": "stream",
     "text": [
      "<?xml version=\"1.0\" encoding=\"UTF-8\"?>\n",
      "<rdf:RDF\n",
      "   xmlns:rdf=\"http://www.w3.org/1999/02/22-rdf-syntax-ns#\"\n",
      "   xmlns:rdfs=\"http://www.w3.org/2000/01/rdf-schema#\"\n",
      "   xmlns:vcard-rdf=\"http://somewhere#http://www.w3.org/2001/vcard-rdf/3.0/\"\n",
      ">\n",
      "  <rdf:Description rdf:about=\"http://somewhere#Person\">\n",
      "    <rdf:type rdf:resource=\"http://www.w3.org/2000/01/rdf-schema#Class\"/>\n",
      "  </rdf:Description>\n",
      "  <rdf:Description rdf:about=\"http://somewhere#SaraJones\">\n",
      "    <vcard-rdf:Family rdf:datatype=\"http://www.w3.org/2001/XMLSchema#string\">Jones</vcard-rdf:Family>\n",
      "    <vcard-rdf:Given rdf:datatype=\"http://www.w3.org/2001/XMLSchema#string\">Sara</vcard-rdf:Given>\n",
      "    <vcard-rdf:FN rdf:datatype=\"http://www.w3.org/2001/XMLSchema#string\">Sara Jones</vcard-rdf:FN>\n",
      "    <rdf:type rdf:resource=\"http://somewhere#Person\"/>\n",
      "  </rdf:Description>\n",
      "  <rdf:Description rdf:about=\"http://somewhere#JohnSmith\">\n",
      "    <vcard-rdf:Given rdf:datatype=\"http://www.w3.org/2001/XMLSchema#string\">John</vcard-rdf:Given>\n",
      "    <vcard-rdf:Family rdf:datatype=\"http://www.w3.org/2001/XMLSchema#string\">Smith</vcard-rdf:Family>\n",
      "    <rdf:type rdf:resource=\"http://somewhere#Person\"/>\n",
      "    <vcard-rdf:FN rdf:datatype=\"http://www.w3.org/2001/XMLSchema#string\">John Smith</vcard-rdf:FN>\n",
      "  </rdf:Description>\n",
      "  <rdf:Description rdf:about=\"http://somewhere#University\">\n",
      "    <rdf:type rdf:resource=\"http://www.w3.org/2000/01/rdf-schema#Class\"/>\n",
      "  </rdf:Description>\n",
      "  <rdf:Description rdf:about=\"http://somewhere#Researcher\">\n",
      "    <rdf:type rdf:resource=\"http://www.w3.org/2000/01/rdf-schema#Class\"/>\n",
      "    <rdfs:subClassOf rdf:resource=\"http://somewhere#Person\"/>\n",
      "  </rdf:Description>\n",
      "  <rdf:Description rdf:about=\"http://somewhere#http://www.w3.org/2001/vcard-rdf/3.0/FN\">\n",
      "    <rdf:type rdf:resource=\"http://www.w3.org/2000/01/rdf-schema#Datatype\"/>\n",
      "    <rdfs:range rdf:resource=\"http://www.w3.org/2001/XMLSchema#string\"/>\n",
      "  </rdf:Description>\n",
      "  <rdf:Description rdf:about=\"http://somewhere#http://www.w3.org/2001/vcard-rdf/3.0/Given\">\n",
      "    <rdf:type rdf:resource=\"http://www.w3.org/2000/01/rdf-schema#Datatype\"/>\n",
      "    <rdfs:range rdf:resource=\"http://www.w3.org/2001/XMLSchema#string\"/>\n",
      "  </rdf:Description>\n",
      "  <rdf:Description rdf:about=\"http://somewhere#PhDstudent\">\n",
      "    <rdfs:subClassOf rdf:resource=\"http://somewhere#Researcher\"/>\n",
      "    <rdf:type rdf:resource=\"http://www.w3.org/2000/01/rdf-schema#Class\"/>\n",
      "  </rdf:Description>\n",
      "  <rdf:Description rdf:about=\"http://somewhere#JaneSmith\">\n",
      "    <vcard-rdf:Family rdf:datatype=\"http://www.w3.org/2001/XMLSchema#string\">Smith</vcard-rdf:Family>\n",
      "    <vcard-rdf:Given rdf:datatype=\"http://www.w3.org/2001/XMLSchema#string\">Jane</vcard-rdf:Given>\n",
      "    <rdf:type rdf:resource=\"http://somewhere#Researcher\"/>\n",
      "    <vcard-rdf:FN rdf:datatype=\"http://www.w3.org/2001/XMLSchema#string\">jane Smith</vcard-rdf:FN>\n",
      "  </rdf:Description>\n",
      "  <rdf:Description rdf:about=\"http://somewhere#http://www.w3.org/2001/vcard-rdf/3.0/Family\">\n",
      "    <rdfs:range rdf:resource=\"http://www.w3.org/2001/XMLSchema#string\"/>\n",
      "    <rdf:type rdf:resource=\"http://www.w3.org/2000/01/rdf-schema#Property\"/>\n",
      "  </rdf:Description>\n",
      "  <rdf:Description rdf:about=\"http://somewhere#UPM\">\n",
      "    <rdf:type rdf:resource=\"http://somewhere#University\"/>\n",
      "  </rdf:Description>\n",
      "</rdf:RDF>\n",
      "\n"
     ]
    }
   ],
   "source": [
    "print(g.serialize(format='xml').decode('UTF-8'))"
   ]
  },
  {
   "cell_type": "markdown",
   "metadata": {
    "id": "qp1oe2Eddsvo"
   },
   "source": [
    "**TASK 7.1: List all subclasses of \"Person\" with RDFLib and SPARQL**"
   ]
  },
  {
   "cell_type": "markdown",
   "metadata": {},
   "source": [
    "#### SPARQL"
   ]
  },
  {
   "cell_type": "code",
   "execution_count": 6,
   "metadata": {},
   "outputs": [
    {
     "name": "stdout",
     "output_type": "stream",
     "text": [
      "http://somewhere#Person\n",
      "http://somewhere#Researcher\n",
      "http://somewhere#PhDstudent\n"
     ]
    }
   ],
   "source": [
    "from rdflib.plugins.sparql import prepareQuery\n",
    "ns = Namespace(\"http://somewhere#\")\n",
    "q1 = prepareQuery('''\n",
    "    SELECT\n",
    "        ?Subject \n",
    "        WHERE {\n",
    "        ?Subject RDFS:subClassOf* ?SuperClass.\n",
    "    }\n",
    "    '''\n",
    "    ,initNs = {\"RDFS\" : RDFS}\n",
    ")\n",
    "\n",
    "for r in g.query(q1, initBindings = {'?SuperClass' : ns.Person}):\n",
    "    print(r.Subject)"
   ]
  },
  {
   "cell_type": "markdown",
   "metadata": {},
   "source": [
    "#### RDFlib"
   ]
  },
  {
   "cell_type": "code",
   "execution_count": 95,
   "metadata": {},
   "outputs": [
    {
     "name": "stdout",
     "output_type": "stream",
     "text": [
      "http://somewhere#Person\n",
      "http://somewhere#Researcher\n",
      "http://somewhere#PhDstudent\n"
     ]
    }
   ],
   "source": [
    "import rdflib\n",
    "Person = rdflib.resource.Resource(g, ns.Person)\n",
    "Subclasses = list(Person.transitive_subjects(RDFS.subClassOf))\n",
    "\n",
    "for subclass in Subclasses:\n",
    "    print(subclass.identifier)"
   ]
  },
  {
   "cell_type": "code",
   "execution_count": 56,
   "metadata": {},
   "outputs": [
    {
     "name": "stdout",
     "output_type": "stream",
     "text": [
      "<?xml version=\"1.0\" encoding=\"UTF-8\"?>\n",
      "<rdf:RDF\n",
      "   xmlns:rdf=\"http://www.w3.org/1999/02/22-rdf-syntax-ns#\"\n",
      "   xmlns:rdfs=\"http://www.w3.org/2000/01/rdf-schema#\"\n",
      "   xmlns:vcard-rdf=\"http://somewhere#http://www.w3.org/2001/vcard-rdf/3.0/\"\n",
      ">\n",
      "  <rdf:Description rdf:about=\"http://somewhere#http://www.w3.org/2001/vcard-rdf/3.0/FN\">\n",
      "    <rdfs:range rdf:resource=\"http://www.w3.org/2001/XMLSchema#string\"/>\n",
      "    <rdf:type rdf:resource=\"http://www.w3.org/2000/01/rdf-schema#Datatype\"/>\n",
      "  </rdf:Description>\n",
      "  <rdf:Description rdf:about=\"http://somewhere#http://www.w3.org/2001/vcard-rdf/3.0/Family\">\n",
      "    <rdf:type rdf:resource=\"http://www.w3.org/2000/01/rdf-schema#Property\"/>\n",
      "    <rdfs:range rdf:resource=\"http://www.w3.org/2001/XMLSchema#string\"/>\n",
      "  </rdf:Description>\n",
      "  <rdf:Description rdf:about=\"http://somewhere#JohnSmith\">\n",
      "    <rdf:type rdf:resource=\"http://somewhere#Person\"/>\n",
      "    <vcard-rdf:Given rdf:datatype=\"http://www.w3.org/2001/XMLSchema#string\">John</vcard-rdf:Given>\n",
      "    <vcard-rdf:Family rdf:datatype=\"http://www.w3.org/2001/XMLSchema#string\">Smith</vcard-rdf:Family>\n",
      "    <vcard-rdf:FN rdf:datatype=\"http://www.w3.org/2001/XMLSchema#string\">John Smith</vcard-rdf:FN>\n",
      "  </rdf:Description>\n",
      "  <rdf:Description rdf:about=\"http://somewhere#PhDstudent\">\n",
      "    <rdf:type rdf:resource=\"http://www.w3.org/2000/01/rdf-schema#Class\"/>\n",
      "    <rdfs:subClassOf rdf:resource=\"http://somewhere#Researcher\"/>\n",
      "  </rdf:Description>\n",
      "  <rdf:Description rdf:about=\"http://somewhere#Researcher\">\n",
      "    <rdfs:subClassOf rdf:resource=\"http://somewhere#Person\"/>\n",
      "    <rdf:type rdf:resource=\"http://www.w3.org/2000/01/rdf-schema#Class\"/>\n",
      "  </rdf:Description>\n",
      "  <rdf:Description rdf:about=\"http://somewhere#JaneSmith\">\n",
      "    <vcard-rdf:FN rdf:datatype=\"http://www.w3.org/2001/XMLSchema#string\">jane Smith</vcard-rdf:FN>\n",
      "    <vcard-rdf:Given rdf:datatype=\"http://www.w3.org/2001/XMLSchema#string\">Jane</vcard-rdf:Given>\n",
      "    <rdf:type rdf:resource=\"http://somewhere#Researcher\"/>\n",
      "    <vcard-rdf:Family rdf:datatype=\"http://www.w3.org/2001/XMLSchema#string\">Smith</vcard-rdf:Family>\n",
      "  </rdf:Description>\n",
      "  <rdf:Description rdf:about=\"http://somewhere#http://www.w3.org/2001/vcard-rdf/3.0/Given\">\n",
      "    <rdfs:range rdf:resource=\"http://www.w3.org/2001/XMLSchema#string\"/>\n",
      "    <rdf:type rdf:resource=\"http://www.w3.org/2000/01/rdf-schema#Datatype\"/>\n",
      "  </rdf:Description>\n",
      "  <rdf:Description rdf:about=\"http://somewhere#SaraJones\">\n",
      "    <vcard-rdf:Given rdf:datatype=\"http://www.w3.org/2001/XMLSchema#string\">Sara</vcard-rdf:Given>\n",
      "    <vcard-rdf:Family rdf:datatype=\"http://www.w3.org/2001/XMLSchema#string\">Jones</vcard-rdf:Family>\n",
      "    <vcard-rdf:FN rdf:datatype=\"http://www.w3.org/2001/XMLSchema#string\">Sara Jones</vcard-rdf:FN>\n",
      "    <rdf:type rdf:resource=\"http://somewhere#Person\"/>\n",
      "  </rdf:Description>\n",
      "  <rdf:Description rdf:about=\"http://somewhere#UPM\">\n",
      "    <rdf:type rdf:resource=\"http://somewhere#University\"/>\n",
      "  </rdf:Description>\n",
      "  <rdf:Description rdf:about=\"http://somewhere#Person\">\n",
      "    <rdf:type rdf:resource=\"http://www.w3.org/2000/01/rdf-schema#Class\"/>\n",
      "  </rdf:Description>\n",
      "  <rdf:Description rdf:about=\"http://somewhere#University\">\n",
      "    <rdf:type rdf:resource=\"http://www.w3.org/2000/01/rdf-schema#Class\"/>\n",
      "  </rdf:Description>\n",
      "</rdf:RDF>\n",
      "\n"
     ]
    }
   ],
   "source": [
    "print(g.serialize(format='xml').decode('UTF-8'))"
   ]
  },
  {
   "cell_type": "markdown",
   "metadata": {
    "id": "gM3DASkTQQ5Y"
   },
   "source": [
    "**TASK 7.2: List all individuals of \"Person\" with RDFLib and SPARQL (remember the subClasses)**\n"
   ]
  },
  {
   "cell_type": "code",
   "execution_count": 74,
   "metadata": {},
   "outputs": [
    {
     "name": "stdout",
     "output_type": "stream",
     "text": [
      "http://somewhere#JohnSmith\n",
      "http://somewhere#SaraJones\n",
      "http://somewhere#JaneSmith\n"
     ]
    }
   ],
   "source": [
    "from rdflib.plugins.sparql import prepareQuery\n",
    "ns = Namespace (\"http://somewhere#\")\n",
    "q2 = prepareQuery('''\n",
    "    SELECT DISTINCT\n",
    "        ?Subject \n",
    "        WHERE {\n",
    "        ?x RDFS:subClassOf* ns:Person.\n",
    "        ?Subject RDF:type ?x.\n",
    "        \n",
    "    }\n",
    "    '''\n",
    "    ,initNs = {\"RDF\" : RDF, \"RDFS\" : RDFS, \"ns\": ns , }\n",
    ")\n",
    "\n",
    "# ns = Namespace (\"http://somewhere#\")\n",
    "\n",
    "for r in g.query(q2):\n",
    "    print(r.Subject)"
   ]
  },
  {
   "cell_type": "markdown",
   "metadata": {},
   "source": [
    "### RDFlib"
   ]
  },
  {
   "cell_type": "code",
   "execution_count": 94,
   "metadata": {},
   "outputs": [
    {
     "name": "stdout",
     "output_type": "stream",
     "text": [
      "http://somewhere#JohnSmith\n",
      "http://somewhere#SaraJones\n",
      "http://somewhere#JaneSmith\n"
     ]
    }
   ],
   "source": [
    "for subclass in Subclasses:\n",
    "#     print(subclass)\n",
    "    for s,p,o in g.triples((None,RDF.type,subclass.identifier)):\n",
    "        print(s)"
   ]
  },
  {
   "cell_type": "code",
   "execution_count": 75,
   "metadata": {},
   "outputs": [
    {
     "name": "stdout",
     "output_type": "stream",
     "text": [
      "<?xml version=\"1.0\" encoding=\"UTF-8\"?>\n",
      "<rdf:RDF\n",
      "   xmlns:rdf=\"http://www.w3.org/1999/02/22-rdf-syntax-ns#\"\n",
      "   xmlns:rdfs=\"http://www.w3.org/2000/01/rdf-schema#\"\n",
      "   xmlns:vcard-rdf=\"http://somewhere#http://www.w3.org/2001/vcard-rdf/3.0/\"\n",
      ">\n",
      "  <rdf:Description rdf:about=\"http://somewhere#http://www.w3.org/2001/vcard-rdf/3.0/FN\">\n",
      "    <rdfs:range rdf:resource=\"http://www.w3.org/2001/XMLSchema#string\"/>\n",
      "    <rdf:type rdf:resource=\"http://www.w3.org/2000/01/rdf-schema#Datatype\"/>\n",
      "  </rdf:Description>\n",
      "  <rdf:Description rdf:about=\"http://somewhere#http://www.w3.org/2001/vcard-rdf/3.0/Family\">\n",
      "    <rdf:type rdf:resource=\"http://www.w3.org/2000/01/rdf-schema#Property\"/>\n",
      "    <rdfs:range rdf:resource=\"http://www.w3.org/2001/XMLSchema#string\"/>\n",
      "  </rdf:Description>\n",
      "  <rdf:Description rdf:about=\"http://somewhere#JohnSmith\">\n",
      "    <rdf:type rdf:resource=\"http://somewhere#Person\"/>\n",
      "    <vcard-rdf:Given rdf:datatype=\"http://www.w3.org/2001/XMLSchema#string\">John</vcard-rdf:Given>\n",
      "    <vcard-rdf:Family rdf:datatype=\"http://www.w3.org/2001/XMLSchema#string\">Smith</vcard-rdf:Family>\n",
      "    <vcard-rdf:FN rdf:datatype=\"http://www.w3.org/2001/XMLSchema#string\">John Smith</vcard-rdf:FN>\n",
      "  </rdf:Description>\n",
      "  <rdf:Description rdf:about=\"http://somewhere#PhDstudent\">\n",
      "    <rdf:type rdf:resource=\"http://www.w3.org/2000/01/rdf-schema#Class\"/>\n",
      "    <rdfs:subClassOf rdf:resource=\"http://somewhere#Researcher\"/>\n",
      "  </rdf:Description>\n",
      "  <rdf:Description rdf:about=\"http://somewhere#Researcher\">\n",
      "    <rdfs:subClassOf rdf:resource=\"http://somewhere#Person\"/>\n",
      "    <rdf:type rdf:resource=\"http://www.w3.org/2000/01/rdf-schema#Class\"/>\n",
      "  </rdf:Description>\n",
      "  <rdf:Description rdf:about=\"http://somewhere#JaneSmith\">\n",
      "    <vcard-rdf:FN rdf:datatype=\"http://www.w3.org/2001/XMLSchema#string\">jane Smith</vcard-rdf:FN>\n",
      "    <vcard-rdf:Given rdf:datatype=\"http://www.w3.org/2001/XMLSchema#string\">Jane</vcard-rdf:Given>\n",
      "    <rdf:type rdf:resource=\"http://somewhere#Researcher\"/>\n",
      "    <vcard-rdf:Family rdf:datatype=\"http://www.w3.org/2001/XMLSchema#string\">Smith</vcard-rdf:Family>\n",
      "  </rdf:Description>\n",
      "  <rdf:Description rdf:about=\"http://somewhere#http://www.w3.org/2001/vcard-rdf/3.0/Given\">\n",
      "    <rdfs:range rdf:resource=\"http://www.w3.org/2001/XMLSchema#string\"/>\n",
      "    <rdf:type rdf:resource=\"http://www.w3.org/2000/01/rdf-schema#Datatype\"/>\n",
      "  </rdf:Description>\n",
      "  <rdf:Description rdf:about=\"http://somewhere#SaraJones\">\n",
      "    <vcard-rdf:Given rdf:datatype=\"http://www.w3.org/2001/XMLSchema#string\">Sara</vcard-rdf:Given>\n",
      "    <vcard-rdf:Family rdf:datatype=\"http://www.w3.org/2001/XMLSchema#string\">Jones</vcard-rdf:Family>\n",
      "    <vcard-rdf:FN rdf:datatype=\"http://www.w3.org/2001/XMLSchema#string\">Sara Jones</vcard-rdf:FN>\n",
      "    <rdf:type rdf:resource=\"http://somewhere#Person\"/>\n",
      "  </rdf:Description>\n",
      "  <rdf:Description rdf:about=\"http://somewhere#UPM\">\n",
      "    <rdf:type rdf:resource=\"http://somewhere#University\"/>\n",
      "  </rdf:Description>\n",
      "  <rdf:Description rdf:about=\"http://somewhere#Person\">\n",
      "    <rdf:type rdf:resource=\"http://www.w3.org/2000/01/rdf-schema#Class\"/>\n",
      "  </rdf:Description>\n",
      "  <rdf:Description rdf:about=\"http://somewhere#University\">\n",
      "    <rdf:type rdf:resource=\"http://www.w3.org/2000/01/rdf-schema#Class\"/>\n",
      "  </rdf:Description>\n",
      "</rdf:RDF>\n",
      "\n"
     ]
    }
   ],
   "source": [
    "print(g.serialize(format='xml').decode('UTF-8'))"
   ]
  },
  {
   "cell_type": "markdown",
   "metadata": {
    "id": "MXBqtBkJd22I"
   },
   "source": [
    "**TASK 7.3: List all individuals of \"Person\" and all their properties including their class with RDFLib and SPARQL**\n"
   ]
  },
  {
   "cell_type": "code",
   "execution_count": 81,
   "metadata": {},
   "outputs": [
    {
     "name": "stdout",
     "output_type": "stream",
     "text": [
      "http://somewhere#JohnSmith http://www.w3.org/1999/02/22-rdf-syntax-ns#type http://somewhere#Person\n",
      "http://somewhere#JohnSmith http://somewhere#http://www.w3.org/2001/vcard-rdf/3.0/Given John\n",
      "http://somewhere#JohnSmith http://somewhere#http://www.w3.org/2001/vcard-rdf/3.0/Family Smith\n",
      "http://somewhere#JohnSmith http://somewhere#http://www.w3.org/2001/vcard-rdf/3.0/FN John Smith\n",
      "http://somewhere#SaraJones http://somewhere#http://www.w3.org/2001/vcard-rdf/3.0/Given Sara\n",
      "http://somewhere#SaraJones http://somewhere#http://www.w3.org/2001/vcard-rdf/3.0/Family Jones\n",
      "http://somewhere#SaraJones http://somewhere#http://www.w3.org/2001/vcard-rdf/3.0/FN Sara Jones\n",
      "http://somewhere#SaraJones http://www.w3.org/1999/02/22-rdf-syntax-ns#type http://somewhere#Person\n",
      "http://somewhere#JaneSmith http://somewhere#http://www.w3.org/2001/vcard-rdf/3.0/FN jane Smith\n",
      "http://somewhere#JaneSmith http://somewhere#http://www.w3.org/2001/vcard-rdf/3.0/Given Jane\n",
      "http://somewhere#JaneSmith http://www.w3.org/1999/02/22-rdf-syntax-ns#type http://somewhere#Researcher\n",
      "http://somewhere#JaneSmith http://somewhere#http://www.w3.org/2001/vcard-rdf/3.0/Family Smith\n"
     ]
    }
   ],
   "source": [
    "from rdflib.plugins.sparql import prepareQuery\n",
    "ns    = Namespace (\"http://somewhere#\")\n",
    "VCARD = Namespace(\"http://somewhere#http://www.w3.org/2001/vcard-rdf/3.0/\")\n",
    "\n",
    "q3 = prepareQuery('''\n",
    "    SELECT DISTINCT\n",
    "        ?Subject ?Property ?Value\n",
    "        WHERE {\n",
    "        ?x RDFS:subClassOf* ns:Person.\n",
    "        ?Subject RDF:type ?x.\n",
    "        ?Subject ?Property ?Value\n",
    "        \n",
    "    }\n",
    "    '''\n",
    "    ,initNs = {\"RDF\" : RDF, \"RDFS\" : RDFS, \"VCARD\" : VCARD, \"ns\" : ns}\n",
    ")\n",
    "\n",
    "# ns = Namespace (\"http://somewhere#\")\n",
    "\n",
    "for r in g.query(q3):\n",
    "    print(r.Subject, r.Property, r.Value)"
   ]
  },
  {
   "cell_type": "markdown",
   "metadata": {},
   "source": [
    "### RDFlib"
   ]
  },
  {
   "cell_type": "code",
   "execution_count": 99,
   "metadata": {},
   "outputs": [
    {
     "name": "stdout",
     "output_type": "stream",
     "text": [
      "http://somewhere#JohnSmith http://somewhere#http://www.w3.org/2001/vcard-rdf/3.0/Given John\n",
      "http://somewhere#JohnSmith http://somewhere#http://www.w3.org/2001/vcard-rdf/3.0/Family Smith\n",
      "http://somewhere#JohnSmith http://www.w3.org/1999/02/22-rdf-syntax-ns#type http://somewhere#Person\n",
      "http://somewhere#JohnSmith http://somewhere#http://www.w3.org/2001/vcard-rdf/3.0/FN John Smith\n",
      "http://somewhere#SaraJones http://somewhere#http://www.w3.org/2001/vcard-rdf/3.0/Family Jones\n",
      "http://somewhere#SaraJones http://somewhere#http://www.w3.org/2001/vcard-rdf/3.0/Given Sara\n",
      "http://somewhere#SaraJones http://somewhere#http://www.w3.org/2001/vcard-rdf/3.0/FN Sara Jones\n",
      "http://somewhere#SaraJones http://www.w3.org/1999/02/22-rdf-syntax-ns#type http://somewhere#Person\n",
      "http://somewhere#JaneSmith http://somewhere#http://www.w3.org/2001/vcard-rdf/3.0/Family Smith\n",
      "http://somewhere#JaneSmith http://somewhere#http://www.w3.org/2001/vcard-rdf/3.0/Given Jane\n",
      "http://somewhere#JaneSmith http://www.w3.org/1999/02/22-rdf-syntax-ns#type http://somewhere#Researcher\n",
      "http://somewhere#JaneSmith http://somewhere#http://www.w3.org/2001/vcard-rdf/3.0/FN jane Smith\n"
     ]
    }
   ],
   "source": [
    "for subclass in Subclasses:\n",
    "#     print(subclass)\n",
    "    for s,p,o in g.triples((None,RDF.type,subclass.identifier)):\n",
    "        for s1,p1,o1 in g.triples((s,None,None)):\n",
    "            print(s1,p1,o1)\n"
   ]
  },
  {
   "cell_type": "code",
   "execution_count": null,
   "metadata": {},
   "outputs": [],
   "source": []
  }
 ],
 "metadata": {
  "colab": {
   "collapsed_sections": [],
   "name": "Task07.ipynb",
   "provenance": []
  },
  "kernelspec": {
   "display_name": "Python 3",
   "language": "python",
   "name": "python3"
  },
  "language_info": {
   "codemirror_mode": {
    "name": "ipython",
    "version": 3
   },
   "file_extension": ".py",
   "mimetype": "text/x-python",
   "name": "python",
   "nbconvert_exporter": "python",
   "pygments_lexer": "ipython3",
   "version": "3.7.4"
  }
 },
 "nbformat": 4,
 "nbformat_minor": 1
}
