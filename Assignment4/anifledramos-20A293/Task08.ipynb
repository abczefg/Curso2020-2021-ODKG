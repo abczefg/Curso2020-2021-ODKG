{
  "nbformat": 4,
  "nbformat_minor": 0,
  "metadata": {
    "colab": {
      "name": "Task08.ipynb",
      "provenance": [],
      "collapsed_sections": []
    },
    "kernelspec": {
      "name": "python3",
      "display_name": "Python 3"
    }
  },
  "cells": [
    {
      "cell_type": "markdown",
      "metadata": {
        "id": "rb2ewz-dC6GC"
      },
      "source": [
        "**Task 08: Completing missing data**"
      ]
    },
    {
      "cell_type": "code",
      "metadata": {
        "id": "0sQG2Y915Isp"
      },
      "source": [
        "!pip install rdflib\n",
        "github_storage = \"https://raw.githubusercontent.com/FacultadInformatica-LinkedData/Curso2020-2021/master/Assignment4/\""
      ],
      "execution_count": null,
      "outputs": []
    },
    {
      "cell_type": "code",
      "metadata": {
        "id": "Jb4QeLue5NLr"
      },
      "source": [
        "from rdflib import Graph, Namespace, Literal, URIRef\n",
        "from rdflib.namespace import RDF\n",
        "g1 = Graph()\n",
        "g2 = Graph()\n",
        "g1.parse(github_storage+\"resources/data01.rdf\", format=\"xml\")\n",
        "g2.parse(github_storage+\"resources/data02.rdf\", format=\"xml\")"
      ],
      "execution_count": null,
      "outputs": []
    },
    {
      "cell_type": "code",
      "metadata": {
        "id": "924P7guubnMY"
      },
      "source": [
        "#Setup namespace\n",
        "ns = Namespace(\"http://data.org#\")"
      ],
      "execution_count": 3,
      "outputs": []
    },
    {
      "cell_type": "markdown",
      "metadata": {
        "id": "kxxKghwBElOm"
      },
      "source": [
        "Task: list all the elements of the class Person in the first graph (data01.rdf) and complete the fields (given name, family name and email) that may be missing with the data from the second graph (data02.rdf). You can use SPARQL queries or iterate the graph, or both."
      ]
    },
    {
      "cell_type": "code",
      "metadata": {
        "id": "pte8yzSoWB6x"
      },
      "source": [
        "#Previsualize data of Graph1\n",
        "print(g1.serialize(format=\"ttl\").decode(\"UTF-8\"))"
      ],
      "execution_count": null,
      "outputs": []
    },
    {
      "cell_type": "code",
      "metadata": {
        "id": "F9PYgnVkWH2U"
      },
      "source": [
        "#Previsualize data of Graph2\n",
        "print(g2.serialize(format=\"ttl\").decode(\"UTF-8\"))"
      ],
      "execution_count": null,
      "outputs": []
    },
    {
      "cell_type": "code",
      "metadata": {
        "id": "P62Km8hFsRYw"
      },
      "source": [
        "#List all elements of class Person in Graph1\n",
        "for s,p,o in g1.triples((None, RDF.type, ns.Person)):\n",
        "  print(s)"
      ],
      "execution_count": null,
      "outputs": []
    },
    {
      "cell_type": "code",
      "metadata": {
        "id": "KVbwD86EXMo4"
      },
      "source": [
        "#Complete Graph1 with data from Graph2\n",
        "for s2,p2,o2 in g2.triples((None, RDF.type, ns.Person)):\n",
        "  for p,o in g2.predicate_objects(subject=s2):\n",
        "    if (s2, p, o) not in g1.triples((s2,None,None)):\n",
        "      g1.add((s2,p,o))"
      ],
      "execution_count": 7,
      "outputs": []
    },
    {
      "cell_type": "code",
      "metadata": {
        "id": "7sDMCFfzXyrQ"
      },
      "source": [
        "#Check data in Graph1\n",
        "print(g1.serialize(format=\"ttl\").decode(\"UTF-8\"))"
      ],
      "execution_count": null,
      "outputs": []
    }
  ]
}