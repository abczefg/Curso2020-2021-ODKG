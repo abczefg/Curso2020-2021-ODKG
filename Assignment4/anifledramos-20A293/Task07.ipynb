{
  "nbformat": 4,
  "nbformat_minor": 0,
  "metadata": {
    "colab": {
      "name": "Task07.ipynb",
      "provenance": [],
      "collapsed_sections": []
    },
    "kernelspec": {
      "name": "python3",
      "display_name": "Python 3"
    }
  },
  "cells": [
    {
      "cell_type": "markdown",
      "metadata": {
        "id": "nOOPLCHF7hLB"
      },
      "source": [
        "**Task 07: Querying RDF(s)**"
      ]
    },
    {
      "cell_type": "code",
      "metadata": {
        "id": "Yl9npCt8n6m-"
      },
      "source": [
        "!pip install rdflib \n",
        "github_storage = \"https://raw.githubusercontent.com/FacultadInformatica-LinkedData/Curso2020-2021/master/Assignment4\""
      ],
      "execution_count": null,
      "outputs": []
    },
    {
      "cell_type": "markdown",
      "metadata": {
        "id": "XY7aPc86Bqoo"
      },
      "source": [
        "Read the RDF file"
      ]
    },
    {
      "cell_type": "code",
      "metadata": {
        "id": "9ERh415on7kF"
      },
      "source": [
        "from rdflib import Graph, Namespace, Literal\n",
        "from rdflib.namespace import RDF, RDFS\n",
        "from rdflib.plugins.sparql import prepareQuery\n",
        "g = Graph()\n",
        "g.namespace_manager.bind('ns', Namespace(\"http://somewhere#\"), override=False)\n",
        "g.namespace_manager.bind('vcard', Namespace(\"http://www.w3.org/2001/vcard-rdf/3.0#\"), override=False)\n",
        "g.parse(github_storage+\"/resources/example6.rdf\", format=\"xml\")"
      ],
      "execution_count": null,
      "outputs": []
    },
    {
      "cell_type": "code",
      "metadata": {
        "id": "2eZXm82iHycl"
      },
      "source": [
        "#Setup namespace\n",
        "ns = Namespace(\"http://somewhere#\")"
      ],
      "execution_count": 3,
      "outputs": []
    },
    {
      "cell_type": "markdown",
      "metadata": {
        "id": "qp1oe2Eddsvo"
      },
      "source": [
        "**TASK 7.1: List all subclasses of \"Person\" with RDFLib and SPARQL**"
      ]
    },
    {
      "cell_type": "code",
      "metadata": {
        "id": "Sauc89-uEx-x"
      },
      "source": [
        "#RDFLib\n",
        "for s,p,o in g.triples((None, RDFS.subClassOf, ns.Person)):\n",
        "  print(s,p,o)\n",
        "\n",
        "for s1,p1,o1 in g.triples((None, RDFS.subClassOf, s)):\n",
        "  print(s1,p1,o1)\n"
      ],
      "execution_count": null,
      "outputs": []
    },
    {
      "cell_type": "code",
      "metadata": {
        "id": "pfV02HKhIzWY"
      },
      "source": [
        "#SPARQL\n",
        "q1 = prepareQuery(''' \n",
        "  SELECT\n",
        "    ?Subject\n",
        "  WHERE {\n",
        "    ?Subject rdfs:subClassOf/rdfs:subClassOf* ns:Person.\n",
        "  }\n",
        "  ''',\n",
        "  initNs = {\"ns\":ns}\n",
        ")\n",
        "\n",
        "for r in g.query(q1):\n",
        "  print(r)"
      ],
      "execution_count": null,
      "outputs": []
    },
    {
      "cell_type": "markdown",
      "metadata": {
        "id": "gM3DASkTQQ5Y"
      },
      "source": [
        "**TASK 7.2: List all individuals of \"Person\" with RDFLib and SPARQL (remember the subClasses)**\n"
      ]
    },
    {
      "cell_type": "code",
      "metadata": {
        "id": "xa2_BVUBKRYm"
      },
      "source": [
        "#RDFLib\n",
        "for s,p,o in g.triples((None, RDF.type, ns.Person)):\n",
        "  print(s,p,o)\n",
        "\n",
        "for s1,p1,o1 in g.triples((None, RDFS.subClassOf, ns.Person)):\n",
        "  for s,p,o in g.triples((None, RDF.type, s1)):\n",
        "    print(s,p,o)"
      ],
      "execution_count": null,
      "outputs": []
    },
    {
      "cell_type": "code",
      "metadata": {
        "id": "m42-AFHnLuMz"
      },
      "source": [
        "#SPARQL\n",
        "q2 = prepareQuery(''' \n",
        "  SELECT\n",
        "    ?Subject\n",
        "  WHERE {\n",
        "      ?Subject a/rdfs:subClassOf* ns:Person.\n",
        "  }\n",
        "  ''',\n",
        "  initNs = {\"ns\": ns}\n",
        ")\n",
        "\n",
        "for r in g.query(q2):\n",
        "  print(r)"
      ],
      "execution_count": null,
      "outputs": []
    },
    {
      "cell_type": "markdown",
      "metadata": {
        "id": "MXBqtBkJd22I"
      },
      "source": [
        "**TASK 7.3: List all individuals of \"Person\" and all their properties including their class with RDFLib and SPARQL**\n"
      ]
    },
    {
      "cell_type": "code",
      "metadata": {
        "id": "_JY_zafwOl--"
      },
      "source": [
        "#RDFLib\n",
        "for s,p,o in g.triples((None, RDF.type, ns.Person)):\n",
        "  for s1,p1,o1 in g.triples((s, None, None)):\n",
        "    print(s1,p1,o1)\n",
        "\n",
        "for s,p,o in g.triples((None, RDFS.subClassOf, ns.Person)):\n",
        "  for s1,p,o in g.triples((None, RDF.type, s)):\n",
        "    for s2,p2,o2 in g.triples((s1, None, None)):\n",
        "      print(s2,p2,o2)"
      ],
      "execution_count": null,
      "outputs": []
    },
    {
      "cell_type": "code",
      "metadata": {
        "id": "vlSv72y9Oml2"
      },
      "source": [
        "#SPARQL\n",
        "q3 = prepareQuery(''' \n",
        "  SELECT\n",
        "    ?s ?p ?o\n",
        "  WHERE {\n",
        "      ?s a/rdfs:subClassOf* ns:Person.\n",
        "      ?s ?p ?o\n",
        "  }\n",
        "  ''',\n",
        "  initNs = {\"ns\": ns}\n",
        ")\n",
        "\n",
        "for r in g.query(q3):\n",
        "  print(r)"
      ],
      "execution_count": null,
      "outputs": []
    }
  ]
}