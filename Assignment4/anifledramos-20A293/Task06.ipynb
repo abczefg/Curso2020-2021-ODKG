{
  "nbformat": 4,
  "nbformat_minor": 0,
  "metadata": {
    "colab": {
      "name": "Task06.ipynb",
      "provenance": [],
      "collapsed_sections": []
    },
    "kernelspec": {
      "name": "python3",
      "display_name": "Python 3"
    }
  },
  "cells": [
    {
      "cell_type": "markdown",
      "metadata": {
        "id": "nOOPLCHF7hLB"
      },
      "source": [
        "**Task 06: Modifying RDF(s)**"
      ]
    },
    {
      "cell_type": "code",
      "metadata": {
        "id": "Yl9npCt8n6m-",
        "outputId": "706791fc-1aa2-4d00-8c31-6e1d8c7cc0f7",
        "colab": {
          "base_uri": "https://localhost:8080/",
          "height": 84
        }
      },
      "source": [
        "!pip install rdflib \n",
        "github_storage = \"https://raw.githubusercontent.com/FacultadInformatica-LinkedData/Curso2020-2021/master/Assignment4\""
      ],
      "execution_count": 1,
      "outputs": [
        {
          "output_type": "stream",
          "text": [
            "Requirement already satisfied: rdflib in /usr/local/lib/python3.6/dist-packages (5.0.0)\n",
            "Requirement already satisfied: pyparsing in /usr/local/lib/python3.6/dist-packages (from rdflib) (2.4.7)\n",
            "Requirement already satisfied: isodate in /usr/local/lib/python3.6/dist-packages (from rdflib) (0.6.0)\n",
            "Requirement already satisfied: six in /usr/local/lib/python3.6/dist-packages (from rdflib) (1.15.0)\n"
          ],
          "name": "stdout"
        }
      ]
    },
    {
      "cell_type": "markdown",
      "metadata": {
        "id": "XY7aPc86Bqoo"
      },
      "source": [
        "Read the RDF file"
      ]
    },
    {
      "cell_type": "code",
      "metadata": {
        "id": "9ERh415on7kF",
        "outputId": "f4453b68-628b-4bee-d465-451c786c9e25",
        "colab": {
          "base_uri": "https://localhost:8080/",
          "height": 34
        }
      },
      "source": [
        "from rdflib import Graph, Namespace, Literal\n",
        "from rdflib.namespace import RDF, RDFS, XSD\n",
        "g = Graph()\n",
        "g.namespace_manager.bind('ns', Namespace(\"http://somewhere#\"), override=False)\n",
        "g.namespace_manager.bind('vcard', Namespace(\"http://www.w3.org/2001/vcard-rdf/3.0#\"), override=False)\n",
        "g.parse(github_storage+\"/resources/example5.rdf\", format=\"xml\")"
      ],
      "execution_count": 2,
      "outputs": [
        {
          "output_type": "execute_result",
          "data": {
            "text/plain": [
              "<Graph identifier=Ned021ab412314643b59dc4556b7eddd2 (<class 'rdflib.graph.Graph'>)>"
            ]
          },
          "metadata": {
            "tags": []
          },
          "execution_count": 2
        }
      ]
    },
    {
      "cell_type": "markdown",
      "metadata": {
        "id": "gM3DASkTQQ5Y"
      },
      "source": [
        "Create a new class named Researcher"
      ]
    },
    {
      "cell_type": "code",
      "metadata": {
        "id": "6vtudax8Xb7b",
        "outputId": "228f4b8f-ed21-4660-9a9c-1eafa37a632b",
        "colab": {
          "base_uri": "https://localhost:8080/",
          "height": 286
        }
      },
      "source": [
        "ns = Namespace(\"http://somewhere#\")\n",
        "g.add((ns.Researcher, RDF.type, RDFS.Class))\n",
        "for s, p, o in g:\n",
        "  print(s,p,o)"
      ],
      "execution_count": 3,
      "outputs": [
        {
          "output_type": "stream",
          "text": [
            "http://www.w3.org/2001/vcard-rdf/3.0/Family http://www.w3.org/2000/01/rdf-schema#range http://www.w3.org/2001/XMLSchema#string\n",
            "http://somewhere#SaraJones http://www.w3.org/2001/vcard-rdf/3.0/Family Jones\n",
            "http://somewhere#JohnSmith http://www.w3.org/2001/vcard-rdf/3.0/Given John\n",
            "http://somewhere#Person http://www.w3.org/1999/02/22-rdf-syntax-ns#type http://www.w3.org/2000/01/rdf-schema#Class\n",
            "http://www.w3.org/2001/vcard-rdf/3.0/Family http://www.w3.org/1999/02/22-rdf-syntax-ns#type http://www.w3.org/2000/01/rdf-schema#Property\n",
            "http://somewhere#JohnSmith http://www.w3.org/2001/vcard-rdf/3.0/FN John Smith\n",
            "http://www.w3.org/2001/vcard-rdf/3.0/Given http://www.w3.org/1999/02/22-rdf-syntax-ns#type http://www.w3.org/2000/01/rdf-schema#Datatype\n",
            "http://www.w3.org/2001/vcard-rdf/3.0/FN http://www.w3.org/2000/01/rdf-schema#range http://www.w3.org/2001/XMLSchema#string\n",
            "http://www.w3.org/2001/vcard-rdf/3.0/Given http://www.w3.org/2000/01/rdf-schema#range http://www.w3.org/2001/XMLSchema#string\n",
            "http://somewhere#JohnSmith http://www.w3.org/1999/02/22-rdf-syntax-ns#type http://somewhere#Person\n",
            "http://somewhere#Researcher http://www.w3.org/1999/02/22-rdf-syntax-ns#type http://www.w3.org/2000/01/rdf-schema#Class\n",
            "http://www.w3.org/2001/vcard-rdf/3.0/FN http://www.w3.org/1999/02/22-rdf-syntax-ns#type http://www.w3.org/2000/01/rdf-schema#Datatype\n",
            "http://somewhere#JohnSmith http://www.w3.org/2001/vcard-rdf/3.0/Family Smith\n",
            "http://somewhere#SaraJones http://www.w3.org/2001/vcard-rdf/3.0/FN Sara Jones\n",
            "http://somewhere#SaraJones http://www.w3.org/2001/vcard-rdf/3.0/Given Sara\n",
            "http://somewhere#SaraJones http://www.w3.org/1999/02/22-rdf-syntax-ns#type http://somewhere#Person\n"
          ],
          "name": "stdout"
        }
      ]
    },
    {
      "cell_type": "markdown",
      "metadata": {
        "id": "qp1oe2Eddsvo"
      },
      "source": [
        "**TASK 6.1: Create a new class named \"University\"**"
      ]
    },
    {
      "cell_type": "code",
      "metadata": {
        "id": "gA895LfVrTIT",
        "outputId": "3ee0388f-07ff-48e2-b830-8db9e1977266",
        "colab": {
          "base_uri": "https://localhost:8080/",
          "height": 302
        }
      },
      "source": [
        "g.add((ns.University, RDF.type, RDFS.Class))\n",
        "for s, p, o in g:\n",
        "  print(s,p,o)"
      ],
      "execution_count": 4,
      "outputs": [
        {
          "output_type": "stream",
          "text": [
            "http://www.w3.org/2001/vcard-rdf/3.0/Family http://www.w3.org/2000/01/rdf-schema#range http://www.w3.org/2001/XMLSchema#string\n",
            "http://somewhere#SaraJones http://www.w3.org/2001/vcard-rdf/3.0/Family Jones\n",
            "http://somewhere#JohnSmith http://www.w3.org/2001/vcard-rdf/3.0/Given John\n",
            "http://somewhere#Person http://www.w3.org/1999/02/22-rdf-syntax-ns#type http://www.w3.org/2000/01/rdf-schema#Class\n",
            "http://www.w3.org/2001/vcard-rdf/3.0/Family http://www.w3.org/1999/02/22-rdf-syntax-ns#type http://www.w3.org/2000/01/rdf-schema#Property\n",
            "http://somewhere#University http://www.w3.org/1999/02/22-rdf-syntax-ns#type http://www.w3.org/2000/01/rdf-schema#Class\n",
            "http://www.w3.org/2001/vcard-rdf/3.0/Given http://www.w3.org/1999/02/22-rdf-syntax-ns#type http://www.w3.org/2000/01/rdf-schema#Datatype\n",
            "http://somewhere#JohnSmith http://www.w3.org/2001/vcard-rdf/3.0/FN John Smith\n",
            "http://www.w3.org/2001/vcard-rdf/3.0/FN http://www.w3.org/2000/01/rdf-schema#range http://www.w3.org/2001/XMLSchema#string\n",
            "http://www.w3.org/2001/vcard-rdf/3.0/Given http://www.w3.org/2000/01/rdf-schema#range http://www.w3.org/2001/XMLSchema#string\n",
            "http://somewhere#JohnSmith http://www.w3.org/1999/02/22-rdf-syntax-ns#type http://somewhere#Person\n",
            "http://somewhere#Researcher http://www.w3.org/1999/02/22-rdf-syntax-ns#type http://www.w3.org/2000/01/rdf-schema#Class\n",
            "http://www.w3.org/2001/vcard-rdf/3.0/FN http://www.w3.org/1999/02/22-rdf-syntax-ns#type http://www.w3.org/2000/01/rdf-schema#Datatype\n",
            "http://somewhere#JohnSmith http://www.w3.org/2001/vcard-rdf/3.0/Family Smith\n",
            "http://somewhere#SaraJones http://www.w3.org/2001/vcard-rdf/3.0/FN Sara Jones\n",
            "http://somewhere#SaraJones http://www.w3.org/2001/vcard-rdf/3.0/Given Sara\n",
            "http://somewhere#SaraJones http://www.w3.org/1999/02/22-rdf-syntax-ns#type http://somewhere#Person\n"
          ],
          "name": "stdout"
        }
      ]
    },
    {
      "cell_type": "markdown",
      "metadata": {
        "id": "MXBqtBkJd22I"
      },
      "source": [
        "**TASK 6.2: Add \"Researcher\" as a subclass of \"Person\"**"
      ]
    },
    {
      "cell_type": "code",
      "metadata": {
        "id": "Gi8VkwZDraA3",
        "outputId": "a253139e-a550-45e6-852b-3b2fd3d89f31",
        "colab": {
          "base_uri": "https://localhost:8080/",
          "height": 319
        }
      },
      "source": [
        "g.add((ns.Researcher, RDFS.subClassOf, ns.Person))\n",
        "for s, p, o in g:\n",
        "  print(s,p,o)"
      ],
      "execution_count": 5,
      "outputs": [
        {
          "output_type": "stream",
          "text": [
            "http://www.w3.org/2001/vcard-rdf/3.0/Family http://www.w3.org/2000/01/rdf-schema#range http://www.w3.org/2001/XMLSchema#string\n",
            "http://somewhere#SaraJones http://www.w3.org/2001/vcard-rdf/3.0/Family Jones\n",
            "http://somewhere#JohnSmith http://www.w3.org/2001/vcard-rdf/3.0/Given John\n",
            "http://somewhere#Researcher http://www.w3.org/2000/01/rdf-schema#subClassOf http://somewhere#Person\n",
            "http://somewhere#Person http://www.w3.org/1999/02/22-rdf-syntax-ns#type http://www.w3.org/2000/01/rdf-schema#Class\n",
            "http://www.w3.org/2001/vcard-rdf/3.0/Family http://www.w3.org/1999/02/22-rdf-syntax-ns#type http://www.w3.org/2000/01/rdf-schema#Property\n",
            "http://somewhere#University http://www.w3.org/1999/02/22-rdf-syntax-ns#type http://www.w3.org/2000/01/rdf-schema#Class\n",
            "http://www.w3.org/2001/vcard-rdf/3.0/Given http://www.w3.org/1999/02/22-rdf-syntax-ns#type http://www.w3.org/2000/01/rdf-schema#Datatype\n",
            "http://somewhere#JohnSmith http://www.w3.org/2001/vcard-rdf/3.0/FN John Smith\n",
            "http://www.w3.org/2001/vcard-rdf/3.0/FN http://www.w3.org/2000/01/rdf-schema#range http://www.w3.org/2001/XMLSchema#string\n",
            "http://www.w3.org/2001/vcard-rdf/3.0/Given http://www.w3.org/2000/01/rdf-schema#range http://www.w3.org/2001/XMLSchema#string\n",
            "http://somewhere#JohnSmith http://www.w3.org/1999/02/22-rdf-syntax-ns#type http://somewhere#Person\n",
            "http://somewhere#Researcher http://www.w3.org/1999/02/22-rdf-syntax-ns#type http://www.w3.org/2000/01/rdf-schema#Class\n",
            "http://www.w3.org/2001/vcard-rdf/3.0/FN http://www.w3.org/1999/02/22-rdf-syntax-ns#type http://www.w3.org/2000/01/rdf-schema#Datatype\n",
            "http://somewhere#JohnSmith http://www.w3.org/2001/vcard-rdf/3.0/Family Smith\n",
            "http://somewhere#SaraJones http://www.w3.org/2001/vcard-rdf/3.0/FN Sara Jones\n",
            "http://somewhere#SaraJones http://www.w3.org/2001/vcard-rdf/3.0/Given Sara\n",
            "http://somewhere#SaraJones http://www.w3.org/1999/02/22-rdf-syntax-ns#type http://somewhere#Person\n"
          ],
          "name": "stdout"
        }
      ]
    },
    {
      "cell_type": "markdown",
      "metadata": {
        "id": "OGct6k7Ld9O0"
      },
      "source": [
        "**TASK 6.3: Create a new individual of Researcher named \"Jane Smith\"**"
      ]
    },
    {
      "cell_type": "code",
      "metadata": {
        "id": "XnuLd-jOrcHs"
      },
      "source": [
        "g.add((ns.JaneSmith, RDF.type, ns.Researcher))"
      ],
      "execution_count": 6,
      "outputs": []
    },
    {
      "cell_type": "markdown",
      "metadata": {
        "id": "tD383J__eHfV"
      },
      "source": [
        "**TASK 6.4: Add to the individual JaneSmith the fullName, given and family names**"
      ]
    },
    {
      "cell_type": "code",
      "metadata": {
        "id": "rj53Jl0brd9u",
        "outputId": "9d4db077-cba9-44d4-8c47-d97a5c1751d6",
        "colab": {
          "base_uri": "https://localhost:8080/",
          "height": 638
        }
      },
      "source": [
        "VCARD = Namespace(\"http://www.w3.org/2001/vcard-rdf/3.0/\")\n",
        "g.add((ns.JaneSmith, VCARD.FN, Literal(\"Jane Smith\", datatype=XSD.string)))\n",
        "g.add((ns.JaneSmith, VCARD.Given, Literal(\"Jane\", datatype=XSD.string)))\n",
        "g.add((ns.JaneSmith, VCARD.Family, Literal(\"Smith\", datatype=XSD.string)))\n",
        "print(g.serialize(format=\"ttl\").decode(\"UTF-8\"))"
      ],
      "execution_count": 7,
      "outputs": [
        {
          "output_type": "stream",
          "text": [
            "@prefix ns: <http://somewhere#> .\n",
            "@prefix rdfs: <http://www.w3.org/2000/01/rdf-schema#> .\n",
            "@prefix vcard-rdf: <http://www.w3.org/2001/vcard-rdf/3.0/> .\n",
            "@prefix xsd: <http://www.w3.org/2001/XMLSchema#> .\n",
            "\n",
            "ns:Person a rdfs:Class .\n",
            "\n",
            "ns:Researcher a rdfs:Class ;\n",
            "    rdfs:subClassOf ns:Person .\n",
            "\n",
            "ns:University a rdfs:Class .\n",
            "\n",
            "ns:JaneSmith a ns:Researcher ;\n",
            "    vcard-rdf:FN \"Jane Smith\"^^xsd:string ;\n",
            "    vcard-rdf:Family \"Smith\"^^xsd:string ;\n",
            "    vcard-rdf:Given \"Jane\"^^xsd:string .\n",
            "\n",
            "ns:JohnSmith a ns:Person ;\n",
            "    vcard-rdf:FN \"John Smith\"^^xsd:string ;\n",
            "    vcard-rdf:Family \"Smith\"^^xsd:string ;\n",
            "    vcard-rdf:Given \"John\"^^xsd:string .\n",
            "\n",
            "ns:SaraJones a ns:Person ;\n",
            "    vcard-rdf:FN \"Sara Jones\"^^xsd:string ;\n",
            "    vcard-rdf:Family \"Jones\"^^xsd:string ;\n",
            "    vcard-rdf:Given \"Sara\"^^xsd:string .\n",
            "\n",
            "vcard-rdf:FN a rdfs:Datatype ;\n",
            "    rdfs:range xsd:string .\n",
            "\n",
            "vcard-rdf:Family a rdfs:Property ;\n",
            "    rdfs:range xsd:string .\n",
            "\n",
            "vcard-rdf:Given a rdfs:Datatype ;\n",
            "    rdfs:range xsd:string .\n",
            "\n",
            "\n"
          ],
          "name": "stdout"
        }
      ]
    },
    {
      "cell_type": "markdown",
      "metadata": {
        "id": "GyZOMndoeUj4"
      },
      "source": [
        "**TASK 6.5: Add UPM as the university where John Smith works**"
      ]
    },
    {
      "cell_type": "code",
      "metadata": {
        "id": "R7lro5rStnXp",
        "outputId": "4f52eab2-448d-4f00-d595-3a31b2844f30",
        "colab": {
          "base_uri": "https://localhost:8080/",
          "height": 689
        }
      },
      "source": [
        "g.add((ns.UPM, RDF.type, ns.University))\n",
        "g.add((ns.UPM, VCARD.hasMember, ns.JohnSmith))\n",
        "print(g.serialize(format=\"ttl\").decode(\"UTF-8\"))"
      ],
      "execution_count": 9,
      "outputs": [
        {
          "output_type": "stream",
          "text": [
            "@prefix ns: <http://somewhere#> .\n",
            "@prefix rdfs: <http://www.w3.org/2000/01/rdf-schema#> .\n",
            "@prefix vcard-rdf: <http://www.w3.org/2001/vcard-rdf/3.0/> .\n",
            "@prefix xsd: <http://www.w3.org/2001/XMLSchema#> .\n",
            "\n",
            "ns:Person a rdfs:Class .\n",
            "\n",
            "ns:Researcher a rdfs:Class ;\n",
            "    rdfs:subClassOf ns:Person .\n",
            "\n",
            "ns:University a rdfs:Class .\n",
            "\n",
            "ns:JaneSmith a ns:Researcher ;\n",
            "    vcard-rdf:FN \"Jane Smith\"^^xsd:string ;\n",
            "    vcard-rdf:Family \"Smith\"^^xsd:string ;\n",
            "    vcard-rdf:Given \"Jane\"^^xsd:string .\n",
            "\n",
            "ns:SaraJones a ns:Person ;\n",
            "    vcard-rdf:FN \"Sara Jones\"^^xsd:string ;\n",
            "    vcard-rdf:Family \"Jones\"^^xsd:string ;\n",
            "    vcard-rdf:Given \"Sara\"^^xsd:string .\n",
            "\n",
            "ns:UPM a ns:University ;\n",
            "    vcard-rdf:hasMember ns:JohnSmith .\n",
            "\n",
            "vcard-rdf:FN a rdfs:Datatype ;\n",
            "    rdfs:range xsd:string .\n",
            "\n",
            "vcard-rdf:Family a rdfs:Property ;\n",
            "    rdfs:range xsd:string .\n",
            "\n",
            "vcard-rdf:Given a rdfs:Datatype ;\n",
            "    rdfs:range xsd:string .\n",
            "\n",
            "ns:JohnSmith a ns:Person ;\n",
            "    vcard-rdf:FN \"John Smith\"^^xsd:string ;\n",
            "    vcard-rdf:Family \"Smith\"^^xsd:string ;\n",
            "    vcard-rdf:Given \"John\"^^xsd:string .\n",
            "\n",
            "\n"
          ],
          "name": "stdout"
        }
      ]
    }
  ]
}