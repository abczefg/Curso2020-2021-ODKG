{
  "nbformat": 4,
  "nbformat_minor": 0,
  "metadata": {
    "colab": {
      "name": "Task07.ipynb",
      "provenance": [],
      "collapsed_sections": []
    },
    "kernelspec": {
      "name": "python3",
      "display_name": "Python 3"
    }
  },
  "cells": [
    {
      "cell_type": "markdown",
      "metadata": {
        "id": "nOOPLCHF7hLB"
      },
      "source": [
        "**Task 07: Querying RDF(s)**"
      ]
    },
    {
      "cell_type": "code",
      "metadata": {
        "id": "Yl9npCt8n6m-",
        "outputId": "f626f817-90da-4c4e-b3e6-318170d5eb23",
        "colab": {
          "base_uri": "https://localhost:8080/",
          "height": 221
        }
      },
      "source": [
        "!pip install rdflib \n",
        "github_storage = \"https://raw.githubusercontent.com/FacultadInformatica-LinkedData/Curso2020-2021/master/Assignment4\""
      ],
      "execution_count": 2,
      "outputs": [
        {
          "output_type": "stream",
          "text": [
            "Collecting rdflib\n",
            "\u001b[?25l  Downloading https://files.pythonhosted.org/packages/d0/6b/6454aa1db753c0f8bc265a5bd5c10b5721a4bb24160fb4faf758cf6be8a1/rdflib-5.0.0-py3-none-any.whl (231kB)\n",
            "\r\u001b[K     |█▍                              | 10kB 18.0MB/s eta 0:00:01\r\u001b[K     |██▉                             | 20kB 6.0MB/s eta 0:00:01\r\u001b[K     |████▎                           | 30kB 7.4MB/s eta 0:00:01\r\u001b[K     |█████▊                          | 40kB 7.0MB/s eta 0:00:01\r\u001b[K     |███████                         | 51kB 6.4MB/s eta 0:00:01\r\u001b[K     |████████▌                       | 61kB 7.0MB/s eta 0:00:01\r\u001b[K     |██████████                      | 71kB 7.5MB/s eta 0:00:01\r\u001b[K     |███████████▍                    | 81kB 7.9MB/s eta 0:00:01\r\u001b[K     |████████████▊                   | 92kB 7.6MB/s eta 0:00:01\r\u001b[K     |██████████████▏                 | 102kB 7.9MB/s eta 0:00:01\r\u001b[K     |███████████████▋                | 112kB 7.9MB/s eta 0:00:01\r\u001b[K     |█████████████████               | 122kB 7.9MB/s eta 0:00:01\r\u001b[K     |██████████████████▍             | 133kB 7.9MB/s eta 0:00:01\r\u001b[K     |███████████████████▉            | 143kB 7.9MB/s eta 0:00:01\r\u001b[K     |█████████████████████▎          | 153kB 7.9MB/s eta 0:00:01\r\u001b[K     |██████████████████████▊         | 163kB 7.9MB/s eta 0:00:01\r\u001b[K     |████████████████████████        | 174kB 7.9MB/s eta 0:00:01\r\u001b[K     |█████████████████████████▌      | 184kB 7.9MB/s eta 0:00:01\r\u001b[K     |███████████████████████████     | 194kB 7.9MB/s eta 0:00:01\r\u001b[K     |████████████████████████████▍   | 204kB 7.9MB/s eta 0:00:01\r\u001b[K     |█████████████████████████████▉  | 215kB 7.9MB/s eta 0:00:01\r\u001b[K     |███████████████████████████████▏| 225kB 7.9MB/s eta 0:00:01\r\u001b[K     |████████████████████████████████| 235kB 7.9MB/s \n",
            "\u001b[?25hRequirement already satisfied: six in /usr/local/lib/python3.6/dist-packages (from rdflib) (1.15.0)\n",
            "Collecting isodate\n",
            "\u001b[?25l  Downloading https://files.pythonhosted.org/packages/9b/9f/b36f7774ff5ea8e428fdcfc4bb332c39ee5b9362ddd3d40d9516a55221b2/isodate-0.6.0-py2.py3-none-any.whl (45kB)\n",
            "\u001b[K     |████████████████████████████████| 51kB 6.1MB/s \n",
            "\u001b[?25hRequirement already satisfied: pyparsing in /usr/local/lib/python3.6/dist-packages (from rdflib) (2.4.7)\n",
            "Installing collected packages: isodate, rdflib\n",
            "Successfully installed isodate-0.6.0 rdflib-5.0.0\n"
          ],
          "name": "stdout"
        }
      ]
    },
    {
      "cell_type": "markdown",
      "metadata": {
        "id": "XY7aPc86Bqoo"
      },
      "source": [
        "Read the RDF file"
      ]
    },
    {
      "cell_type": "code",
      "metadata": {
        "id": "9ERh415on7kF",
        "outputId": "131a40b3-0f60-432d-ce26-780e3657cd16",
        "colab": {
          "base_uri": "https://localhost:8080/",
          "height": 35
        }
      },
      "source": [
        "from rdflib import Graph, Namespace, Literal\n",
        "from rdflib.namespace import RDF, RDFS\n",
        "g = Graph()\n",
        "g.namespace_manager.bind('ns', Namespace(\"http://somewhere#\"), override=False)\n",
        "g.namespace_manager.bind('vcard', Namespace(\"http://www.w3.org/2001/vcard-rdf/3.0#\"), override=False)\n",
        "g.parse(github_storage+\"/resources/example6.rdf\", format=\"xml\")"
      ],
      "execution_count": 4,
      "outputs": [
        {
          "output_type": "execute_result",
          "data": {
            "text/plain": [
              "<Graph identifier=N6a080b52849544f085102020bb5f218f (<class 'rdflib.graph.Graph'>)>"
            ]
          },
          "metadata": {
            "tags": []
          },
          "execution_count": 4
        }
      ]
    },
    {
      "cell_type": "markdown",
      "metadata": {
        "id": "qp1oe2Eddsvo"
      },
      "source": [
        "**TASK 7.1: List all subclasses of \"Person\" with RDFLib and SPARQL**"
      ]
    },
    {
      "cell_type": "code",
      "metadata": {
        "id": "NQqteRo6H2P7",
        "outputId": "27dde6c9-65aa-4694-984f-9916bf8b010b",
        "colab": {
          "base_uri": "https://localhost:8080/",
          "height": 54
        }
      },
      "source": [
        "from rdflib.plugins.sparql import prepareQuery\n",
        "somewhere = Namespace(\"http://somewhere#\")\n",
        "\n",
        "q1 = prepareQuery('''\n",
        "  SELECT \n",
        "    ?subclasses\n",
        "  WHERE { \n",
        "    ?subclasses rdfs:subClassOf+ ns:Person . \n",
        "  }\n",
        "  ''',\n",
        "  initNs = { \"ns\": somewhere}\n",
        ")\n",
        "for r in g.query(q1):\n",
        "  print(r)"
      ],
      "execution_count": 5,
      "outputs": [
        {
          "output_type": "stream",
          "text": [
            "(rdflib.term.URIRef('http://somewhere#Researcher'),)\n",
            "(rdflib.term.URIRef('http://somewhere#PhDstudent'),)\n"
          ],
          "name": "stdout"
        }
      ]
    },
    {
      "cell_type": "code",
      "metadata": {
        "id": "nLw9-MObTDyR",
        "outputId": "028143aa-e8a6-470c-adc4-a343960b4235",
        "colab": {
          "base_uri": "https://localhost:8080/",
          "height": 54
        }
      },
      "source": [
        "for s,p,o in g.triples((None, RDFS.subClassOf, somewhere.Person)):\n",
        "    print(s)\n",
        "    for s2, p2, o2 in g.triples((None, RDFS.subClassOf, s)):\n",
        "      print(s2)"
      ],
      "execution_count": 9,
      "outputs": [
        {
          "output_type": "stream",
          "text": [
            "http://somewhere#Researcher\n",
            "http://somewhere#PhDstudent\n"
          ],
          "name": "stdout"
        }
      ]
    },
    {
      "cell_type": "markdown",
      "metadata": {
        "id": "gM3DASkTQQ5Y"
      },
      "source": [
        "**TASK 7.2: List all individuals of \"Person\" with RDFLib and SPARQL (remember the subClasses)**\n"
      ]
    },
    {
      "cell_type": "code",
      "metadata": {
        "id": "K5A0aYRGH26g",
        "outputId": "0d59da41-16a4-42d9-b942-fa0c08ef5129",
        "colab": {
          "base_uri": "https://localhost:8080/",
          "height": 72
        }
      },
      "source": [
        "from rdflib.plugins.sparql import prepareQuery\n",
        "somewhere = Namespace(\"http://somewhere#\")\n",
        "\n",
        "q1 = prepareQuery('''\n",
        "  SELECT \n",
        "    ?persons\n",
        "  WHERE { \n",
        "    ?x rdfs:subClassOf* ns:Person . \n",
        "    ?persons rdf:type ?x\n",
        "  }\n",
        "  ''',\n",
        "  initNs = { \"ns\": somewhere}\n",
        ")\n",
        "for r in g.query(q1):\n",
        "  print(r)"
      ],
      "execution_count": null,
      "outputs": [
        {
          "output_type": "stream",
          "text": [
            "(rdflib.term.URIRef('http://somewhere#JohnSmith'),)\n",
            "(rdflib.term.URIRef('http://somewhere#SaraJones'),)\n",
            "(rdflib.term.URIRef('http://somewhere#JaneSmith'),)\n"
          ],
          "name": "stdout"
        }
      ]
    },
    {
      "cell_type": "code",
      "metadata": {
        "id": "-7BFlEeJThkX",
        "outputId": "c1238e4d-447a-41d5-ce6c-fa4c8335545a",
        "colab": {
          "base_uri": "https://localhost:8080/",
          "height": 72
        }
      },
      "source": [
        "for s,p,o in g.triples((None, RDF.type, somewhere.Person)):\n",
        "  print(s)\n",
        "\n",
        "for s,p,o in g.triples((None, RDFS.subClassOf, somewhere.Person)):\n",
        "  for s2,p2,o2 in g.triples((None, RDF.type, s)):\n",
        "    print(s2)"
      ],
      "execution_count": 42,
      "outputs": [
        {
          "output_type": "stream",
          "text": [
            "http://somewhere#SaraJones\n",
            "http://somewhere#JohnSmith\n",
            "http://somewhere#JaneSmith\n"
          ],
          "name": "stdout"
        }
      ]
    },
    {
      "cell_type": "markdown",
      "metadata": {
        "id": "MXBqtBkJd22I"
      },
      "source": [
        "**TASK 7.3: List all individuals of \"Person\" and all their properties including their class with RDFLib and SPARQL**\n"
      ]
    },
    {
      "cell_type": "code",
      "metadata": {
        "id": "-OwDT4D6H4B6",
        "outputId": "dbfa3a93-0609-4743-ed5c-2e9503f2f2d2",
        "colab": {
          "base_uri": "https://localhost:8080/",
          "height": 257
        }
      },
      "source": [
        "from rdflib.plugins.sparql import prepareQuery\n",
        "somewhere = Namespace(\"http://somewhere#\")\n",
        "\n",
        "q1 = prepareQuery('''\n",
        "  SELECT DISTINCT ?persons ?properties ?propertievalue\n",
        "  WHERE\n",
        "{\n",
        "  ?persons a/rdfs:subClassOf* ns:Person.\n",
        "  ?persons ?properties ?propertievalue\n",
        "\n",
        "}\n",
        "  ''',\n",
        "  initNs = { \"ns\": somewhere}\n",
        ")\n",
        "for r in g.query(q1):\n",
        "  print(r)\n"
      ],
      "execution_count": null,
      "outputs": [
        {
          "output_type": "stream",
          "text": [
            "(rdflib.term.URIRef('http://somewhere#JohnSmith'), rdflib.term.URIRef('http://somewhere#http://www.w3.org/2001/vcard-rdf/3.0/Given'), rdflib.term.Literal('John', datatype=rdflib.term.URIRef('http://www.w3.org/2001/XMLSchema#string')))\n",
            "(rdflib.term.URIRef('http://somewhere#JohnSmith'), rdflib.term.URIRef('http://www.w3.org/1999/02/22-rdf-syntax-ns#type'), rdflib.term.URIRef('http://somewhere#Person'))\n",
            "(rdflib.term.URIRef('http://somewhere#JohnSmith'), rdflib.term.URIRef('http://somewhere#http://www.w3.org/2001/vcard-rdf/3.0/Family'), rdflib.term.Literal('Smith', datatype=rdflib.term.URIRef('http://www.w3.org/2001/XMLSchema#string')))\n",
            "(rdflib.term.URIRef('http://somewhere#JohnSmith'), rdflib.term.URIRef('http://somewhere#http://www.w3.org/2001/vcard-rdf/3.0/FN'), rdflib.term.Literal('John Smith', datatype=rdflib.term.URIRef('http://www.w3.org/2001/XMLSchema#string')))\n",
            "(rdflib.term.URIRef('http://somewhere#SaraJones'), rdflib.term.URIRef('http://somewhere#http://www.w3.org/2001/vcard-rdf/3.0/Given'), rdflib.term.Literal('Sara', datatype=rdflib.term.URIRef('http://www.w3.org/2001/XMLSchema#string')))\n",
            "(rdflib.term.URIRef('http://somewhere#SaraJones'), rdflib.term.URIRef('http://somewhere#http://www.w3.org/2001/vcard-rdf/3.0/Family'), rdflib.term.Literal('Jones', datatype=rdflib.term.URIRef('http://www.w3.org/2001/XMLSchema#string')))\n",
            "(rdflib.term.URIRef('http://somewhere#SaraJones'), rdflib.term.URIRef('http://somewhere#http://www.w3.org/2001/vcard-rdf/3.0/FN'), rdflib.term.Literal('Sara Jones', datatype=rdflib.term.URIRef('http://www.w3.org/2001/XMLSchema#string')))\n",
            "(rdflib.term.URIRef('http://somewhere#SaraJones'), rdflib.term.URIRef('http://www.w3.org/1999/02/22-rdf-syntax-ns#type'), rdflib.term.URIRef('http://somewhere#Person'))\n",
            "(rdflib.term.URIRef('http://somewhere#JaneSmith'), rdflib.term.URIRef('http://somewhere#http://www.w3.org/2001/vcard-rdf/3.0/Family'), rdflib.term.Literal('Smith', datatype=rdflib.term.URIRef('http://www.w3.org/2001/XMLSchema#string')))\n",
            "(rdflib.term.URIRef('http://somewhere#JaneSmith'), rdflib.term.URIRef('http://somewhere#http://www.w3.org/2001/vcard-rdf/3.0/Given'), rdflib.term.Literal('Jane', datatype=rdflib.term.URIRef('http://www.w3.org/2001/XMLSchema#string')))\n",
            "(rdflib.term.URIRef('http://somewhere#JaneSmith'), rdflib.term.URIRef('http://www.w3.org/1999/02/22-rdf-syntax-ns#type'), rdflib.term.URIRef('http://somewhere#Researcher'))\n",
            "(rdflib.term.URIRef('http://somewhere#JaneSmith'), rdflib.term.URIRef('http://somewhere#http://www.w3.org/2001/vcard-rdf/3.0/FN'), rdflib.term.Literal('jane Smith', datatype=rdflib.term.URIRef('http://www.w3.org/2001/XMLSchema#string')))\n"
          ],
          "name": "stdout"
        }
      ]
    },
    {
      "cell_type": "code",
      "metadata": {
        "id": "wyvpxaEbV7WC",
        "outputId": "b8916bed-647b-4513-816b-564dc9558995",
        "colab": {
          "base_uri": "https://localhost:8080/",
          "height": 201
        }
      },
      "source": [
        "for s, p, o in g.triples((None, RDF.type, somewhere.Person)):\n",
        "  for s2, p2, o2 in g.triples((s, None, None)):\n",
        "    print(s2, p2, o2)\n",
        "\n",
        "for s, p, o in g.triples((None, RDFS.subClassOf, somewhere.Person)):\n",
        "  for s2, p2, o2 in g.triples((None, RDF.type, sc)):\n",
        "    for s3, p3, p3 in g.triples((s, None, None)):\n",
        "      print(s3, p3, o3)"
      ],
      "execution_count": 43,
      "outputs": [
        {
          "output_type": "stream",
          "text": [
            "http://somewhere#SaraJones http://somewhere#http://www.w3.org/2001/vcard-rdf/3.0/Given Sara\n",
            "http://somewhere#SaraJones http://somewhere#http://www.w3.org/2001/vcard-rdf/3.0/Family Jones\n",
            "http://somewhere#SaraJones http://www.w3.org/1999/02/22-rdf-syntax-ns#type http://somewhere#Person\n",
            "http://somewhere#SaraJones http://somewhere#http://www.w3.org/2001/vcard-rdf/3.0/FN Sara Jones\n",
            "http://somewhere#JohnSmith http://somewhere#http://www.w3.org/2001/vcard-rdf/3.0/FN John Smith\n",
            "http://somewhere#JohnSmith http://somewhere#http://www.w3.org/2001/vcard-rdf/3.0/Family Smith\n",
            "http://somewhere#JohnSmith http://somewhere#http://www.w3.org/2001/vcard-rdf/3.0/Given John\n",
            "http://somewhere#JohnSmith http://www.w3.org/1999/02/22-rdf-syntax-ns#type http://somewhere#Person\n",
            "http://somewhere#Researcher http://somewhere#Person http://somewhere#Researcher\n",
            "http://somewhere#Researcher http://www.w3.org/2000/01/rdf-schema#Class http://somewhere#Researcher\n"
          ],
          "name": "stdout"
        }
      ]
    }
  ]
}