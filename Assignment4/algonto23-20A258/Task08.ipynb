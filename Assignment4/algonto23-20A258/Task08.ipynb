{
  "nbformat": 4,
  "nbformat_minor": 0,
  "metadata": {
    "colab": {
      "name": "Task08.ipynb",
      "provenance": [],
      "collapsed_sections": []
    },
    "kernelspec": {
      "name": "python3",
      "display_name": "Python 3"
    }
  },
  "cells": [
    {
      "cell_type": "markdown",
      "metadata": {
        "id": "rb2ewz-dC6GC"
      },
      "source": [
        "**Task 08: Completing missing data**"
      ]
    },
    {
      "cell_type": "code",
      "metadata": {
        "id": "0sQG2Y915Isp",
        "outputId": "b1b9599c-63ee-4d94-df14-26bb615223d1",
        "colab": {
          "base_uri": "https://localhost:8080/",
          "height": 221
        }
      },
      "source": [
        "!pip install rdflib\n",
        "github_storage = \"https://raw.githubusercontent.com/FacultadInformatica-LinkedData/Curso2020-2021/master/Assignment4/\""
      ],
      "execution_count": 1,
      "outputs": [
        {
          "output_type": "stream",
          "text": [
            "Collecting rdflib\n",
            "\u001b[?25l  Downloading https://files.pythonhosted.org/packages/d0/6b/6454aa1db753c0f8bc265a5bd5c10b5721a4bb24160fb4faf758cf6be8a1/rdflib-5.0.0-py3-none-any.whl (231kB)\n",
            "\r\u001b[K     |█▍                              | 10kB 19.1MB/s eta 0:00:01\r\u001b[K     |██▉                             | 20kB 3.4MB/s eta 0:00:01\r\u001b[K     |████▎                           | 30kB 4.3MB/s eta 0:00:01\r\u001b[K     |█████▊                          | 40kB 4.7MB/s eta 0:00:01\r\u001b[K     |███████                         | 51kB 3.9MB/s eta 0:00:01\r\u001b[K     |████████▌                       | 61kB 4.3MB/s eta 0:00:01\r\u001b[K     |██████████                      | 71kB 4.6MB/s eta 0:00:01\r\u001b[K     |███████████▍                    | 81kB 5.0MB/s eta 0:00:01\r\u001b[K     |████████████▊                   | 92kB 5.3MB/s eta 0:00:01\r\u001b[K     |██████████████▏                 | 102kB 5.2MB/s eta 0:00:01\r\u001b[K     |███████████████▋                | 112kB 5.2MB/s eta 0:00:01\r\u001b[K     |█████████████████               | 122kB 5.2MB/s eta 0:00:01\r\u001b[K     |██████████████████▍             | 133kB 5.2MB/s eta 0:00:01\r\u001b[K     |███████████████████▉            | 143kB 5.2MB/s eta 0:00:01\r\u001b[K     |█████████████████████▎          | 153kB 5.2MB/s eta 0:00:01\r\u001b[K     |██████████████████████▊         | 163kB 5.2MB/s eta 0:00:01\r\u001b[K     |████████████████████████        | 174kB 5.2MB/s eta 0:00:01\r\u001b[K     |█████████████████████████▌      | 184kB 5.2MB/s eta 0:00:01\r\u001b[K     |███████████████████████████     | 194kB 5.2MB/s eta 0:00:01\r\u001b[K     |████████████████████████████▍   | 204kB 5.2MB/s eta 0:00:01\r\u001b[K     |█████████████████████████████▉  | 215kB 5.2MB/s eta 0:00:01\r\u001b[K     |███████████████████████████████▏| 225kB 5.2MB/s eta 0:00:01\r\u001b[K     |████████████████████████████████| 235kB 5.2MB/s \n",
            "\u001b[?25hCollecting isodate\n",
            "\u001b[?25l  Downloading https://files.pythonhosted.org/packages/9b/9f/b36f7774ff5ea8e428fdcfc4bb332c39ee5b9362ddd3d40d9516a55221b2/isodate-0.6.0-py2.py3-none-any.whl (45kB)\n",
            "\u001b[K     |████████████████████████████████| 51kB 5.9MB/s \n",
            "\u001b[?25hRequirement already satisfied: pyparsing in /usr/local/lib/python3.6/dist-packages (from rdflib) (2.4.7)\n",
            "Requirement already satisfied: six in /usr/local/lib/python3.6/dist-packages (from rdflib) (1.15.0)\n",
            "Installing collected packages: isodate, rdflib\n",
            "Successfully installed isodate-0.6.0 rdflib-5.0.0\n"
          ],
          "name": "stdout"
        }
      ]
    },
    {
      "cell_type": "code",
      "metadata": {
        "id": "Jb4QeLue5NLr",
        "outputId": "e55ab1e9-f75b-4853-de42-ee63d54265de",
        "colab": {
          "base_uri": "https://localhost:8080/",
          "height": 35
        }
      },
      "source": [
        "from rdflib import Graph, Namespace, Literal, URIRef\n",
        "g1 = Graph()\n",
        "g2 = Graph()\n",
        "g1.parse(github_storage+\"resources/data01.rdf\", format=\"xml\")\n",
        "g2.parse(github_storage+\"resources/data02.rdf\", format=\"xml\")"
      ],
      "execution_count": 2,
      "outputs": [
        {
          "output_type": "execute_result",
          "data": {
            "text/plain": [
              "<Graph identifier=N267b71162b6f41da895d147d26c380de (<class 'rdflib.graph.Graph'>)>"
            ]
          },
          "metadata": {
            "tags": []
          },
          "execution_count": 2
        }
      ]
    },
    {
      "cell_type": "markdown",
      "metadata": {
        "id": "kxxKghwBElOm"
      },
      "source": [
        "Task: list all the elements of the class Person in the first graph (data01.rdf) and complete the fields (given name, family name and email) that may be missing with the data from the second graph (data02.rdf). You can use SPARQL queries or iterate the graph, or both."
      ]
    },
    {
      "cell_type": "code",
      "metadata": {
        "id": "aXtLD-mYpNOY",
        "outputId": "ab7d2759-a1b3-4c75-ba2e-e406d3f996cc",
        "colab": {
          "base_uri": "https://localhost:8080/",
          "height": 311
        }
      },
      "source": [
        "from rdflib import Graph, Namespace, Literal\n",
        "\n",
        "do = Namespace(\"http://data.org#\")\n",
        "VCARD = Namespace(\"http://www.w3.org/2001/vcard-rdf/3.0#\")\n",
        "\n",
        "\n",
        "for s,p,o in g1.triples((None, None, do.Person)):\n",
        "  for s2,p2,o2 in g2.triples((s, None, None)):\n",
        "   print(s,p2,o2)"
      ],
      "execution_count": 38,
      "outputs": [
        {
          "output_type": "stream",
          "text": [
            "http://data.org#HarryPotter http://www.w3.org/2001/vcard-rdf/3.0#FN Harry Potter\n",
            "http://data.org#HarryPotter http://www.w3.org/1999/02/22-rdf-syntax-ns#type http://data.org#Person\n",
            "http://data.org#HarryPotter http://www.w3.org/2001/vcard-rdf/3.0#Given Harry\n",
            "http://data.org#HarryPotter http://www.w3.org/2001/vcard-rdf/3.0#EMAIL hpotter@hogwarts.org\n",
            "http://data.org#JohnDoe http://www.w3.org/2001/vcard-rdf/3.0#Family Doe\n",
            "http://data.org#JohnDoe http://www.w3.org/2001/vcard-rdf/3.0#Given John\n",
            "http://data.org#JohnDoe http://www.w3.org/2001/vcard-rdf/3.0#EMAIL doe@data.org\n",
            "http://data.org#JohnDoe http://www.w3.org/1999/02/22-rdf-syntax-ns#type http://data.org#Person\n",
            "http://data.org#JohnSmith http://www.w3.org/2001/vcard-rdf/3.0#Given John\n",
            "http://data.org#JohnSmith http://www.w3.org/2001/vcard-rdf/3.0#EMAIL j.smith@data.org\n",
            "http://data.org#JohnSmith http://www.w3.org/2001/vcard-rdf/3.0#Family Smith\n",
            "http://data.org#JohnSmith http://www.w3.org/1999/02/22-rdf-syntax-ns#type http://data.org#Person\n",
            "http://data.org#SaraJones http://www.w3.org/2001/vcard-rdf/3.0#Family Jones\n",
            "http://data.org#SaraJones http://www.w3.org/2001/vcard-rdf/3.0#Given Sara\n",
            "http://data.org#SaraJones http://www.w3.org/2001/vcard-rdf/3.0#EMAIL sara.jones@data.org\n",
            "http://data.org#SaraJones http://www.w3.org/1999/02/22-rdf-syntax-ns#type http://data.org#Person\n"
          ],
          "name": "stdout"
        }
      ]
    }
  ]
}