{
 "cells": [
  {
   "cell_type": "markdown",
   "metadata": {
    "colab_type": "text",
    "id": "rb2ewz-dC6GC"
   },
   "source": [
    "**Task 08: Completing missing data**"
   ]
  },
  {
   "cell_type": "code",
   "execution_count": 1,
   "metadata": {
    "colab": {},
    "colab_type": "code",
    "id": "0sQG2Y915Isp"
   },
   "outputs": [
    {
     "name": "stdout",
     "output_type": "stream",
     "text": [
      "Requirement already satisfied: rdflib in c:\\users\\ilias\\anaconda3\\lib\\site-packages (5.0.0)\n",
      "Requirement already satisfied: six in c:\\users\\ilias\\anaconda3\\lib\\site-packages (from rdflib) (1.12.0)\n",
      "Requirement already satisfied: isodate in c:\\users\\ilias\\anaconda3\\lib\\site-packages (from rdflib) (0.6.0)\n",
      "Requirement already satisfied: pyparsing in c:\\users\\ilias\\anaconda3\\lib\\site-packages (from rdflib) (2.4.2)\n"
     ]
    }
   ],
   "source": [
    "!pip install rdflib\n",
    "github_storage = \"https://raw.githubusercontent.com/FacultadInformatica-LinkedData/Curso2020-2021/master/Assignment4/\""
   ]
  },
  {
   "cell_type": "code",
   "execution_count": 2,
   "metadata": {
    "colab": {},
    "colab_type": "code",
    "id": "Jb4QeLue5NLr"
   },
   "outputs": [
    {
     "data": {
      "text/plain": [
       "<Graph identifier=N6b13cf87ff7a4ffc90da3211b0a32e4e (<class 'rdflib.graph.Graph'>)>"
      ]
     },
     "execution_count": 2,
     "metadata": {},
     "output_type": "execute_result"
    }
   ],
   "source": [
    "from rdflib import Graph, Namespace, Literal, URIRef\n",
    "g1 = Graph()\n",
    "g2 = Graph()\n",
    "g1.parse(github_storage+\"resources/data01.rdf\", format=\"xml\")\n",
    "g2.parse(github_storage+\"resources/data02.rdf\", format=\"xml\")"
   ]
  },
  {
   "cell_type": "code",
   "execution_count": 3,
   "metadata": {},
   "outputs": [
    {
     "name": "stdout",
     "output_type": "stream",
     "text": [
      "http://data.org#JohnDoe http://www.w3.org/2001/vcard-rdf/3.0#Family Doe\n",
      "http://data.org#JohnSmith http://www.w3.org/1999/02/22-rdf-syntax-ns#type http://data.org#Person\n",
      "http://data.org#JohnSmith http://www.w3.org/2001/vcard-rdf/3.0#Given John\n",
      "http://data.org#JohnSmith http://www.w3.org/2001/vcard-rdf/3.0#EMAIL j.smith@data.org\n",
      "http://data.org#HarryPotter http://www.w3.org/1999/02/22-rdf-syntax-ns#type http://data.org#Person\n",
      "http://www.w3.org/2001/vcard-rdf/3.0#EMAIL http://www.w3.org/2000/01/rdf-schema#range http://www.w3.org/2001/XMLSchema#string\n",
      "http://www.w3.org/2001/vcard-rdf/3.0#Given http://www.w3.org/1999/02/22-rdf-syntax-ns#type http://www.w3.org/2000/01/rdf-schema#Datatype\n",
      "http://www.w3.org/2001/vcard-rdf/3.0#Family http://www.w3.org/1999/02/22-rdf-syntax-ns#type http://www.w3.org/2000/01/rdf-schema#Property\n",
      "http://www.w3.org/2001/vcard-rdf/3.0#Given http://www.w3.org/2000/01/rdf-schema#range http://www.w3.org/2001/XMLSchema#string\n",
      "http://data.org#SaraJones http://www.w3.org/1999/02/22-rdf-syntax-ns#type http://data.org#Person\n",
      "http://www.w3.org/2001/vcard-rdf/3.0#EMAIL http://www.w3.org/1999/02/22-rdf-syntax-ns#type http://www.w3.org/2000/01/rdf-schema#Datatype\n",
      "http://data.org#JohnDoe http://www.w3.org/1999/02/22-rdf-syntax-ns#type http://data.org#Person\n",
      "http://data.org#JohnDoe http://www.w3.org/2001/vcard-rdf/3.0#EMAIL doe@data.org\n",
      "http://data.org#Person http://www.w3.org/1999/02/22-rdf-syntax-ns#type http://www.w3.org/2000/01/rdf-schema#Class\n",
      "http://data.org#HarryPotter http://www.w3.org/2001/vcard-rdf/3.0#Family Potter\n",
      "http://www.w3.org/2001/vcard-rdf/3.0#Family http://www.w3.org/2000/01/rdf-schema#range http://www.w3.org/2001/XMLSchema#string\n",
      "http://data.org#HarryPotter http://www.w3.org/2001/vcard-rdf/3.0#Given Harry\n",
      "\n",
      " Fin graph 1 \n",
      "\n",
      "http://data.org#JohnDoe http://www.w3.org/2001/vcard-rdf/3.0#Given John\n",
      "http://data.org#HarryPotter http://www.w3.org/1999/02/22-rdf-syntax-ns#type http://data.org#Person\n",
      "http://www.w3.org/2001/vcard-rdf/3.0/FN http://www.w3.org/1999/02/22-rdf-syntax-ns#type http://www.w3.org/2000/01/rdf-schema#Datatype\n",
      "http://www.w3.org/2001/vcard-rdf/3.0/Family http://www.w3.org/1999/02/22-rdf-syntax-ns#type http://www.w3.org/2000/01/rdf-schema#Property\n",
      "http://data.org#SaraJones http://www.w3.org/1999/02/22-rdf-syntax-ns#type http://data.org#Person\n",
      "http://data.org#JohnDoe http://www.w3.org/1999/02/22-rdf-syntax-ns#type http://data.org#Person\n",
      "http://data.org#SaraJones http://www.w3.org/2001/vcard-rdf/3.0#Given Sara\n",
      "http://data.org#JohnSmith http://www.w3.org/1999/02/22-rdf-syntax-ns#type http://data.org#Person\n",
      "http://data.org#JohnSmith http://www.w3.org/2001/vcard-rdf/3.0#EMAIL j.smith@data.org\n",
      "http://data.org#HarryPotter http://www.w3.org/2001/vcard-rdf/3.0#EMAIL hpotter@hogwarts.org\n",
      "http://www.w3.org/2001/vcard-rdf/3.0/Given http://www.w3.org/1999/02/22-rdf-syntax-ns#type http://www.w3.org/2000/01/rdf-schema#Datatype\n",
      "http://data.org#JohnSmith http://www.w3.org/2001/vcard-rdf/3.0#Family Smith\n",
      "http://data.org#HarryPotter http://www.w3.org/2001/vcard-rdf/3.0#FN Harry Potter\n",
      "http://data.org#JohnDoe http://www.w3.org/2001/vcard-rdf/3.0#Family Doe\n",
      "http://data.org#HarryPotter http://www.w3.org/2001/vcard-rdf/3.0#Given Harry\n",
      "http://www.w3.org/2001/vcard-rdf/3.0/EMAIL http://www.w3.org/2000/01/rdf-schema#range http://www.w3.org/2001/XMLSchema#string\n",
      "http://data.org#SaraJones http://www.w3.org/2001/vcard-rdf/3.0#EMAIL sara.jones@data.org\n",
      "http://data.org#JohnDoe http://www.w3.org/2001/vcard-rdf/3.0#EMAIL doe@data.org\n",
      "http://www.w3.org/2001/vcard-rdf/3.0/Family http://www.w3.org/2000/01/rdf-schema#range http://www.w3.org/2001/XMLSchema#string\n",
      "http://www.w3.org/2001/vcard-rdf/3.0/Given http://www.w3.org/2000/01/rdf-schema#range http://www.w3.org/2001/XMLSchema#string\n",
      "http://www.w3.org/2001/vcard-rdf/3.0/EMAIL http://www.w3.org/1999/02/22-rdf-syntax-ns#type http://www.w3.org/2000/01/rdf-schema#Datatype\n",
      "http://data.org#Person http://www.w3.org/1999/02/22-rdf-syntax-ns#type http://www.w3.org/2000/01/rdf-schema#Class\n",
      "http://www.w3.org/2001/vcard-rdf/3.0/FN http://www.w3.org/2000/01/rdf-schema#range http://www.w3.org/2001/XMLSchema#string\n",
      "http://data.org#JohnSmith http://www.w3.org/2001/vcard-rdf/3.0#Given John\n",
      "http://data.org#SaraJones http://www.w3.org/2001/vcard-rdf/3.0#Family Jones\n"
     ]
    }
   ],
   "source": [
    "for s, p, o in g1:\n",
    "    print(s,p,o)\n",
    "print('\\n','Fin graph 1','\\n')\n",
    "for s, p, o in g2:\n",
    "    print(s,p,o)"
   ]
  },
  {
   "cell_type": "code",
   "execution_count": 4,
   "metadata": {},
   "outputs": [],
   "source": [
    "ns = Namespace(\"http://data.org#\")\n",
    "from rdflib.namespace import RDF, RDFS\n",
    "\n",
    "for s,p,o in g1.triples((None, RDF.type, ns.Person)):\n",
    "    for s2, p2, o2 in g2.triples((s, None, None)):\n",
    "    if g1.value(subject=s2, predicate=p2, object=None)==None:\n",
    "        g1.add((s,p,o2))\n",
    "    \n",
    "    "
   ]
  },
  {
   "cell_type": "code",
   "execution_count": 5,
   "metadata": {},
   "outputs": [
    {
     "name": "stdout",
     "output_type": "stream",
     "text": [
      "http://data.org#JohnDoe http://www.w3.org/2001/vcard-rdf/3.0#Family Doe\n",
      "http://data.org#SaraJones http://www.w3.org/1999/02/22-rdf-syntax-ns#type Jones\n",
      "http://data.org#JohnSmith http://www.w3.org/1999/02/22-rdf-syntax-ns#type http://data.org#Person\n",
      "http://data.org#SaraJones http://www.w3.org/1999/02/22-rdf-syntax-ns#type sara.jones@data.org\n",
      "http://data.org#JohnSmith http://www.w3.org/2001/vcard-rdf/3.0#Given John\n",
      "http://data.org#JohnDoe http://www.w3.org/1999/02/22-rdf-syntax-ns#type John\n",
      "http://data.org#JohnSmith http://www.w3.org/2001/vcard-rdf/3.0#EMAIL j.smith@data.org\n",
      "http://data.org#HarryPotter http://www.w3.org/1999/02/22-rdf-syntax-ns#type http://data.org#Person\n",
      "http://www.w3.org/2001/vcard-rdf/3.0#EMAIL http://www.w3.org/2000/01/rdf-schema#range http://www.w3.org/2001/XMLSchema#string\n",
      "http://www.w3.org/2001/vcard-rdf/3.0#Given http://www.w3.org/1999/02/22-rdf-syntax-ns#type http://www.w3.org/2000/01/rdf-schema#Datatype\n",
      "http://data.org#SaraJones http://www.w3.org/1999/02/22-rdf-syntax-ns#type Sara\n",
      "http://data.org#JohnSmith http://www.w3.org/1999/02/22-rdf-syntax-ns#type Smith\n",
      "http://www.w3.org/2001/vcard-rdf/3.0#Given http://www.w3.org/2000/01/rdf-schema#range http://www.w3.org/2001/XMLSchema#string\n",
      "http://data.org#HarryPotter http://www.w3.org/1999/02/22-rdf-syntax-ns#type hpotter@hogwarts.org\n",
      "http://www.w3.org/2001/vcard-rdf/3.0#Family http://www.w3.org/1999/02/22-rdf-syntax-ns#type http://www.w3.org/2000/01/rdf-schema#Property\n",
      "http://data.org#SaraJones http://www.w3.org/1999/02/22-rdf-syntax-ns#type http://data.org#Person\n",
      "http://www.w3.org/2001/vcard-rdf/3.0#EMAIL http://www.w3.org/1999/02/22-rdf-syntax-ns#type http://www.w3.org/2000/01/rdf-schema#Datatype\n",
      "http://data.org#HarryPotter http://www.w3.org/1999/02/22-rdf-syntax-ns#type Harry Potter\n",
      "http://data.org#JohnDoe http://www.w3.org/1999/02/22-rdf-syntax-ns#type http://data.org#Person\n",
      "http://data.org#JohnDoe http://www.w3.org/2001/vcard-rdf/3.0#EMAIL doe@data.org\n",
      "http://data.org#Person http://www.w3.org/1999/02/22-rdf-syntax-ns#type http://www.w3.org/2000/01/rdf-schema#Class\n",
      "http://data.org#HarryPotter http://www.w3.org/2001/vcard-rdf/3.0#Family Potter\n",
      "http://www.w3.org/2001/vcard-rdf/3.0#Family http://www.w3.org/2000/01/rdf-schema#range http://www.w3.org/2001/XMLSchema#string\n",
      "http://data.org#HarryPotter http://www.w3.org/2001/vcard-rdf/3.0#Given Harry\n",
      "\n",
      " Fin graph 1 \n",
      "\n",
      "http://data.org#JohnDoe http://www.w3.org/2001/vcard-rdf/3.0#Given John\n",
      "http://data.org#HarryPotter http://www.w3.org/1999/02/22-rdf-syntax-ns#type http://data.org#Person\n",
      "http://www.w3.org/2001/vcard-rdf/3.0/FN http://www.w3.org/1999/02/22-rdf-syntax-ns#type http://www.w3.org/2000/01/rdf-schema#Datatype\n",
      "http://www.w3.org/2001/vcard-rdf/3.0/Family http://www.w3.org/1999/02/22-rdf-syntax-ns#type http://www.w3.org/2000/01/rdf-schema#Property\n",
      "http://data.org#SaraJones http://www.w3.org/1999/02/22-rdf-syntax-ns#type http://data.org#Person\n",
      "http://data.org#JohnDoe http://www.w3.org/1999/02/22-rdf-syntax-ns#type http://data.org#Person\n",
      "http://data.org#SaraJones http://www.w3.org/2001/vcard-rdf/3.0#Given Sara\n",
      "http://data.org#JohnSmith http://www.w3.org/1999/02/22-rdf-syntax-ns#type http://data.org#Person\n",
      "http://data.org#JohnSmith http://www.w3.org/2001/vcard-rdf/3.0#EMAIL j.smith@data.org\n",
      "http://data.org#HarryPotter http://www.w3.org/2001/vcard-rdf/3.0#EMAIL hpotter@hogwarts.org\n",
      "http://www.w3.org/2001/vcard-rdf/3.0/Given http://www.w3.org/1999/02/22-rdf-syntax-ns#type http://www.w3.org/2000/01/rdf-schema#Datatype\n",
      "http://data.org#JohnSmith http://www.w3.org/2001/vcard-rdf/3.0#Family Smith\n",
      "http://data.org#HarryPotter http://www.w3.org/2001/vcard-rdf/3.0#FN Harry Potter\n",
      "http://data.org#JohnDoe http://www.w3.org/2001/vcard-rdf/3.0#Family Doe\n",
      "http://data.org#HarryPotter http://www.w3.org/2001/vcard-rdf/3.0#Given Harry\n",
      "http://www.w3.org/2001/vcard-rdf/3.0/EMAIL http://www.w3.org/2000/01/rdf-schema#range http://www.w3.org/2001/XMLSchema#string\n",
      "http://data.org#SaraJones http://www.w3.org/2001/vcard-rdf/3.0#EMAIL sara.jones@data.org\n",
      "http://data.org#JohnDoe http://www.w3.org/2001/vcard-rdf/3.0#EMAIL doe@data.org\n",
      "http://www.w3.org/2001/vcard-rdf/3.0/Family http://www.w3.org/2000/01/rdf-schema#range http://www.w3.org/2001/XMLSchema#string\n",
      "http://www.w3.org/2001/vcard-rdf/3.0/Given http://www.w3.org/2000/01/rdf-schema#range http://www.w3.org/2001/XMLSchema#string\n",
      "http://www.w3.org/2001/vcard-rdf/3.0/EMAIL http://www.w3.org/1999/02/22-rdf-syntax-ns#type http://www.w3.org/2000/01/rdf-schema#Datatype\n",
      "http://data.org#Person http://www.w3.org/1999/02/22-rdf-syntax-ns#type http://www.w3.org/2000/01/rdf-schema#Class\n",
      "http://www.w3.org/2001/vcard-rdf/3.0/FN http://www.w3.org/2000/01/rdf-schema#range http://www.w3.org/2001/XMLSchema#string\n",
      "http://data.org#JohnSmith http://www.w3.org/2001/vcard-rdf/3.0#Given John\n",
      "http://data.org#SaraJones http://www.w3.org/2001/vcard-rdf/3.0#Family Jones\n"
     ]
    }
   ],
   "source": [
    "#checking everything's fine\n",
    "for s, p, o in g1:\n",
    "    print(s,p,o)\n",
    "print('\\n','Fin graph 1','\\n')\n",
    "for s, p, o in g2:\n",
    "    print(s,p,o)"
   ]
  },
  {
   "cell_type": "markdown",
   "metadata": {
    "colab_type": "text",
    "id": "kxxKghwBElOm"
   },
   "source": [
    "Tarea: lista todos los elementos de la clase Person en el primer grafo (data01.rdf) y completa los campos (given name, family name y email) que puedan faltar con los datos del segundo grafo (data02.rdf). Puedes usar consultas SPARQL o iterar el grafo, o ambas cosas."
   ]
  }
 ],
 "metadata": {
  "colab": {
   "collapsed_sections": [],
   "name": "Task08.ipynb",
   "provenance": []
  },
  "kernelspec": {
   "display_name": "Python 3",
   "language": "python",
   "name": "python3"
  },
  "language_info": {
   "codemirror_mode": {
    "name": "ipython",
    "version": 3
   },
   "file_extension": ".py",
   "mimetype": "text/x-python",
   "name": "python",
   "nbconvert_exporter": "python",
   "pygments_lexer": "ipython3",
   "version": "3.7.4"
  }
 },
 "nbformat": 4,
 "nbformat_minor": 4
}
