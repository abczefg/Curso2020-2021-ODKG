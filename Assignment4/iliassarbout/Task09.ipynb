{
 "cells": [
  {
   "cell_type": "markdown",
   "metadata": {
    "colab_type": "text",
    "id": "wIhJ69byU2Ad"
   },
   "source": [
    "**Task 09: Data linking**"
   ]
  },
  {
   "cell_type": "code",
   "execution_count": 15,
   "metadata": {
    "colab": {},
    "colab_type": "code",
    "id": "0sQG2Y915Isp"
   },
   "outputs": [
    {
     "name": "stdout",
     "output_type": "stream",
     "text": [
      "Requirement already satisfied: rdflib in c:\\users\\ilias\\anaconda3\\lib\\site-packages (5.0.0)\n",
      "Requirement already satisfied: six in c:\\users\\ilias\\anaconda3\\lib\\site-packages (from rdflib) (1.12.0)\n",
      "Requirement already satisfied: pyparsing in c:\\users\\ilias\\anaconda3\\lib\\site-packages (from rdflib) (2.4.2)\n",
      "Requirement already satisfied: isodate in c:\\users\\ilias\\anaconda3\\lib\\site-packages (from rdflib) (0.6.0)\n"
     ]
    }
   ],
   "source": [
    "!pip install rdflib\n",
    "github_storage = \"https://raw.githubusercontent.com/FacultadInformatica-LinkedData/Curso2020-2021/master/Assignment4/\""
   ]
  },
  {
   "cell_type": "code",
   "execution_count": 16,
   "metadata": {
    "colab": {},
    "colab_type": "code",
    "id": "Jb4QeLue5NLr"
   },
   "outputs": [
    {
     "data": {
      "text/plain": [
       "<Graph identifier=N3271ab2acb3347a1a5d4e958d94af4de (<class 'rdflib.graph.Graph'>)>"
      ]
     },
     "execution_count": 16,
     "metadata": {},
     "output_type": "execute_result"
    }
   ],
   "source": [
    "from rdflib import Graph, Namespace, Literal, URIRef\n",
    "g1 = Graph()\n",
    "g2 = Graph()\n",
    "g3 = Graph()\n",
    "g1.parse(github_storage+\"resources/data03.rdf\", format=\"xml\")\n",
    "g2.parse(github_storage+\"resources/data04.rdf\", format=\"xml\")"
   ]
  },
  {
   "cell_type": "code",
   "execution_count": 39,
   "metadata": {},
   "outputs": [],
   "source": [
    "from rdflib import RDF, OWL\n",
    "\n",
    "ns = Namespace(\"http://data.three.org#\")\n",
    "ns2 = Namespace(\"http://data.four.org#\")\n",
    "ns3 = Namespace(\"http://www.w3.org/2001/vcard-rdf/3.0#\")\n",
    "\n",
    "from rdflib.namespace import RDF, RDFS\n",
    "\n",
    "for s,p,o in g1.triples((None, RDF.type, ns.Person)):\n",
    "    for s2, p2, o2 in g2.triples((None, RDF.type, ns2.Person)):\n",
    "        if g1.value(subject=s, predicate=ns3.Given, object=None)==g2.value(subject=s2, predicate=ns3.Given, object=None) and g2.value(subject=s2, predicate=ns3.Family, object=None)==g2.value(subject=s2, predicate=ns3.Family, object=None):\n",
    "            g3.add((s,OWL.sameAs,s2))\n",
    "    \n",
    "    \n",
    "    "
   ]
  },
  {
   "cell_type": "markdown",
   "metadata": {
    "colab_type": "text",
    "id": "5wfBZiQSU827"
   },
   "source": [
    "Busca individuos en los dos grafos y enlázalos mediante la propiedad OWL:sameAs, inserta estas coincidencias en g3. Consideramos dos individuos iguales si tienen el mismo apodo y nombre de familia. Ten en cuenta que las URI no tienen por qué ser iguales para un mismo individuo en los dos grafos."
   ]
  }
 ],
 "metadata": {
  "colab": {
   "collapsed_sections": [],
   "name": "Task09.ipynb",
   "provenance": []
  },
  "kernelspec": {
   "display_name": "Python 3",
   "language": "python",
   "name": "python3"
  },
  "language_info": {
   "codemirror_mode": {
    "name": "ipython",
    "version": 3
   },
   "file_extension": ".py",
   "mimetype": "text/x-python",
   "name": "python",
   "nbconvert_exporter": "python",
   "pygments_lexer": "ipython3",
   "version": "3.7.4"
  }
 },
 "nbformat": 4,
 "nbformat_minor": 4
}
