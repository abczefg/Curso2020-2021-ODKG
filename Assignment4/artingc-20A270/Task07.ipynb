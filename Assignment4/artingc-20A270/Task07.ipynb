{
 "cells": [
  {
   "cell_type": "markdown",
   "metadata": {
    "id": "nOOPLCHF7hLB"
   },
   "source": [
    "**Task 07: Querying RDF(s)**"
   ]
  },
  {
   "cell_type": "code",
   "execution_count": 21,
   "metadata": {
    "colab": {
     "base_uri": "https://localhost:8080/",
     "height": 92
    },
    "executionInfo": {
     "elapsed": 3193,
     "status": "ok",
     "timestamp": 1601901367034,
     "user": {
      "displayName": "Martin García Calderón",
      "photoUrl": "",
      "userId": "17046841978155088843"
     },
     "user_tz": -120
    },
    "id": "Yl9npCt8n6m-",
    "outputId": "b8eddedf-dc73-4b24-dca1-d07923f8f767"
   },
   "outputs": [
    {
     "name": "stdout",
     "output_type": "stream",
     "text": [
      "Requirement already satisfied: rdflib in c:\\users\\marti\\anaconda3\\lib\\site-packages (5.0.0)\n",
      "Requirement already satisfied: isodate in c:\\users\\marti\\anaconda3\\lib\\site-packages (from rdflib) (0.6.0)\n",
      "Requirement already satisfied: six in c:\\users\\marti\\anaconda3\\lib\\site-packages (from rdflib) (1.12.0)\n",
      "Requirement already satisfied: pyparsing in c:\\users\\marti\\anaconda3\\lib\\site-packages (from rdflib) (2.4.0)\n"
     ]
    }
   ],
   "source": [
    "!pip install rdflib \n",
    "github_storage = \"https://raw.githubusercontent.com/FacultadInformatica-LinkedData/Curso2020-2021/master/Assignment4\""
   ]
  },
  {
   "cell_type": "markdown",
   "metadata": {
    "id": "XY7aPc86Bqoo"
   },
   "source": [
    "Read the RDF file"
   ]
  },
  {
   "cell_type": "code",
   "execution_count": 22,
   "metadata": {
    "colab": {
     "base_uri": "https://localhost:8080/",
     "height": 36
    },
    "executionInfo": {
     "elapsed": 651,
     "status": "ok",
     "timestamp": 1601901370582,
     "user": {
      "displayName": "Martin García Calderón",
      "photoUrl": "",
      "userId": "17046841978155088843"
     },
     "user_tz": -120
    },
    "id": "9ERh415on7kF",
    "outputId": "fbd29f03-29b7-4d2b-8d37-36d569a4ea06"
   },
   "outputs": [
    {
     "data": {
      "text/plain": [
       "<Graph identifier=Na71f688852a34ef39bfd53758784149f (<class 'rdflib.graph.Graph'>)>"
      ]
     },
     "execution_count": 22,
     "metadata": {},
     "output_type": "execute_result"
    }
   ],
   "source": [
    "from rdflib import Graph, Namespace, Literal\n",
    "from rdflib.namespace import RDF, RDFS\n",
    "g = Graph()\n",
    "g.namespace_manager.bind('ns', Namespace(\"http://somewhere#\"), override=False)\n",
    "g.namespace_manager.bind('vcard', Namespace(\"http://www.w3.org/2001/vcard-rdf/3.0#\"), override=False)\n",
    "g.parse(github_storage+\"/resources/example6.rdf\", format=\"xml\")"
   ]
  },
  {
   "cell_type": "markdown",
   "metadata": {
    "id": "qp1oe2Eddsvo"
   },
   "source": [
    "**TASK 7.1: List all subclasses of \"Person\" with RDFLib and SPARQL**"
   ]
  },
  {
   "cell_type": "markdown",
   "metadata": {},
   "source": [
    "First, we show all the triples in the graph:"
   ]
  },
  {
   "cell_type": "code",
   "execution_count": 23,
   "metadata": {
    "colab": {
     "base_uri": "https://localhost:8080/",
     "height": 484
    },
    "executionInfo": {
     "elapsed": 740,
     "status": "ok",
     "timestamp": 1601901372503,
     "user": {
      "displayName": "Martin García Calderón",
      "photoUrl": "",
      "userId": "17046841978155088843"
     },
     "user_tz": -120
    },
    "id": "di1II0BZr6Ye",
    "outputId": "301945b6-7bdb-4690-90f5-0d2d93165e7f"
   },
   "outputs": [
    {
     "name": "stdout",
     "output_type": "stream",
     "text": [
      "http://somewhere#SaraJones http://www.w3.org/1999/02/22-rdf-syntax-ns#type http://somewhere#Person\n",
      "http://somewhere#http://www.w3.org/2001/vcard-rdf/3.0/Family http://www.w3.org/2000/01/rdf-schema#range http://www.w3.org/2001/XMLSchema#string\n",
      "http://somewhere#http://www.w3.org/2001/vcard-rdf/3.0/FN http://www.w3.org/2000/01/rdf-schema#range http://www.w3.org/2001/XMLSchema#string\n",
      "http://somewhere#UPM http://www.w3.org/1999/02/22-rdf-syntax-ns#type http://somewhere#University\n",
      "http://somewhere#JohnSmith http://www.w3.org/1999/02/22-rdf-syntax-ns#type http://somewhere#Person\n",
      "http://somewhere#http://www.w3.org/2001/vcard-rdf/3.0/Family http://www.w3.org/1999/02/22-rdf-syntax-ns#type http://www.w3.org/2000/01/rdf-schema#Property\n",
      "http://somewhere#Researcher http://www.w3.org/2000/01/rdf-schema#subClassOf http://somewhere#Person\n",
      "http://somewhere#University http://www.w3.org/1999/02/22-rdf-syntax-ns#type http://www.w3.org/2000/01/rdf-schema#Class\n",
      "http://somewhere#JaneSmith http://somewhere#http://www.w3.org/2001/vcard-rdf/3.0/FN jane Smith\n",
      "http://somewhere#http://www.w3.org/2001/vcard-rdf/3.0/Given http://www.w3.org/2000/01/rdf-schema#range http://www.w3.org/2001/XMLSchema#string\n",
      "http://somewhere#JohnSmith http://somewhere#http://www.w3.org/2001/vcard-rdf/3.0/Family Smith\n",
      "http://somewhere#JaneSmith http://somewhere#http://www.w3.org/2001/vcard-rdf/3.0/Family Smith\n",
      "http://somewhere#PhDstudent http://www.w3.org/1999/02/22-rdf-syntax-ns#type http://www.w3.org/2000/01/rdf-schema#Class\n",
      "http://somewhere#PhDstudent http://www.w3.org/2000/01/rdf-schema#subClassOf http://somewhere#Researcher\n",
      "http://somewhere#JaneSmith http://www.w3.org/1999/02/22-rdf-syntax-ns#type http://somewhere#Researcher\n",
      "http://somewhere#Person http://www.w3.org/1999/02/22-rdf-syntax-ns#type http://www.w3.org/2000/01/rdf-schema#Class\n",
      "http://somewhere#Researcher http://www.w3.org/1999/02/22-rdf-syntax-ns#type http://www.w3.org/2000/01/rdf-schema#Class\n",
      "http://somewhere#SaraJones http://somewhere#http://www.w3.org/2001/vcard-rdf/3.0/Given Sara\n",
      "http://somewhere#JaneSmith http://somewhere#http://www.w3.org/2001/vcard-rdf/3.0/Given Jane\n",
      "http://somewhere#SaraJones http://somewhere#http://www.w3.org/2001/vcard-rdf/3.0/FN Sara Jones\n",
      "http://somewhere#http://www.w3.org/2001/vcard-rdf/3.0/FN http://www.w3.org/1999/02/22-rdf-syntax-ns#type http://www.w3.org/2000/01/rdf-schema#Datatype\n",
      "http://somewhere#JohnSmith http://somewhere#http://www.w3.org/2001/vcard-rdf/3.0/FN John Smith\n",
      "http://somewhere#JohnSmith http://somewhere#http://www.w3.org/2001/vcard-rdf/3.0/Given John\n",
      "http://somewhere#http://www.w3.org/2001/vcard-rdf/3.0/Given http://www.w3.org/1999/02/22-rdf-syntax-ns#type http://www.w3.org/2000/01/rdf-schema#Datatype\n",
      "http://somewhere#SaraJones http://somewhere#http://www.w3.org/2001/vcard-rdf/3.0/Family Jones\n"
     ]
    }
   ],
   "source": [
    "for s, p, o in g:\n",
    "  print(s,p,o)"
   ]
  },
  {
   "cell_type": "markdown",
   "metadata": {},
   "source": [
    "If we ask directly for the subclasses of Person, we won't obtain the ones that are subclass of one of these subclasses. Let's see all the triples with the property \"subClassOf\":"
   ]
  },
  {
   "cell_type": "code",
   "execution_count": 24,
   "metadata": {
    "colab": {
     "base_uri": "https://localhost:8080/",
     "height": 54
    },
    "executionInfo": {
     "elapsed": 656,
     "status": "ok",
     "timestamp": 1601901377858,
     "user": {
      "displayName": "Martin García Calderón",
      "photoUrl": "",
      "userId": "17046841978155088843"
     },
     "user_tz": -120
    },
    "id": "s8QHIoAXmQCC",
    "outputId": "ba623417-2399-46d8-c8aa-8bf4e82014ae"
   },
   "outputs": [
    {
     "name": "stdout",
     "output_type": "stream",
     "text": [
      "http://somewhere#PhDstudent http://www.w3.org/2000/01/rdf-schema#subClassOf http://somewhere#Researcher\n",
      "http://somewhere#Researcher http://www.w3.org/2000/01/rdf-schema#subClassOf http://somewhere#Person\n"
     ]
    }
   ],
   "source": [
    "from rdflib.plugins.sparql import prepareQuery\n",
    "ns = Namespace(\"http://somewhere#\")\n",
    "\n",
    "for s,p,o in g.triples((None, RDFS.subClassOf, None)):\n",
    "  print(s, p, o)"
   ]
  },
  {
   "cell_type": "markdown",
   "metadata": {},
   "source": [
    "We can see that both Researcher and PhDstudent are subclass of Person, due to the transitivity of the relation. Now, we can solve the problem:"
   ]
  },
  {
   "cell_type": "code",
   "execution_count": 25,
   "metadata": {
    "colab": {
     "base_uri": "https://localhost:8080/",
     "height": 54
    },
    "executionInfo": {
     "elapsed": 698,
     "status": "ok",
     "timestamp": 1601906398867,
     "user": {
      "displayName": "Martin García Calderón",
      "photoUrl": "",
      "userId": "17046841978155088843"
     },
     "user_tz": -120
    },
    "id": "j4raf7xdvJi3",
    "outputId": "ef9f3e7a-038c-4c9f-a8eb-beedfb500100"
   },
   "outputs": [
    {
     "name": "stdout",
     "output_type": "stream",
     "text": [
      "http://somewhere#Researcher\n",
      "http://somewhere#PhDstudent\n"
     ]
    }
   ],
   "source": [
    "# Using RDFLib (Iterating over the graph)\n",
    "class_person = ns.Person\n",
    "for t in g.triples((None, RDFS.subClassOf, class_person)): # Ask for the direct subclass\n",
    "  print(t[0])\n",
    "  class_person = t[0]\n",
    "  for t in g.triples((None, RDFS.subClassOf, class_person)): # Ask for the subclasses of the last subclass\n",
    "      print(t[0])\n",
    "      class_person = t[0]\n",
    "     "
   ]
  },
  {
   "cell_type": "code",
   "execution_count": 26,
   "metadata": {
    "colab": {
     "base_uri": "https://localhost:8080/",
     "height": 54
    },
    "executionInfo": {
     "elapsed": 688,
     "status": "ok",
     "timestamp": 1601904772592,
     "user": {
      "displayName": "Martin García Calderón",
      "photoUrl": "",
      "userId": "17046841978155088843"
     },
     "user_tz": -120
    },
    "id": "Qqj7JiYwsrw3",
    "outputId": "0afa7dbb-e222-44dc-f8c3-02a5e031fc03"
   },
   "outputs": [
    {
     "name": "stdout",
     "output_type": "stream",
     "text": [
      "http://somewhere#Researcher\n",
      "http://somewhere#PhDstudent\n"
     ]
    }
   ],
   "source": [
    "# Using SPARQL\n",
    "q1 = prepareQuery('''\n",
    "  SELECT \n",
    "    ?subClass\n",
    "  WHERE {\n",
    "    ?subClass RDFS:subClassOf* ns:Person.\n",
    "    FILTER (?subClass != ns:Person).\n",
    "\n",
    "  }  \n",
    "  ''',\n",
    "  initNs = { \"ns\": ns, \"RDFS\" : RDFS}\n",
    ")\n",
    "\n",
    "for r in g.query(q1):\n",
    "  print(r.subClass)"
   ]
  },
  {
   "cell_type": "markdown",
   "metadata": {
    "id": "gM3DASkTQQ5Y"
   },
   "source": [
    "**TASK 7.2: List all individuals of \"Person\" with RDFLib and SPARQL (remember the subClasses)**\n"
   ]
  },
  {
   "cell_type": "markdown",
   "metadata": {},
   "source": [
    "Let's see all the instances"
   ]
  },
  {
   "cell_type": "code",
   "execution_count": 27,
   "metadata": {
    "colab": {
     "base_uri": "https://localhost:8080/",
     "height": 223
    },
    "executionInfo": {
     "elapsed": 591,
     "status": "ok",
     "timestamp": 1601904429246,
     "user": {
      "displayName": "Martin García Calderón",
      "photoUrl": "",
      "userId": "17046841978155088843"
     },
     "user_tz": -120
    },
    "id": "6bK9GFbt8U8y",
    "outputId": "0091a622-f86e-4a62-9b2f-e44dcab420b9"
   },
   "outputs": [
    {
     "name": "stdout",
     "output_type": "stream",
     "text": [
      "http://somewhere#PhDstudent http://www.w3.org/1999/02/22-rdf-syntax-ns#type http://www.w3.org/2000/01/rdf-schema#Class\n",
      "http://somewhere#SaraJones http://www.w3.org/1999/02/22-rdf-syntax-ns#type http://somewhere#Person\n",
      "http://somewhere#JaneSmith http://www.w3.org/1999/02/22-rdf-syntax-ns#type http://somewhere#Researcher\n",
      "http://somewhere#Person http://www.w3.org/1999/02/22-rdf-syntax-ns#type http://www.w3.org/2000/01/rdf-schema#Class\n",
      "http://somewhere#Researcher http://www.w3.org/1999/02/22-rdf-syntax-ns#type http://www.w3.org/2000/01/rdf-schema#Class\n",
      "http://somewhere#UPM http://www.w3.org/1999/02/22-rdf-syntax-ns#type http://somewhere#University\n",
      "http://somewhere#University http://www.w3.org/1999/02/22-rdf-syntax-ns#type http://www.w3.org/2000/01/rdf-schema#Class\n",
      "http://somewhere#http://www.w3.org/2001/vcard-rdf/3.0/FN http://www.w3.org/1999/02/22-rdf-syntax-ns#type http://www.w3.org/2000/01/rdf-schema#Datatype\n",
      "http://somewhere#http://www.w3.org/2001/vcard-rdf/3.0/Family http://www.w3.org/1999/02/22-rdf-syntax-ns#type http://www.w3.org/2000/01/rdf-schema#Property\n",
      "http://somewhere#JohnSmith http://www.w3.org/1999/02/22-rdf-syntax-ns#type http://somewhere#Person\n",
      "http://somewhere#http://www.w3.org/2001/vcard-rdf/3.0/Given http://www.w3.org/1999/02/22-rdf-syntax-ns#type http://www.w3.org/2000/01/rdf-schema#Datatype\n"
     ]
    }
   ],
   "source": [
    "for s,p,o in g.triples((None, RDF.type, None)):\n",
    "  print(s, p, o)"
   ]
  },
  {
   "cell_type": "markdown",
   "metadata": {},
   "source": [
    "We can see that there are three inidviduals of Person, two of then are instances of Person and one, instance of Research."
   ]
  },
  {
   "cell_type": "code",
   "execution_count": 28,
   "metadata": {
    "colab": {
     "base_uri": "https://localhost:8080/",
     "height": 73
    },
    "executionInfo": {
     "elapsed": 651,
     "status": "ok",
     "timestamp": 1601904575590,
     "user": {
      "displayName": "Martin García Calderón",
      "photoUrl": "",
      "userId": "17046841978155088843"
     },
     "user_tz": -120
    },
    "id": "sRvFtPD4mQgP",
    "outputId": "9be186c7-39a3-4362-8b1a-eeadee7f6472"
   },
   "outputs": [
    {
     "name": "stdout",
     "output_type": "stream",
     "text": [
      "http://somewhere#SaraJones\n",
      "http://somewhere#JohnSmith\n",
      "http://somewhere#JaneSmith\n"
     ]
    }
   ],
   "source": [
    "# Using RDFLib (Iterating over the graph)\n",
    "class_person = ns.Person\n",
    "for t in g.triples((None, RDF.type, class_person)): # Instances of Person\n",
    "  print(t[0])\n",
    "\n",
    "for t in g.triples((None, RDFS.subClassOf, class_person)): # Instances of direct subclasses of Person\n",
    "  class_person = t[0]\n",
    "  for t in g.triples((None, RDF.type, class_person)):\n",
    "      print(t[0])"
   ]
  },
  {
   "cell_type": "code",
   "execution_count": 29,
   "metadata": {
    "colab": {
     "base_uri": "https://localhost:8080/",
     "height": 73
    },
    "executionInfo": {
     "elapsed": 573,
     "status": "ok",
     "timestamp": 1601904781984,
     "user": {
      "displayName": "Martin García Calderón",
      "photoUrl": "",
      "userId": "17046841978155088843"
     },
     "user_tz": -120
    },
    "id": "JNjHjann9EN3",
    "outputId": "c1530f84-9a22-4a31-d76b-8e11efaffe72"
   },
   "outputs": [
    {
     "name": "stdout",
     "output_type": "stream",
     "text": [
      "http://somewhere#SaraJones\n",
      "http://somewhere#JohnSmith\n",
      "http://somewhere#JaneSmith\n"
     ]
    }
   ],
   "source": [
    "# Using SPARQL\n",
    "q2 = prepareQuery('''\n",
    "  SELECT \n",
    "    ?instance\n",
    "  WHERE {\n",
    "    ?subClass RDFS:subClassOf* ns:Person.\n",
    "    ?instance a ?subClass.\n",
    "\n",
    "  }  \n",
    "  ''',\n",
    "  initNs = { \"ns\": ns, \"RDFS\" : RDFS}\n",
    ")\n",
    "\n",
    "for r in g.query(q2):\n",
    "  print(r.instance)"
   ]
  },
  {
   "cell_type": "markdown",
   "metadata": {
    "id": "MXBqtBkJd22I"
   },
   "source": [
    "**TASK 7.3: List all individuals of \"Person\" and all their properties including their class with RDFLib and SPARQL**\n"
   ]
  },
  {
   "cell_type": "code",
   "execution_count": 30,
   "metadata": {
    "colab": {
     "base_uri": "https://localhost:8080/",
     "height": 297
    },
    "executionInfo": {
     "elapsed": 642,
     "status": "ok",
     "timestamp": 1601905305940,
     "user": {
      "displayName": "Martin García Calderón",
      "photoUrl": "",
      "userId": "17046841978155088843"
     },
     "user_tz": -120
    },
    "id": "poKkgnMAmR_s",
    "outputId": "8c778692-2222-4086-bd62-f57dd9974ee6"
   },
   "outputs": [
    {
     "name": "stdout",
     "output_type": "stream",
     "text": [
      "Instance http://somewhere#SaraJones, Class http://somewhere#Person\n",
      "- Property: http://www.w3.org/1999/02/22-rdf-syntax-ns#type, Value: http://somewhere#Person\n",
      "- Property: http://somewhere#http://www.w3.org/2001/vcard-rdf/3.0/FN, Value: Sara Jones\n",
      "- Property: http://somewhere#http://www.w3.org/2001/vcard-rdf/3.0/Family, Value: Jones\n",
      "- Property: http://somewhere#http://www.w3.org/2001/vcard-rdf/3.0/Given, Value: Sara\n",
      "Instance http://somewhere#JohnSmith, Class http://somewhere#Person\n",
      "- Property: http://somewhere#http://www.w3.org/2001/vcard-rdf/3.0/FN, Value: John Smith\n",
      "- Property: http://somewhere#http://www.w3.org/2001/vcard-rdf/3.0/Given, Value: John\n",
      "- Property: http://www.w3.org/1999/02/22-rdf-syntax-ns#type, Value: http://somewhere#Person\n",
      "- Property: http://somewhere#http://www.w3.org/2001/vcard-rdf/3.0/Family, Value: Smith\n",
      "Instance http://somewhere#JaneSmith, Class http://somewhere#Researcher\n",
      "- Property: http://somewhere#http://www.w3.org/2001/vcard-rdf/3.0/Given, Value: Jane\n",
      "- Property: http://www.w3.org/1999/02/22-rdf-syntax-ns#type, Value: http://somewhere#Researcher\n",
      "- Property: http://somewhere#http://www.w3.org/2001/vcard-rdf/3.0/FN, Value: jane Smith\n",
      "- Property: http://somewhere#http://www.w3.org/2001/vcard-rdf/3.0/Family, Value: Smith\n"
     ]
    }
   ],
   "source": [
    "# Using RDFLib (Iterating over the graph)\n",
    "\n",
    "# First, obtain the individual\n",
    "\n",
    "class_person = ns.Person\n",
    "individual = []\n",
    "for t in g.triples((None, RDF.type, class_person)): # Instances of Person\n",
    "  individual.append([t[0], class_person])\n",
    "\n",
    "for t in g.triples((None, RDFS.subClassOf, class_person)): # Instances of direct subclasses of Person\n",
    "  class_person = t[0]\n",
    "  for t in g.triples((None, RDF.type, class_person)):\n",
    "      individual.append([t[0], class_person])\n",
    "\n",
    "# Second, look for the properties\n",
    "\n",
    "for i in individual:\n",
    "  print(\"Instance \" + str(i[0]) + \", Class \" + str(i[1]))\n",
    "  for s,p,o in g.triples((i[0], None, None)):\n",
    "    print(\"- Property: \" + str(p) + \", Value: \" + str(o))\n"
   ]
  },
  {
   "cell_type": "code",
   "execution_count": 31,
   "metadata": {
    "colab": {
     "base_uri": "https://localhost:8080/",
     "height": 297
    },
    "executionInfo": {
     "elapsed": 522,
     "status": "ok",
     "timestamp": 1601905683543,
     "user": {
      "displayName": "Martin García Calderón",
      "photoUrl": "",
      "userId": "17046841978155088843"
     },
     "user_tz": -120
    },
    "id": "hdbMnNz4_2CP",
    "outputId": "db3c9494-0eb4-4eba-fc67-2a6d9d157aac"
   },
   "outputs": [
    {
     "name": "stdout",
     "output_type": "stream",
     "text": [
      "Instance http://somewhere#SaraJones, Class http://somewhere#Person\n",
      "- Property: http://www.w3.org/1999/02/22-rdf-syntax-ns#type, Value: http://somewhere#Person\n",
      "- Property: http://somewhere#http://www.w3.org/2001/vcard-rdf/3.0/FN, Value: Sara Jones\n",
      "- Property: http://somewhere#http://www.w3.org/2001/vcard-rdf/3.0/Family, Value: Jones\n",
      "- Property: http://somewhere#http://www.w3.org/2001/vcard-rdf/3.0/Given, Value: Sara\n",
      "Instance http://somewhere#JohnSmith, Class http://somewhere#Person\n",
      "- Property: http://somewhere#http://www.w3.org/2001/vcard-rdf/3.0/FN, Value: John Smith\n",
      "- Property: http://somewhere#http://www.w3.org/2001/vcard-rdf/3.0/Given, Value: John\n",
      "- Property: http://www.w3.org/1999/02/22-rdf-syntax-ns#type, Value: http://somewhere#Person\n",
      "- Property: http://somewhere#http://www.w3.org/2001/vcard-rdf/3.0/Family, Value: Smith\n",
      "Instance http://somewhere#JaneSmith, Class http://somewhere#Researcher\n",
      "- Property: http://somewhere#http://www.w3.org/2001/vcard-rdf/3.0/Given, Value: Jane\n",
      "- Property: http://www.w3.org/1999/02/22-rdf-syntax-ns#type, Value: http://somewhere#Researcher\n",
      "- Property: http://somewhere#http://www.w3.org/2001/vcard-rdf/3.0/FN, Value: jane Smith\n",
      "- Property: http://somewhere#http://www.w3.org/2001/vcard-rdf/3.0/Family, Value: Smith\n"
     ]
    }
   ],
   "source": [
    "# Using SPARQL\n",
    "q3 = prepareQuery('''\n",
    "  SELECT \n",
    "    ?instance ?subClass\n",
    "  WHERE {\n",
    "    ?subClass RDFS:subClassOf* ns:Person.\n",
    "    ?instance a ?subClass.\n",
    "\n",
    "  }  \n",
    "  ''',\n",
    "  initNs = { \"ns\": ns, \"RDFS\" : RDFS}\n",
    ")\n",
    "\n",
    "q4 = prepareQuery('''\n",
    "  SELECT \n",
    "    ?property ?value\n",
    "  WHERE {\n",
    "    ?instance ?property ?value\n",
    "\n",
    "  }  \n",
    "  ''',\n",
    "  initNs = { \"ns\": ns, \"RDFS\" : RDFS}\n",
    ")\n",
    "\n",
    "for r in g.query(q3):\n",
    "  print(\"Instance \" + str(r.instance) + \", Class \" + str(r.subClass))\n",
    "  for p,o in g.query(q4, initBindings = {'?instance' : r.instance}):\n",
    "    print(\"- Property: \" + str(p) + \", Value: \" + str(o))"
   ]
  }
 ],
 "metadata": {
  "colab": {
   "collapsed_sections": [],
   "name": "Task07.ipynb",
   "provenance": []
  },
  "kernelspec": {
   "display_name": "Python 3",
   "language": "python",
   "name": "python3"
  },
  "language_info": {
   "codemirror_mode": {
    "name": "ipython",
    "version": 3
   },
   "file_extension": ".py",
   "mimetype": "text/x-python",
   "name": "python",
   "nbconvert_exporter": "python",
   "pygments_lexer": "ipython3",
   "version": "3.7.3"
  }
 },
 "nbformat": 4,
 "nbformat_minor": 1
}
