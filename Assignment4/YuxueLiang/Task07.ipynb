{
  "nbformat": 4,
  "nbformat_minor": 0,
  "metadata": {
    "colab": {
      "name": "Task07.ipynb",
      "provenance": [],
      "collapsed_sections": []
    },
    "kernelspec": {
      "name": "python3",
      "display_name": "Python 3"
    }
  },
  "cells": [
    {
      "cell_type": "markdown",
      "metadata": {
        "id": "nOOPLCHF7hLB"
      },
      "source": [
        "**Task 07: Querying RDF(s)**"
      ]
    },
    {
      "cell_type": "code",
      "metadata": {
        "id": "Yl9npCt8n6m-",
        "outputId": "fdec1c84-4180-42a2-ac87-7b0174f9aacd",
        "colab": {
          "base_uri": "https://localhost:8080/",
          "height": 211
        }
      },
      "source": [
        "!pip install rdflib \n",
        "github_storage = \"https://raw.githubusercontent.com/FacultadInformatica-LinkedData/Curso2020-2021/master/Assignment4\""
      ],
      "execution_count": 1,
      "outputs": [
        {
          "output_type": "stream",
          "text": [
            "Collecting rdflib\n",
            "\u001b[?25l  Downloading https://files.pythonhosted.org/packages/d0/6b/6454aa1db753c0f8bc265a5bd5c10b5721a4bb24160fb4faf758cf6be8a1/rdflib-5.0.0-py3-none-any.whl (231kB)\n",
            "\r\u001b[K     |█▍                              | 10kB 11.1MB/s eta 0:00:01\r\u001b[K     |██▉                             | 20kB 1.7MB/s eta 0:00:01\r\u001b[K     |████▎                           | 30kB 2.2MB/s eta 0:00:01\r\u001b[K     |█████▊                          | 40kB 2.5MB/s eta 0:00:01\r\u001b[K     |███████                         | 51kB 2.0MB/s eta 0:00:01\r\u001b[K     |████████▌                       | 61kB 2.3MB/s eta 0:00:01\r\u001b[K     |██████████                      | 71kB 2.5MB/s eta 0:00:01\r\u001b[K     |███████████▍                    | 81kB 2.7MB/s eta 0:00:01\r\u001b[K     |████████████▊                   | 92kB 2.9MB/s eta 0:00:01\r\u001b[K     |██████████████▏                 | 102kB 2.8MB/s eta 0:00:01\r\u001b[K     |███████████████▋                | 112kB 2.8MB/s eta 0:00:01\r\u001b[K     |█████████████████               | 122kB 2.8MB/s eta 0:00:01\r\u001b[K     |██████████████████▍             | 133kB 2.8MB/s eta 0:00:01\r\u001b[K     |███████████████████▉            | 143kB 2.8MB/s eta 0:00:01\r\u001b[K     |█████████████████████▎          | 153kB 2.8MB/s eta 0:00:01\r\u001b[K     |██████████████████████▊         | 163kB 2.8MB/s eta 0:00:01\r\u001b[K     |████████████████████████        | 174kB 2.8MB/s eta 0:00:01\r\u001b[K     |█████████████████████████▌      | 184kB 2.8MB/s eta 0:00:01\r\u001b[K     |███████████████████████████     | 194kB 2.8MB/s eta 0:00:01\r\u001b[K     |████████████████████████████▍   | 204kB 2.8MB/s eta 0:00:01\r\u001b[K     |█████████████████████████████▉  | 215kB 2.8MB/s eta 0:00:01\r\u001b[K     |███████████████████████████████▏| 225kB 2.8MB/s eta 0:00:01\r\u001b[K     |████████████████████████████████| 235kB 2.8MB/s \n",
            "\u001b[?25hRequirement already satisfied: pyparsing in /usr/local/lib/python3.6/dist-packages (from rdflib) (2.4.7)\n",
            "Collecting isodate\n",
            "\u001b[?25l  Downloading https://files.pythonhosted.org/packages/9b/9f/b36f7774ff5ea8e428fdcfc4bb332c39ee5b9362ddd3d40d9516a55221b2/isodate-0.6.0-py2.py3-none-any.whl (45kB)\n",
            "\u001b[K     |████████████████████████████████| 51kB 5.5MB/s \n",
            "\u001b[?25hRequirement already satisfied: six in /usr/local/lib/python3.6/dist-packages (from rdflib) (1.15.0)\n",
            "Installing collected packages: isodate, rdflib\n",
            "Successfully installed isodate-0.6.0 rdflib-5.0.0\n"
          ],
          "name": "stdout"
        }
      ]
    },
    {
      "cell_type": "markdown",
      "metadata": {
        "id": "XY7aPc86Bqoo"
      },
      "source": [
        "Read the RDF file"
      ]
    },
    {
      "cell_type": "code",
      "metadata": {
        "id": "9ERh415on7kF",
        "outputId": "fb21186b-45cc-4b97-f730-b6fad9adbdf9",
        "colab": {
          "base_uri": "https://localhost:8080/",
          "height": 35
        }
      },
      "source": [
        "from rdflib import Graph, Namespace, Literal\n",
        "from rdflib.namespace import RDF, RDFS\n",
        "g = Graph()\n",
        "g.namespace_manager.bind('ns', Namespace(\"http://somewhere#\"), override=False)\n",
        "g.namespace_manager.bind('vcard', Namespace(\"http://www.w3.org/2001/vcard-rdf/3.0#\"), override=False)\n",
        "g.parse(github_storage+\"/resources/example6.rdf\", format=\"xml\")"
      ],
      "execution_count": 2,
      "outputs": [
        {
          "output_type": "execute_result",
          "data": {
            "text/plain": [
              "<Graph identifier=N0de1463af1ae432b83d81793048dc7c1 (<class 'rdflib.graph.Graph'>)>"
            ]
          },
          "metadata": {
            "tags": []
          },
          "execution_count": 2
        }
      ]
    },
    {
      "cell_type": "markdown",
      "metadata": {
        "id": "qp1oe2Eddsvo"
      },
      "source": [
        "**TASK 7.1: List all subclasses of \"Person\" with RDFLib and SPARQL**"
      ]
    },
    {
      "cell_type": "code",
      "metadata": {
        "id": "e7GsWVR0Udra",
        "outputId": "fd195f99-100e-4313-fdb0-a5dd13b9b0f4",
        "colab": {
          "base_uri": "https://localhost:8080/",
          "height": 87
        }
      },
      "source": [
        "ns = Namespace(\"http://somewhere#\")\n",
        "vcard = Namespace(\"http://www.w3.org/2001/vcard-rdf/3.0#\")\n",
        "\n",
        "#RDFLib\n",
        "for s,p,o in g.triples((None, RDFS.subClassOf, ns.Person)):\n",
        "    print(s)\n",
        "for a,b,c in g.triples((None, RDFS.subClassOf, s)): \n",
        "  print(a)\n",
        "\n",
        "#SPARQL\n",
        "from rdflib.plugins.sparql import prepareQuery\n",
        "q1 = prepareQuery('''\n",
        "  SELECT \n",
        "    ?Subject\n",
        "  WHERE { \n",
        "    ?Subject rdfs:subClassOf/rdfs:subClassOf* ns:Person.\n",
        "  }\n",
        "  ''',\n",
        "  initNs = {\"rdfs\":RDFS, \"ns\":ns}\n",
        ")\n",
        "\n",
        "for r in g.query(q1):\n",
        "  print(r)"
      ],
      "execution_count": 3,
      "outputs": [
        {
          "output_type": "stream",
          "text": [
            "http://somewhere#Researcher\n",
            "http://somewhere#PhDstudent\n",
            "(rdflib.term.URIRef('http://somewhere#Researcher'),)\n",
            "(rdflib.term.URIRef('http://somewhere#PhDstudent'),)\n"
          ],
          "name": "stdout"
        }
      ]
    },
    {
      "cell_type": "markdown",
      "metadata": {
        "id": "gM3DASkTQQ5Y"
      },
      "source": [
        "**TASK 7.2: List all individuals of \"Person\" with RDFLib and SPARQL (remember the subClasses)**\n"
      ]
    },
    {
      "cell_type": "code",
      "metadata": {
        "id": "38YCvlELa3C0",
        "outputId": "1912600a-0a81-4e94-821a-7b308bdff833",
        "colab": {
          "base_uri": "https://localhost:8080/",
          "height": 121
        }
      },
      "source": [
        "\n",
        "for s,p,o in g.triples((None, RDF.type, ns.Person)):\n",
        "  print(s)\n",
        "\n",
        "for subClasses,p,o in g.triples((None, RDFS.subClassOf, ns.Person)):\n",
        "  for s,p,o in g.triples((None, RDF.type, subClasses)):\n",
        "    print(s)\n",
        "\n",
        "#SPARQL\n",
        "\n",
        "q2 = prepareQuery('''\n",
        "  SELECT \n",
        "    ?Subject \n",
        "   WHERE {\n",
        "    { \n",
        "      ?Subject rdf:type ns:Person.\n",
        "    }\n",
        "    UNION {\n",
        "      ?subclasses rdfs:subClassOf/rdfs:subClassOf* ns:Person.\n",
        "      ?Subject rdf:type ?subclasses\n",
        "    } \n",
        "  }\n",
        "  ''',\n",
        "  initNs = {\"ns\":ns}\n",
        ")\n",
        "for r in g.query(q2):\n",
        "  print(r)\n"
      ],
      "execution_count": 7,
      "outputs": [
        {
          "output_type": "stream",
          "text": [
            "http://somewhere#SaraJones\n",
            "http://somewhere#JohnSmith\n",
            "http://somewhere#JaneSmith\n",
            "(rdflib.term.URIRef('http://somewhere#SaraJones'),)\n",
            "(rdflib.term.URIRef('http://somewhere#JohnSmith'),)\n",
            "(rdflib.term.URIRef('http://somewhere#JaneSmith'),)\n"
          ],
          "name": "stdout"
        }
      ]
    },
    {
      "cell_type": "code",
      "metadata": {
        "id": "7tfoyMGrbvzJ"
      },
      "source": [
        ""
      ],
      "execution_count": null,
      "outputs": []
    },
    {
      "cell_type": "markdown",
      "metadata": {
        "id": "MXBqtBkJd22I"
      },
      "source": [
        "**TASK 7.3: List all individuals of \"Person\" and all their properties including their class with RDFLib and SPARQL**\n"
      ]
    },
    {
      "cell_type": "code",
      "metadata": {
        "id": "Zf7K1NXFb1IE",
        "outputId": "6d22bcb8-1159-4061-efce-46ed267a8916",
        "colab": {
          "base_uri": "https://localhost:8080/",
          "height": 315
        }
      },
      "source": [
        "\n",
        "for s,p,o in g.triples((None, RDF.type, ns.Person)):\n",
        "  for s1,p1,o1 in g.triples((s,None,None)):\n",
        "    print(s1,p1,o1)\n",
        "\n",
        "for subClasses,p,o in g.triples((None, RDFS.subClassOf, ns.Person)):\n",
        "  for s,p,o in g.triples((None, RDF.type, subClasses)):\n",
        "    for s1,p1,o1 in g.triples((s,None,None)):\n",
        "      print(s1,p1,o1)\n",
        "\n",
        "#SPARQL \n",
        "\n",
        "q3 = prepareQuery('''\n",
        "  SELECT \n",
        "    ?Subject ?p ?o\n",
        "  WHERE {\n",
        "      ?subclasses rdfs:subClassOf/rdfs:subClassOf* ns:Person.\n",
        "      ?Subject rdf:type ?subclasses.\n",
        "      ?Subject ?p ?o\n",
        "  }\n",
        "  ''',\n",
        "  initNs = {\"ns\":ns}\n",
        ")\n",
        "\n",
        "for r in g.query(q3):\n",
        "  print(r)"
      ],
      "execution_count": null,
      "outputs": [
        {
          "output_type": "stream",
          "text": [
            "http://somewhere#JohnSmith http://somewhere#http://www.w3.org/2001/vcard-rdf/3.0/Given John\n",
            "http://somewhere#JohnSmith http://www.w3.org/1999/02/22-rdf-syntax-ns#type http://somewhere#Person\n",
            "http://somewhere#JohnSmith http://somewhere#http://www.w3.org/2001/vcard-rdf/3.0/FN John Smith\n",
            "http://somewhere#JohnSmith http://somewhere#http://www.w3.org/2001/vcard-rdf/3.0/Family Smith\n",
            "http://somewhere#SaraJones http://somewhere#http://www.w3.org/2001/vcard-rdf/3.0/Family Jones\n",
            "http://somewhere#SaraJones http://www.w3.org/1999/02/22-rdf-syntax-ns#type http://somewhere#Person\n",
            "http://somewhere#SaraJones http://somewhere#http://www.w3.org/2001/vcard-rdf/3.0/Given Sara\n",
            "http://somewhere#SaraJones http://somewhere#http://www.w3.org/2001/vcard-rdf/3.0/FN Sara Jones\n",
            "http://somewhere#JaneSmith http://www.w3.org/1999/02/22-rdf-syntax-ns#type http://somewhere#Researcher\n",
            "http://somewhere#JaneSmith http://somewhere#http://www.w3.org/2001/vcard-rdf/3.0/FN jane Smith\n",
            "http://somewhere#JaneSmith http://somewhere#http://www.w3.org/2001/vcard-rdf/3.0/Given Jane\n",
            "http://somewhere#JaneSmith http://somewhere#http://www.w3.org/2001/vcard-rdf/3.0/Family Smith\n",
            "(rdflib.term.URIRef('http://somewhere#JaneSmith'), rdflib.term.URIRef('http://www.w3.org/1999/02/22-rdf-syntax-ns#type'), rdflib.term.URIRef('http://somewhere#Researcher'))\n",
            "(rdflib.term.URIRef('http://somewhere#JaneSmith'), rdflib.term.URIRef('http://somewhere#http://www.w3.org/2001/vcard-rdf/3.0/FN'), rdflib.term.Literal('jane Smith', datatype=rdflib.term.URIRef('http://www.w3.org/2001/XMLSchema#string')))\n",
            "(rdflib.term.URIRef('http://somewhere#JaneSmith'), rdflib.term.URIRef('http://somewhere#http://www.w3.org/2001/vcard-rdf/3.0/Given'), rdflib.term.Literal('Jane', datatype=rdflib.term.URIRef('http://www.w3.org/2001/XMLSchema#string')))\n",
            "(rdflib.term.URIRef('http://somewhere#JaneSmith'), rdflib.term.URIRef('http://somewhere#http://www.w3.org/2001/vcard-rdf/3.0/Family'), rdflib.term.Literal('Smith', datatype=rdflib.term.URIRef('http://www.w3.org/2001/XMLSchema#string')))\n"
          ],
          "name": "stdout"
        }
      ]
    }
  ]
}