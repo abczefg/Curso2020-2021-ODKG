{
 "cells": [
  {
   "cell_type": "code",
   "execution_count": 1,
   "metadata": {},
   "outputs": [
    {
     "name": "stdout",
     "output_type": "stream",
     "text": [
      "Requirement already satisfied: rdflib in c:\\users\\marti\\anaconda3\\lib\\site-packages (5.0.0)\n",
      "Requirement already satisfied: pyparsing in c:\\users\\marti\\anaconda3\\lib\\site-packages (from rdflib) (2.4.0)\n",
      "Requirement already satisfied: six in c:\\users\\marti\\anaconda3\\lib\\site-packages (from rdflib) (1.12.0)\n",
      "Requirement already satisfied: isodate in c:\\users\\marti\\anaconda3\\lib\\site-packages (from rdflib) (0.6.0)\n"
     ]
    }
   ],
   "source": [
    "!pip install rdflib"
   ]
  },
  {
   "cell_type": "code",
   "execution_count": 2,
   "metadata": {},
   "outputs": [
    {
     "data": {
      "text/plain": [
       "<Graph identifier=Ncd1bc4c76af444cc999284a4900c1795 (<class 'rdflib.graph.Graph'>)>"
      ]
     },
     "execution_count": 2,
     "metadata": {},
     "output_type": "execute_result"
    }
   ],
   "source": [
    "from rdflib import Graph, Namespace, Literal\n",
    "from rdflib.namespace import RDF, RDFS\n",
    "g = Graph()\n",
    "example = Graph()\n",
    "\n",
    "g.parse(\"../ontology/Presupuesto_Ayuntamiento_Madrid.ttl\", format=\"ttl\")\n",
    "example.parse(\"../ontology/example.ttl\", format=\"ttl\")"
   ]
  },
  {
   "cell_type": "markdown",
   "metadata": {},
   "source": [
    "First, let's see both graphs in turtle format.\n",
    "\n",
    "* The ontology:"
   ]
  },
  {
   "cell_type": "code",
   "execution_count": 3,
   "metadata": {},
   "outputs": [
    {
     "name": "stdout",
     "output_type": "stream",
     "text": [
      "@prefix default: <http://group10.com/ontology/> .\n",
      "@prefix owl: <http://www.w3.org/2002/07/owl#> .\n",
      "@prefix rdfs: <http://www.w3.org/2000/01/rdf-schema#> .\n",
      "@prefix xsd: <http://www.w3.org/2001/XMLSchema#> .\n",
      "\n",
      "<http://group10.com> a owl:Ontology .\n",
      "\n",
      "default:creditoDispuesto a owl:DatatypeProperty ;\n",
      "    rdfs:domain default:Gastos ;\n",
      "    rdfs:range xsd:float .\n",
      "\n",
      "default:creditoGastado a owl:DatatypeProperty ;\n",
      "    rdfs:domain default:Gastos ;\n",
      "    rdfs:range xsd:float .\n",
      "\n",
      "default:descripcion a owl:DatatypeProperty ;\n",
      "    rdfs:range xsd:string .\n",
      "\n",
      "default:id a owl:DatatypeProperty ;\n",
      "    rdfs:range xsd:string .\n",
      "\n",
      "default:previsionIngresos a owl:DatatypeProperty ;\n",
      "    rdfs:domain default:Ingresos ;\n",
      "    rdfs:range xsd:float .\n",
      "\n",
      "default:recaudado a owl:DatatypeProperty ;\n",
      "    rdfs:domain default:Ingresos ;\n",
      "    rdfs:range xsd:float .\n",
      "\n",
      "default:tieneCapitulo a owl:DatatypeProperty ;\n",
      "    rdfs:domain default:Economico ;\n",
      "    rdfs:range xsd:string .\n",
      "\n",
      "default:tienePrograma a owl:DatatypeProperty ;\n",
      "    rdfs:domain default:Gastos ;\n",
      "    rdfs:range xsd:string .\n",
      "\n",
      "default:tieneSeccion a owl:DatatypeProperty ;\n",
      "    rdfs:domain default:Gastos ;\n",
      "    rdfs:range xsd:string .\n",
      "\n",
      "default:tieneCentro a owl:InverseFunctionalProperty,\n",
      "        owl:ObjectProperty ;\n",
      "    rdfs:domain default:Economico ;\n",
      "    rdfs:range default:Centro ;\n",
      "    owl:inverseOf default:tieneEconomico .\n",
      "\n",
      "default:tieneEconomico a owl:InverseFunctionalProperty,\n",
      "        owl:ObjectProperty ;\n",
      "    rdfs:domain default:Centro ;\n",
      "    rdfs:range default:Economico ;\n",
      "    owl:inverseOf default:tieneCentro .\n",
      "\n",
      "default:Centro a owl:Class .\n",
      "\n",
      "default:Ingresos a owl:Class ;\n",
      "    rdfs:subClassOf default:Economico .\n",
      "\n",
      "default:Gastos a owl:Class ;\n",
      "    rdfs:subClassOf default:Economico .\n",
      "\n",
      "default:Economico a owl:Class .\n",
      "\n",
      "\n"
     ]
    }
   ],
   "source": [
    "print(g.serialize(format=\"ttl\").decode(\"UTF-8\"))"
   ]
  },
  {
   "cell_type": "markdown",
   "metadata": {},
   "source": [
    "* The example"
   ]
  },
  {
   "cell_type": "code",
   "execution_count": 4,
   "metadata": {},
   "outputs": [
    {
     "name": "stdout",
     "output_type": "stream",
     "text": [
      "@prefix default: <http://group10.com/ontology/> .\n",
      "@prefix owl: <http://www.w3.org/2002/07/owl#> .\n",
      "@prefix rdfs: <http://www.w3.org/2000/01/rdf-schema#> .\n",
      "@prefix xsd: <http://www.w3.org/2001/XMLSchema#> .\n",
      "\n",
      "<http://group10.com> a owl:Ontology .\n",
      "\n",
      "default:creditoDispuesto a owl:DatatypeProperty ;\n",
      "    rdfs:domain default:Gastos ;\n",
      "    rdfs:range xsd:float .\n",
      "\n",
      "default:creditoGastado a owl:DatatypeProperty ;\n",
      "    rdfs:domain default:Gastos ;\n",
      "    rdfs:range xsd:float .\n",
      "\n",
      "default:descripcion a owl:DatatypeProperty ;\n",
      "    rdfs:range xsd:string .\n",
      "\n",
      "default:id a owl:DatatypeProperty ;\n",
      "    rdfs:range xsd:string .\n",
      "\n",
      "default:previsionIngresos a owl:DatatypeProperty ;\n",
      "    rdfs:domain default:Ingresos ;\n",
      "    rdfs:range xsd:float .\n",
      "\n",
      "default:recaudado a owl:DatatypeProperty ;\n",
      "    rdfs:domain default:Ingresos ;\n",
      "    rdfs:range xsd:float .\n",
      "\n",
      "default:tieneCapitulo a owl:DatatypeProperty ;\n",
      "    rdfs:domain default:Economico ;\n",
      "    rdfs:range xsd:string .\n",
      "\n",
      "default:tienePrograma a owl:DatatypeProperty ;\n",
      "    rdfs:domain default:Gastos ;\n",
      "    rdfs:range xsd:string .\n",
      "\n",
      "default:tieneSeccion a owl:DatatypeProperty ;\n",
      "    rdfs:domain default:Gastos ;\n",
      "    rdfs:range xsd:string .\n",
      "\n",
      "default:tieneCentro a owl:InverseFunctionalProperty,\n",
      "        owl:ObjectProperty ;\n",
      "    rdfs:domain default:Economico ;\n",
      "    rdfs:range default:Centro ;\n",
      "    owl:inverseOf default:tieneEconomico .\n",
      "\n",
      "default:tieneEconomico a owl:InverseFunctionalProperty,\n",
      "        owl:ObjectProperty ;\n",
      "    rdfs:domain default:Centro ;\n",
      "    rdfs:range default:Economico ;\n",
      "    owl:inverseOf default:tieneCentro .\n",
      "\n",
      "<http://group10.com/resource/Gastos/Canones> a default:Gastos ;\n",
      "    default:creditoDispuesto \"3630.0\"^^xsd:float ;\n",
      "    default:creditoGastado \"3630.0\"^^xsd:float ;\n",
      "    default:descripcion \"Cánones\"@es ;\n",
      "    default:id \"20901\"@es ;\n",
      "    default:tieneCapitulo \"Gastos en Bienes Corrientes y Servicios\"@es ;\n",
      "    default:tieneCentro <http://group10.com/resource/Centro/AyuntamientoMadrid> ;\n",
      "    default:tienePrograma \"Promoción del Plan de Derechos Humanos\"@es ;\n",
      "    default:tieneSeccion \"Presidencia del Pleno\"@es .\n",
      "\n",
      "<http://group10.com/resource/Ingresos/IRPF> a default:Ingresos ;\n",
      "    default:descripcion \"Impuesto sobre la Renta de las Personas Físicas\"@es ;\n",
      "    default:id \"10000\"@es ;\n",
      "    default:previsionIngresos \"130870792.0\"^^xsd:float ;\n",
      "    default:recaudado \"154049248.0\"^^xsd:float ;\n",
      "    default:tieneCapitulo \"Impuestos directos\"@es ;\n",
      "    default:tieneCentro <http://group10.com/resource/Centro/AyuntamientoMadrid> .\n",
      "\n",
      "<http://group10.com/resource/Centro/AyuntamientoMadrid> a default:Centro ;\n",
      "    default:descripcion \"Ayuntamiento de Madrid\"@es ;\n",
      "    default:id \"1\"@es ;\n",
      "    default:tieneEconomico <http://group10.com/resource/Gastos/Canones>,\n",
      "        <http://group10.com/resource/Ingresos/IRPF> .\n",
      "\n",
      "default:Centro a owl:Class .\n",
      "\n",
      "default:Ingresos a owl:Class ;\n",
      "    rdfs:subClassOf default:Economico .\n",
      "\n",
      "default:Economico a owl:Class .\n",
      "\n",
      "default:Gastos a owl:Class ;\n",
      "    rdfs:subClassOf default:Economico .\n",
      "\n",
      "\n"
     ]
    }
   ],
   "source": [
    "print(example.serialize(format=\"ttl\").decode(\"UTF-8\"))"
   ]
  },
  {
   "cell_type": "markdown",
   "metadata": {},
   "source": [
    "Show all the elements of the ontology, including the class that each one belongs to:"
   ]
  },
  {
   "cell_type": "code",
   "execution_count": 5,
   "metadata": {},
   "outputs": [
    {
     "name": "stdout",
     "output_type": "stream",
     "text": [
      "Element: http://group10.com/ontology/tieneCentro -  Class: http://www.w3.org/2002/07/owl#ObjectProperty\n",
      "Element: http://group10.com/ontology/Gastos -  Class: http://www.w3.org/2002/07/owl#Class\n",
      "Element: http://group10.com/ontology/id -  Class: http://www.w3.org/2002/07/owl#DatatypeProperty\n",
      "Element: http://group10.com/ontology/tieneCapitulo -  Class: http://www.w3.org/2002/07/owl#DatatypeProperty\n",
      "Element: http://group10.com/ontology/Centro -  Class: http://www.w3.org/2002/07/owl#Class\n",
      "Element: http://group10.com/ontology/previsionIngresos -  Class: http://www.w3.org/2002/07/owl#DatatypeProperty\n",
      "Element: http://group10.com/ontology/tienePrograma -  Class: http://www.w3.org/2002/07/owl#DatatypeProperty\n",
      "Element: http://group10.com/ontology/creditoGastado -  Class: http://www.w3.org/2002/07/owl#DatatypeProperty\n",
      "Element: http://group10.com/ontology/Ingresos -  Class: http://www.w3.org/2002/07/owl#Class\n",
      "Element: http://group10.com/ontology/tieneSeccion -  Class: http://www.w3.org/2002/07/owl#DatatypeProperty\n",
      "Element: http://group10.com/ontology/descripcion -  Class: http://www.w3.org/2002/07/owl#DatatypeProperty\n",
      "Element: http://group10.com/ontology/recaudado -  Class: http://www.w3.org/2002/07/owl#DatatypeProperty\n",
      "Element: http://group10.com/ontology/creditoDispuesto -  Class: http://www.w3.org/2002/07/owl#DatatypeProperty\n",
      "Element: http://group10.com/ontology/tieneEconomico -  Class: http://www.w3.org/2002/07/owl#InverseFunctionalProperty\n",
      "Element: http://group10.com/ontology/tieneCentro -  Class: http://www.w3.org/2002/07/owl#InverseFunctionalProperty\n",
      "Element: http://group10.com/ontology/tieneEconomico -  Class: http://www.w3.org/2002/07/owl#ObjectProperty\n",
      "Element: http://group10.com/ontology/Economico -  Class: http://www.w3.org/2002/07/owl#Class\n",
      "Element: http://group10.com -  Class: http://www.w3.org/2002/07/owl#Ontology\n"
     ]
    }
   ],
   "source": [
    "from rdflib.plugins.sparql import prepareQuery\n",
    "query_all_elements = prepareQuery('''\n",
    "    SELECT DISTINCT ?x ?y\n",
    "    WHERE\n",
    "    {\n",
    "      ?x rdf:type ?y\n",
    "    }\n",
    "  '''\n",
    ")\n",
    "\n",
    "for r in g.query(query_all_elements):\n",
    "  print(\"Element: \" + str(r.x) + \" -  Class: \" + str(r.y))"
   ]
  },
  {
   "cell_type": "markdown",
   "metadata": {},
   "source": [
    "Show the classes of the ontology:"
   ]
  },
  {
   "cell_type": "code",
   "execution_count": 6,
   "metadata": {},
   "outputs": [
    {
     "name": "stdout",
     "output_type": "stream",
     "text": [
      "http://group10.com/ontology/Ingresos\n",
      "http://group10.com/ontology/Centro\n",
      "http://group10.com/ontology/Gastos\n",
      "http://group10.com/ontology/Economico\n"
     ]
    }
   ],
   "source": [
    "from rdflib.plugins.sparql import prepareQuery\n",
    "\n",
    "owl = Namespace(\"http://www.w3.org/2002/07/owl#\")\n",
    "\n",
    "# It can be also done in this way:\n",
    "#for s,p,o in g.triples((None, None, owl.Class)):\n",
    "#  print(s)\n",
    "\n",
    "query_class = prepareQuery('''\n",
    "    SELECT DISTINCT ?x\n",
    "    WHERE\n",
    "    {\n",
    "      ?x a owl:Class\n",
    "    }\n",
    "  ''',\n",
    "  initNs = { \"owl\": owl }\n",
    ")\n",
    "\n",
    "\n",
    "for r in g.query(query_class):\n",
    "  print(r.x)"
   ]
  },
  {
   "cell_type": "markdown",
   "metadata": {},
   "source": [
    "Count all the classes:"
   ]
  },
  {
   "cell_type": "code",
   "execution_count": 7,
   "metadata": {},
   "outputs": [
    {
     "name": "stdout",
     "output_type": "stream",
     "text": [
      "4\n"
     ]
    }
   ],
   "source": [
    "query_count = prepareQuery('''\n",
    "    SELECT (count(?x) as ?cuenta)\n",
    "    WHERE\n",
    "    {\n",
    "      ?x a owl:Class\n",
    "    }\n",
    "  ''',\n",
    "  initNs = { \"owl\": owl }\n",
    ")\n",
    "\n",
    "\n",
    "for r in g.query(query_count):\n",
    "  print(r.cuenta)"
   ]
  },
  {
   "cell_type": "markdown",
   "metadata": {},
   "source": [
    "See all the properties of the ontology, divided by the type of the property:"
   ]
  },
  {
   "cell_type": "code",
   "execution_count": 8,
   "metadata": {},
   "outputs": [
    {
     "name": "stdout",
     "output_type": "stream",
     "text": [
      "Datatype Properties:\n",
      "http://group10.com/ontology/tieneSeccion\n",
      "http://group10.com/ontology/descripcion\n",
      "http://group10.com/ontology/recaudado\n",
      "http://group10.com/ontology/creditoDispuesto\n",
      "http://group10.com/ontology/id\n",
      "http://group10.com/ontology/tieneCapitulo\n",
      "http://group10.com/ontology/previsionIngresos\n",
      "http://group10.com/ontology/tienePrograma\n",
      "http://group10.com/ontology/creditoGastado\n",
      "Object properties\n",
      "http://group10.com/ontology/tieneEconomico\n",
      "http://group10.com/ontology/tieneCentro\n"
     ]
    }
   ],
   "source": [
    "query_properties = prepareQuery('''\n",
    "    SELECT DISTINCT ?data\n",
    "    WHERE\n",
    "    {\n",
    "      ?data a owl:DatatypeProperty.\n",
    "    }\n",
    "  ''',\n",
    "  initNs = { \"owl\": owl }\n",
    ")\n",
    "\n",
    "\n",
    "query_properties2 = prepareQuery('''\n",
    "    SELECT DISTINCT ?obj\n",
    "    WHERE\n",
    "    {\n",
    "      ?obj a owl:ObjectProperty\n",
    "    }\n",
    "  ''',\n",
    "  initNs = { \"owl\": owl }\n",
    ")\n",
    "\n",
    "\n",
    "\n",
    "print(\"Datatype Properties:\")\n",
    "for r in g.query(query_properties):\n",
    "  print(r.data)\n",
    "\n",
    "print(\"Object properties\")\n",
    "for r in g.query(query_properties2):\n",
    "  print(r.obj)"
   ]
  },
  {
   "cell_type": "markdown",
   "metadata": {},
   "source": [
    "All the classes with the property \"tieneCentro\":"
   ]
  },
  {
   "cell_type": "code",
   "execution_count": 9,
   "metadata": {
    "scrolled": false
   },
   "outputs": [
    {
     "name": "stdout",
     "output_type": "stream",
     "text": [
      "http://group10.com/ontology/Ingresos\n",
      "http://group10.com/ontology/Gastos\n"
     ]
    }
   ],
   "source": [
    "ns = Namespace(\"http://group10.com/ontology/\")\n",
    "\n",
    "query_tieneCentro = prepareQuery('''\n",
    "    SELECT DISTINCT ?x ?y ?clase\n",
    "    WHERE\n",
    "    {\n",
    "      ?x ?tieneCentro ?y.\n",
    "      ?x a ?clase.\n",
    "    }\n",
    "  '''\n",
    ")\n",
    "\n",
    "\n",
    "for r in example.query(query_tieneCentro, initBindings = {'?tieneCentro' : ns.tieneCentro}):\n",
    "  print(r.clase)"
   ]
  },
  {
   "cell_type": "markdown",
   "metadata": {},
   "source": [
    "See all the instances of the example:"
   ]
  },
  {
   "cell_type": "code",
   "execution_count": 10,
   "metadata": {},
   "outputs": [
    {
     "name": "stdout",
     "output_type": "stream",
     "text": [
      "http://group10.com/resource/Gastos/Canones\n",
      "http://group10.com/resource/Ingresos/IRPF\n",
      "http://group10.com/resource/Centro/AyuntamientoMadrid\n"
     ]
    }
   ],
   "source": [
    "query_instances = prepareQuery('''\n",
    "    SELECT DISTINCT ?x\n",
    "    WHERE\n",
    "    {\n",
    "      ?x a ?y.\n",
    "      ?y a owl:Class.\n",
    "    }\n",
    "  ''',\n",
    "  initNs = { \"owl\": owl }\n",
    ")\n",
    "\n",
    "for r in example.query(query_instances):\n",
    "  print(r.x)"
   ]
  },
  {
   "cell_type": "markdown",
   "metadata": {},
   "source": [
    "Show the instances that belong to the class \"Centro\":"
   ]
  },
  {
   "cell_type": "code",
   "execution_count": 11,
   "metadata": {},
   "outputs": [
    {
     "name": "stdout",
     "output_type": "stream",
     "text": [
      "http://group10.com/resource/Centro/AyuntamientoMadrid\n"
     ]
    }
   ],
   "source": [
    "query_instances_class = prepareQuery('''\n",
    "    SELECT DISTINCT ?y\n",
    "    WHERE\n",
    "    {\n",
    "      ?y a ?class.\n",
    "      \n",
    "    }\n",
    "  ''',\n",
    "  initNs = { \"owl\": owl }\n",
    ")\n",
    "\n",
    "\n",
    "for r in example.query(query_instances_class, initBindings = {'?class' : ns.Centro}):\n",
    "  print(r.y)"
   ]
  },
  {
   "cell_type": "markdown",
   "metadata": {},
   "source": [
    "Show all the properties and their values of the instance of the class \"Gastos\""
   ]
  },
  {
   "cell_type": "code",
   "execution_count": 12,
   "metadata": {},
   "outputs": [
    {
     "name": "stdout",
     "output_type": "stream",
     "text": [
      "Property: http://group10.com/ontology/tieneCapitulo - Value: Gastos en Bienes Corrientes y Servicios\n",
      "Property: http://group10.com/ontology/creditoGastado - Value: 3630.0\n",
      "Property: http://group10.com/ontology/tieneSeccion - Value: Presidencia del Pleno\n",
      "Property: http://group10.com/ontology/creditoDispuesto - Value: 3630.0\n",
      "Property: http://www.w3.org/1999/02/22-rdf-syntax-ns#type - Value: http://group10.com/ontology/Gastos\n",
      "Property: http://group10.com/ontology/tienePrograma - Value: Promoción del Plan de Derechos Humanos\n",
      "Property: http://group10.com/ontology/descripcion - Value: Cánones\n",
      "Property: http://group10.com/ontology/id - Value: 20901\n",
      "Property: http://group10.com/ontology/tieneCentro - Value: http://group10.com/resource/Centro/AyuntamientoMadrid\n"
     ]
    }
   ],
   "source": [
    "#Properties and possible values of a certain class\n",
    "\n",
    "query_property_value = prepareQuery('''\n",
    "    SELECT DISTINCT ?prop ?y\n",
    "\n",
    "    WHERE {\n",
    "     ?x a ?class.\n",
    "     ?x ?prop ?y.\n",
    "     } \n",
    "\n",
    "  ''',\n",
    "  initNs = { \"owl\": owl}\n",
    ")\n",
    "\n",
    "\n",
    "for r in example.query(query_property_value, initBindings = {'?class' : ns.Gastos}):\n",
    "  print(\"Property: \" + str(r.prop) + \" - Value: \" + str(r.y))"
   ]
  },
  {
   "cell_type": "markdown",
   "metadata": {},
   "source": [
    "Finally, let's see if there is any \"Ingreso\" of more than 1000000 euros:"
   ]
  },
  {
   "cell_type": "code",
   "execution_count": 13,
   "metadata": {},
   "outputs": [
    {
     "name": "stdout",
     "output_type": "stream",
     "text": [
      "Ingreso: http://group10.com/resource/Ingresos/IRPF - Quantity: 154049248.0\n"
     ]
    }
   ],
   "source": [
    "query_ingresos = prepareQuery('''\n",
    "    SELECT DISTINCT ?x ?y\n",
    "    WHERE\n",
    "    {\n",
    "      ?x a ?class.\n",
    "      ?x ?ingresos ?y\n",
    "      FILTER (?y > 1000000)\n",
    "\n",
    "    }\n",
    "\n",
    "  ''',\n",
    "  initNs = { \"ns\": ns}\n",
    ")\n",
    "\n",
    "\n",
    "for r in example.query(query_ingresos, initBindings = {'?class' : ns.Ingresos, \"?ingresos\" : ns.recaudado}):\n",
    "  print(\"Ingreso: \" + str(r.x) + \" - Quantity: \" + r.y)"
   ]
  }
 ],
 "metadata": {
  "kernelspec": {
   "display_name": "Python 3",
   "language": "python",
   "name": "python3"
  },
  "language_info": {
   "codemirror_mode": {
    "name": "ipython",
    "version": 3
   },
   "file_extension": ".py",
   "mimetype": "text/x-python",
   "name": "python",
   "nbconvert_exporter": "python",
   "pygments_lexer": "ipython3",
   "version": "3.7.3"
  }
 },
 "nbformat": 4,
 "nbformat_minor": 4
}
